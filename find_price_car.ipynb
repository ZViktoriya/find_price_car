{
 "cells": [
  {
   "cell_type": "markdown",
   "metadata": {},
   "source": [
    "# Содержание\n",
    "1. [Подготовка данных](#section-1)\n",
    "\n",
    "   1.1 [Загружаем данные и изучим их](#section-11)\n",
    "   \n",
    "   1.2 [Обработаем аномалии в столбцах](#section-12)\n",
    "   \n",
    "   1.3 [Удалим неинформативные признаки](#section-13)\n",
    "   \n",
    "   1.4 [Заполним пропущенные значения](#section-14) \n",
    "   \n",
    "   \n",
    "2. [Обучение моделей](#section-2)\n",
    "\n",
    "   2.1 [Подготовим выборки для обучения моделей](#section-21)\n",
    "   \n",
    "   2.2 [Обучим разные модели](#section-22)\n",
    "   \n",
    "   2.3 [Проанализируем время обучения, время предсказания и качество моделей](#section-23)\n",
    "   \n",
    "   \n",
    "3. [Анализ моделей](#section-3)\n",
    "\n",
    "   3.1 [Проверим качество лучшей модели на тестовой выборке](#section-31)\n",
    "   \n",
    "   3.2 [Визуализируем важность признаков в модели CatBoost](#section-32)\n",
    "   \n",
    "   \n",
    "4. [Чек-лист проверки](#section-4)\n"
   ]
  },
  {
   "cell_type": "markdown",
   "metadata": {},
   "source": [
    "# **<p style=\"text-align: center;\">Определение стоимости автомобилей.</p>**"
   ]
  },
  {
   "cell_type": "markdown",
   "metadata": {},
   "source": [
    "Сервис по продаже автомобилей с пробегом «Не бит, не крашен» разрабатывает приложение для привлечения новых клиентов. В нём можно быстро узнать рыночную стоимость своего автомобиля. В проекте представлены технические характеристики, комплектации и цены автомобилей. Задача: построить модель для определения стоимости. \n",
    "\n",
    "Заказчику важны:\n",
    "\n",
    "- качество предсказания;\n",
    "- скорость предсказания;\n",
    "- время обучения."
   ]
  },
  {
   "cell_type": "markdown",
   "metadata": {},
   "source": [
    "<img src=\"https://bu63.ru/images/articles/servis/service.jpeg\" alt=\"Avto\" width=\"30%\" height=\"30%\">"
   ]
  },
  {
   "cell_type": "markdown",
   "metadata": {},
   "source": [
    "**<p style=\"text-align: center;\">Описание данных:</p>**\n",
    "\n",
    "**Признаки:**\n",
    "\n",
    "DateCrawled — дата скачивания анкеты из базы\n",
    "\n",
    "VehicleType — тип автомобильного кузова\n",
    "\n",
    "RegistrationYear — год регистрации автомобиля\n",
    "\n",
    "Gearbox — тип коробки передач\n",
    "\n",
    "Power — мощность (л. с.)\n",
    "\n",
    "Model — модель автомобиля\n",
    "\n",
    "Kilometer — пробег (км)\n",
    "\n",
    "RegistrationMonth — месяц регистрации автомобиля\n",
    "\n",
    "FuelType — тип топлива\n",
    "\n",
    "Brand — марка автомобиля\n",
    "\n",
    "Repaired — была машина в ремонте или нет\n",
    "\n",
    "DateCreated — дата создания анкеты\n",
    "\n",
    "NumberOfPictures — количество фотографий автомобиля\n",
    "\n",
    "PostalCode — почтовый индекс владельца анкеты (пользователя)\n",
    "\n",
    "LastSeen — дата последней активности пользователя\n",
    "\n",
    "**Целевой признак:**\n",
    "\n",
    "Price — цена (евро)"
   ]
  },
  {
   "cell_type": "markdown",
   "metadata": {},
   "source": [
    "## Подготовка данных"
   ]
  },
  {
   "cell_type": "code",
   "execution_count": 1,
   "metadata": {},
   "outputs": [
    {
     "name": "stdout",
     "output_type": "stream",
     "text": [
      "Requirement already satisfied: lightgbm in /opt/conda/lib/python3.9/site-packages (4.0.0)\n",
      "Requirement already satisfied: numpy in /opt/conda/lib/python3.9/site-packages (from lightgbm) (1.21.1)\n",
      "Requirement already satisfied: scipy in /opt/conda/lib/python3.9/site-packages (from lightgbm) (1.9.1)\n",
      "Note: you may need to restart the kernel to use updated packages.\n"
     ]
    }
   ],
   "source": [
    "pip install --upgrade lightgbm"
   ]
  },
  {
   "cell_type": "code",
   "execution_count": 2,
   "metadata": {},
   "outputs": [
    {
     "name": "stdout",
     "output_type": "stream",
     "text": [
      "Requirement already satisfied: sweetviz in /opt/conda/lib/python3.9/site-packages (2.2.1)\n",
      "Requirement already satisfied: numpy>=1.16.0 in /opt/conda/lib/python3.9/site-packages (from sweetviz) (1.21.1)\n",
      "Requirement already satisfied: tqdm>=4.43.0 in /opt/conda/lib/python3.9/site-packages (from sweetviz) (4.61.2)\n",
      "Requirement already satisfied: jinja2>=2.11.1 in /opt/conda/lib/python3.9/site-packages (from sweetviz) (3.0.1)\n",
      "Requirement already satisfied: scipy>=1.3.2 in /opt/conda/lib/python3.9/site-packages (from sweetviz) (1.9.1)\n",
      "Requirement already satisfied: importlib-resources>=1.2.0 in /opt/conda/lib/python3.9/site-packages (from sweetviz) (6.0.1)\n",
      "Requirement already satisfied: matplotlib>=3.1.3 in /opt/conda/lib/python3.9/site-packages (from sweetviz) (3.3.4)\n",
      "Requirement already satisfied: pandas!=1.0.0,!=1.0.1,!=1.0.2,>=0.25.3 in /opt/conda/lib/python3.9/site-packages (from sweetviz) (1.2.4)\n",
      "Requirement already satisfied: zipp>=3.1.0 in /opt/conda/lib/python3.9/site-packages (from importlib-resources>=1.2.0->sweetviz) (3.5.0)\n",
      "Requirement already satisfied: MarkupSafe>=2.0 in /opt/conda/lib/python3.9/site-packages (from jinja2>=2.11.1->sweetviz) (2.1.1)\n",
      "Requirement already satisfied: pillow>=6.2.0 in /opt/conda/lib/python3.9/site-packages (from matplotlib>=3.1.3->sweetviz) (8.4.0)\n",
      "Requirement already satisfied: python-dateutil>=2.1 in /opt/conda/lib/python3.9/site-packages (from matplotlib>=3.1.3->sweetviz) (2.8.1)\n",
      "Requirement already satisfied: cycler>=0.10 in /opt/conda/lib/python3.9/site-packages (from matplotlib>=3.1.3->sweetviz) (0.11.0)\n",
      "Requirement already satisfied: kiwisolver>=1.0.1 in /opt/conda/lib/python3.9/site-packages (from matplotlib>=3.1.3->sweetviz) (1.4.4)\n",
      "Requirement already satisfied: pyparsing!=2.0.4,!=2.1.2,!=2.1.6,>=2.0.3 in /opt/conda/lib/python3.9/site-packages (from matplotlib>=3.1.3->sweetviz) (2.4.7)\n",
      "Requirement already satisfied: pytz>=2017.3 in /opt/conda/lib/python3.9/site-packages (from pandas!=1.0.0,!=1.0.1,!=1.0.2,>=0.25.3->sweetviz) (2021.1)\n",
      "Requirement already satisfied: six>=1.5 in /opt/conda/lib/python3.9/site-packages (from python-dateutil>=2.1->matplotlib>=3.1.3->sweetviz) (1.16.0)\n",
      "Note: you may need to restart the kernel to use updated packages.\n"
     ]
    }
   ],
   "source": [
    "pip install sweetviz"
   ]
  },
  {
   "cell_type": "code",
   "execution_count": 3,
   "metadata": {},
   "outputs": [],
   "source": [
    "import re\n",
    "import time\n",
    "\n",
    "import numpy as np\n",
    "import pandas as pd\n",
    "import seaborn as sns\n",
    "import sweetviz as sv\n",
    "import matplotlib.pyplot as plt\n",
    "import os\n",
    "\n",
    "from sklearn.ensemble import RandomForestRegressor\n",
    "from sklearn.metrics import mean_squared_error\n",
    "from sklearn.model_selection import GridSearchCV, train_test_split\n",
    "from sklearn.preprocessing import LabelEncoder\n",
    "from sklearn.preprocessing import OrdinalEncoder\n",
    "from IPython.display import IFrame\n",
    "\n",
    "import lightgbm as lgb\n",
    "from catboost import CatBoostRegressor"
   ]
  },
  {
   "cell_type": "markdown",
   "metadata": {},
   "source": [
    "### Загружаем данные и изучим их."
   ]
  },
  {
   "cell_type": "code",
   "execution_count": 4,
   "metadata": {},
   "outputs": [],
   "source": [
    "avto_df = pd.read_csv('/datasets/autos.csv')"
   ]
  },
  {
   "cell_type": "code",
   "execution_count": 5,
   "metadata": {},
   "outputs": [
    {
     "data": {
      "text/html": [
       "<div>\n",
       "<style scoped>\n",
       "    .dataframe tbody tr th:only-of-type {\n",
       "        vertical-align: middle;\n",
       "    }\n",
       "\n",
       "    .dataframe tbody tr th {\n",
       "        vertical-align: top;\n",
       "    }\n",
       "\n",
       "    .dataframe thead th {\n",
       "        text-align: right;\n",
       "    }\n",
       "</style>\n",
       "<table border=\"1\" class=\"dataframe\">\n",
       "  <thead>\n",
       "    <tr style=\"text-align: right;\">\n",
       "      <th></th>\n",
       "      <th>DateCrawled</th>\n",
       "      <th>Price</th>\n",
       "      <th>VehicleType</th>\n",
       "      <th>RegistrationYear</th>\n",
       "      <th>Gearbox</th>\n",
       "      <th>Power</th>\n",
       "      <th>Model</th>\n",
       "      <th>Kilometer</th>\n",
       "      <th>RegistrationMonth</th>\n",
       "      <th>FuelType</th>\n",
       "      <th>Brand</th>\n",
       "      <th>Repaired</th>\n",
       "      <th>DateCreated</th>\n",
       "      <th>NumberOfPictures</th>\n",
       "      <th>PostalCode</th>\n",
       "      <th>LastSeen</th>\n",
       "    </tr>\n",
       "  </thead>\n",
       "  <tbody>\n",
       "    <tr>\n",
       "      <th>0</th>\n",
       "      <td>2016-03-24 11:52:17</td>\n",
       "      <td>480</td>\n",
       "      <td>NaN</td>\n",
       "      <td>1993</td>\n",
       "      <td>manual</td>\n",
       "      <td>0</td>\n",
       "      <td>golf</td>\n",
       "      <td>150000</td>\n",
       "      <td>0</td>\n",
       "      <td>petrol</td>\n",
       "      <td>volkswagen</td>\n",
       "      <td>NaN</td>\n",
       "      <td>2016-03-24 00:00:00</td>\n",
       "      <td>0</td>\n",
       "      <td>70435</td>\n",
       "      <td>2016-04-07 03:16:57</td>\n",
       "    </tr>\n",
       "    <tr>\n",
       "      <th>1</th>\n",
       "      <td>2016-03-24 10:58:45</td>\n",
       "      <td>18300</td>\n",
       "      <td>coupe</td>\n",
       "      <td>2011</td>\n",
       "      <td>manual</td>\n",
       "      <td>190</td>\n",
       "      <td>NaN</td>\n",
       "      <td>125000</td>\n",
       "      <td>5</td>\n",
       "      <td>gasoline</td>\n",
       "      <td>audi</td>\n",
       "      <td>yes</td>\n",
       "      <td>2016-03-24 00:00:00</td>\n",
       "      <td>0</td>\n",
       "      <td>66954</td>\n",
       "      <td>2016-04-07 01:46:50</td>\n",
       "    </tr>\n",
       "    <tr>\n",
       "      <th>2</th>\n",
       "      <td>2016-03-14 12:52:21</td>\n",
       "      <td>9800</td>\n",
       "      <td>suv</td>\n",
       "      <td>2004</td>\n",
       "      <td>auto</td>\n",
       "      <td>163</td>\n",
       "      <td>grand</td>\n",
       "      <td>125000</td>\n",
       "      <td>8</td>\n",
       "      <td>gasoline</td>\n",
       "      <td>jeep</td>\n",
       "      <td>NaN</td>\n",
       "      <td>2016-03-14 00:00:00</td>\n",
       "      <td>0</td>\n",
       "      <td>90480</td>\n",
       "      <td>2016-04-05 12:47:46</td>\n",
       "    </tr>\n",
       "    <tr>\n",
       "      <th>3</th>\n",
       "      <td>2016-03-17 16:54:04</td>\n",
       "      <td>1500</td>\n",
       "      <td>small</td>\n",
       "      <td>2001</td>\n",
       "      <td>manual</td>\n",
       "      <td>75</td>\n",
       "      <td>golf</td>\n",
       "      <td>150000</td>\n",
       "      <td>6</td>\n",
       "      <td>petrol</td>\n",
       "      <td>volkswagen</td>\n",
       "      <td>no</td>\n",
       "      <td>2016-03-17 00:00:00</td>\n",
       "      <td>0</td>\n",
       "      <td>91074</td>\n",
       "      <td>2016-03-17 17:40:17</td>\n",
       "    </tr>\n",
       "    <tr>\n",
       "      <th>4</th>\n",
       "      <td>2016-03-31 17:25:20</td>\n",
       "      <td>3600</td>\n",
       "      <td>small</td>\n",
       "      <td>2008</td>\n",
       "      <td>manual</td>\n",
       "      <td>69</td>\n",
       "      <td>fabia</td>\n",
       "      <td>90000</td>\n",
       "      <td>7</td>\n",
       "      <td>gasoline</td>\n",
       "      <td>skoda</td>\n",
       "      <td>no</td>\n",
       "      <td>2016-03-31 00:00:00</td>\n",
       "      <td>0</td>\n",
       "      <td>60437</td>\n",
       "      <td>2016-04-06 10:17:21</td>\n",
       "    </tr>\n",
       "  </tbody>\n",
       "</table>\n",
       "</div>"
      ],
      "text/plain": [
       "           DateCrawled  Price VehicleType  RegistrationYear Gearbox  Power  \\\n",
       "0  2016-03-24 11:52:17    480         NaN              1993  manual      0   \n",
       "1  2016-03-24 10:58:45  18300       coupe              2011  manual    190   \n",
       "2  2016-03-14 12:52:21   9800         suv              2004    auto    163   \n",
       "3  2016-03-17 16:54:04   1500       small              2001  manual     75   \n",
       "4  2016-03-31 17:25:20   3600       small              2008  manual     69   \n",
       "\n",
       "   Model  Kilometer  RegistrationMonth  FuelType       Brand Repaired  \\\n",
       "0   golf     150000                  0    petrol  volkswagen      NaN   \n",
       "1    NaN     125000                  5  gasoline        audi      yes   \n",
       "2  grand     125000                  8  gasoline        jeep      NaN   \n",
       "3   golf     150000                  6    petrol  volkswagen       no   \n",
       "4  fabia      90000                  7  gasoline       skoda       no   \n",
       "\n",
       "           DateCreated  NumberOfPictures  PostalCode             LastSeen  \n",
       "0  2016-03-24 00:00:00                 0       70435  2016-04-07 03:16:57  \n",
       "1  2016-03-24 00:00:00                 0       66954  2016-04-07 01:46:50  \n",
       "2  2016-03-14 00:00:00                 0       90480  2016-04-05 12:47:46  \n",
       "3  2016-03-17 00:00:00                 0       91074  2016-03-17 17:40:17  \n",
       "4  2016-03-31 00:00:00                 0       60437  2016-04-06 10:17:21  "
      ]
     },
     "execution_count": 5,
     "metadata": {},
     "output_type": "execute_result"
    }
   ],
   "source": [
    "avto_df.head()"
   ]
  },
  {
   "cell_type": "code",
   "execution_count": 6,
   "metadata": {},
   "outputs": [
    {
     "name": "stdout",
     "output_type": "stream",
     "text": [
      "Index(['date_crawled', 'price', 'vehicle_type', 'registration_year', 'gearbox',\n",
      "       'power', 'model', 'kilometer', 'registration_month', 'fuel_type',\n",
      "       'brand', 'repaired', 'date_created', 'number_of_pictures',\n",
      "       'postal_code', 'last_seen'],\n",
      "      dtype='object')\n"
     ]
    }
   ],
   "source": [
    "avto_df.columns = avto_df.columns.map(lambda x: re.sub('([a-z0-9])([A-Z])', r'\\1_\\2', x)).str.lower()\n",
    "\n",
    "print(avto_df.columns)"
   ]
  },
  {
   "cell_type": "markdown",
   "metadata": {},
   "source": [
    "***Преобразовали camelCase в snake_case для названий столбцов.***"
   ]
  },
  {
   "cell_type": "code",
   "execution_count": 7,
   "metadata": {},
   "outputs": [
    {
     "name": "stdout",
     "output_type": "stream",
     "text": [
      "<class 'pandas.core.frame.DataFrame'>\n",
      "RangeIndex: 354369 entries, 0 to 354368\n",
      "Data columns (total 16 columns):\n",
      " #   Column              Non-Null Count   Dtype \n",
      "---  ------              --------------   ----- \n",
      " 0   date_crawled        354369 non-null  object\n",
      " 1   price               354369 non-null  int64 \n",
      " 2   vehicle_type        316879 non-null  object\n",
      " 3   registration_year   354369 non-null  int64 \n",
      " 4   gearbox             334536 non-null  object\n",
      " 5   power               354369 non-null  int64 \n",
      " 6   model               334664 non-null  object\n",
      " 7   kilometer           354369 non-null  int64 \n",
      " 8   registration_month  354369 non-null  int64 \n",
      " 9   fuel_type           321474 non-null  object\n",
      " 10  brand               354369 non-null  object\n",
      " 11  repaired            283215 non-null  object\n",
      " 12  date_created        354369 non-null  object\n",
      " 13  number_of_pictures  354369 non-null  int64 \n",
      " 14  postal_code         354369 non-null  int64 \n",
      " 15  last_seen           354369 non-null  object\n",
      "dtypes: int64(7), object(9)\n",
      "memory usage: 43.3+ MB\n"
     ]
    }
   ],
   "source": [
    "avto_df.info()"
   ]
  },
  {
   "cell_type": "markdown",
   "metadata": {},
   "source": [
    "Видно, что некоторые столбцы имеют пропущенные значения. Например, \"vehicle_type\", \"gearbox\", \"model\", \"fuel_type\" и \"repaired\". Для каждого столбца нужно решить, как заполнять пропуски. \n",
    "Столбцы \"date_crawled\", \"date_created\" и \"last_seen\" представлены как строки, но это даты. Преобразуем их в формат даты для дальнейшей работы."
   ]
  },
  {
   "cell_type": "code",
   "execution_count": 8,
   "metadata": {},
   "outputs": [],
   "source": [
    "avto_df['date_created'] = pd.to_datetime(avto_df['date_created'])\n",
    "avto_df['date_crawled'] = pd.to_datetime(avto_df['date_crawled'])\n",
    "avto_df['last_seen'] = pd.to_datetime(avto_df['last_seen'])"
   ]
  },
  {
   "cell_type": "code",
   "execution_count": 9,
   "metadata": {},
   "outputs": [
    {
     "name": "stdout",
     "output_type": "stream",
     "text": [
      "<class 'pandas.core.frame.DataFrame'>\n",
      "RangeIndex: 354369 entries, 0 to 354368\n",
      "Data columns (total 16 columns):\n",
      " #   Column              Non-Null Count   Dtype         \n",
      "---  ------              --------------   -----         \n",
      " 0   date_crawled        354369 non-null  datetime64[ns]\n",
      " 1   price               354369 non-null  int64         \n",
      " 2   vehicle_type        316879 non-null  object        \n",
      " 3   registration_year   354369 non-null  int64         \n",
      " 4   gearbox             334536 non-null  object        \n",
      " 5   power               354369 non-null  int64         \n",
      " 6   model               334664 non-null  object        \n",
      " 7   kilometer           354369 non-null  int64         \n",
      " 8   registration_month  354369 non-null  int64         \n",
      " 9   fuel_type           321474 non-null  object        \n",
      " 10  brand               354369 non-null  object        \n",
      " 11  repaired            283215 non-null  object        \n",
      " 12  date_created        354369 non-null  datetime64[ns]\n",
      " 13  number_of_pictures  354369 non-null  int64         \n",
      " 14  postal_code         354369 non-null  int64         \n",
      " 15  last_seen           354369 non-null  datetime64[ns]\n",
      "dtypes: datetime64[ns](3), int64(7), object(6)\n",
      "memory usage: 43.3+ MB\n"
     ]
    }
   ],
   "source": [
    "avto_df.info()"
   ]
  },
  {
   "cell_type": "code",
   "execution_count": 10,
   "metadata": {},
   "outputs": [
    {
     "name": "stdout",
     "output_type": "stream",
     "text": [
      "Количество явных дубликатов: 4\n"
     ]
    }
   ],
   "source": [
    "duplicates = avto_df.duplicated()\n",
    "\n",
    "print(\"Количество явных дубликатов:\", duplicates.sum())"
   ]
  },
  {
   "cell_type": "code",
   "execution_count": 11,
   "metadata": {},
   "outputs": [
    {
     "name": "stdout",
     "output_type": "stream",
     "text": [
      "Количество явных дубликатов после удаления: 0\n"
     ]
    }
   ],
   "source": [
    "avto_df = avto_df.drop_duplicates()\n",
    "\n",
    "print(\"Количество явных дубликатов после удаления:\", avto_df.duplicated().sum())"
   ]
  },
  {
   "cell_type": "markdown",
   "metadata": {},
   "source": [
    "### Обработаем аномалии в столбцах. "
   ]
  },
  {
   "cell_type": "code",
   "execution_count": 12,
   "metadata": {},
   "outputs": [
    {
     "data": {
      "text/html": [
       "<div>\n",
       "<style scoped>\n",
       "    .dataframe tbody tr th:only-of-type {\n",
       "        vertical-align: middle;\n",
       "    }\n",
       "\n",
       "    .dataframe tbody tr th {\n",
       "        vertical-align: top;\n",
       "    }\n",
       "\n",
       "    .dataframe thead th {\n",
       "        text-align: right;\n",
       "    }\n",
       "</style>\n",
       "<table border=\"1\" class=\"dataframe\">\n",
       "  <thead>\n",
       "    <tr style=\"text-align: right;\">\n",
       "      <th></th>\n",
       "      <th>count</th>\n",
       "      <th>unique</th>\n",
       "      <th>top</th>\n",
       "      <th>freq</th>\n",
       "      <th>mean</th>\n",
       "      <th>min</th>\n",
       "      <th>25%</th>\n",
       "      <th>50%</th>\n",
       "      <th>75%</th>\n",
       "      <th>max</th>\n",
       "      <th>std</th>\n",
       "    </tr>\n",
       "  </thead>\n",
       "  <tbody>\n",
       "    <tr>\n",
       "      <th>date_crawled</th>\n",
       "      <td>354365</td>\n",
       "      <td>NaN</td>\n",
       "      <td>NaN</td>\n",
       "      <td>NaN</td>\n",
       "      <td>2016-03-21 12:58:09.520460544</td>\n",
       "      <td>2016-03-05 14:06:22</td>\n",
       "      <td>2016-03-13 11:52:33</td>\n",
       "      <td>2016-03-21 17:50:55</td>\n",
       "      <td>2016-03-29 14:37:20</td>\n",
       "      <td>2016-04-07 14:36:58</td>\n",
       "      <td>NaN</td>\n",
       "    </tr>\n",
       "    <tr>\n",
       "      <th>price</th>\n",
       "      <td>354365.0</td>\n",
       "      <td>NaN</td>\n",
       "      <td>NaN</td>\n",
       "      <td>NaN</td>\n",
       "      <td>4416.67983</td>\n",
       "      <td>0.0</td>\n",
       "      <td>1050.0</td>\n",
       "      <td>2700.0</td>\n",
       "      <td>6400.0</td>\n",
       "      <td>20000.0</td>\n",
       "      <td>4514.176349</td>\n",
       "    </tr>\n",
       "    <tr>\n",
       "      <th>vehicle_type</th>\n",
       "      <td>316875</td>\n",
       "      <td>8</td>\n",
       "      <td>sedan</td>\n",
       "      <td>91457</td>\n",
       "      <td>NaN</td>\n",
       "      <td>NaN</td>\n",
       "      <td>NaN</td>\n",
       "      <td>NaN</td>\n",
       "      <td>NaN</td>\n",
       "      <td>NaN</td>\n",
       "      <td>NaN</td>\n",
       "    </tr>\n",
       "    <tr>\n",
       "      <th>registration_year</th>\n",
       "      <td>354365.0</td>\n",
       "      <td>NaN</td>\n",
       "      <td>NaN</td>\n",
       "      <td>NaN</td>\n",
       "      <td>2004.234481</td>\n",
       "      <td>1000.0</td>\n",
       "      <td>1999.0</td>\n",
       "      <td>2003.0</td>\n",
       "      <td>2008.0</td>\n",
       "      <td>9999.0</td>\n",
       "      <td>90.228466</td>\n",
       "    </tr>\n",
       "    <tr>\n",
       "      <th>gearbox</th>\n",
       "      <td>334532</td>\n",
       "      <td>2</td>\n",
       "      <td>manual</td>\n",
       "      <td>268249</td>\n",
       "      <td>NaN</td>\n",
       "      <td>NaN</td>\n",
       "      <td>NaN</td>\n",
       "      <td>NaN</td>\n",
       "      <td>NaN</td>\n",
       "      <td>NaN</td>\n",
       "      <td>NaN</td>\n",
       "    </tr>\n",
       "    <tr>\n",
       "      <th>power</th>\n",
       "      <td>354365.0</td>\n",
       "      <td>NaN</td>\n",
       "      <td>NaN</td>\n",
       "      <td>NaN</td>\n",
       "      <td>110.093816</td>\n",
       "      <td>0.0</td>\n",
       "      <td>69.0</td>\n",
       "      <td>105.0</td>\n",
       "      <td>143.0</td>\n",
       "      <td>20000.0</td>\n",
       "      <td>189.85133</td>\n",
       "    </tr>\n",
       "    <tr>\n",
       "      <th>model</th>\n",
       "      <td>334660</td>\n",
       "      <td>250</td>\n",
       "      <td>golf</td>\n",
       "      <td>29232</td>\n",
       "      <td>NaN</td>\n",
       "      <td>NaN</td>\n",
       "      <td>NaN</td>\n",
       "      <td>NaN</td>\n",
       "      <td>NaN</td>\n",
       "      <td>NaN</td>\n",
       "      <td>NaN</td>\n",
       "    </tr>\n",
       "    <tr>\n",
       "      <th>kilometer</th>\n",
       "      <td>354365.0</td>\n",
       "      <td>NaN</td>\n",
       "      <td>NaN</td>\n",
       "      <td>NaN</td>\n",
       "      <td>128211.363989</td>\n",
       "      <td>5000.0</td>\n",
       "      <td>125000.0</td>\n",
       "      <td>150000.0</td>\n",
       "      <td>150000.0</td>\n",
       "      <td>150000.0</td>\n",
       "      <td>37905.083858</td>\n",
       "    </tr>\n",
       "    <tr>\n",
       "      <th>registration_month</th>\n",
       "      <td>354365.0</td>\n",
       "      <td>NaN</td>\n",
       "      <td>NaN</td>\n",
       "      <td>NaN</td>\n",
       "      <td>5.71465</td>\n",
       "      <td>0.0</td>\n",
       "      <td>3.0</td>\n",
       "      <td>6.0</td>\n",
       "      <td>9.0</td>\n",
       "      <td>12.0</td>\n",
       "      <td>3.726432</td>\n",
       "    </tr>\n",
       "    <tr>\n",
       "      <th>fuel_type</th>\n",
       "      <td>321470</td>\n",
       "      <td>7</td>\n",
       "      <td>petrol</td>\n",
       "      <td>216349</td>\n",
       "      <td>NaN</td>\n",
       "      <td>NaN</td>\n",
       "      <td>NaN</td>\n",
       "      <td>NaN</td>\n",
       "      <td>NaN</td>\n",
       "      <td>NaN</td>\n",
       "      <td>NaN</td>\n",
       "    </tr>\n",
       "    <tr>\n",
       "      <th>brand</th>\n",
       "      <td>354365</td>\n",
       "      <td>40</td>\n",
       "      <td>volkswagen</td>\n",
       "      <td>77012</td>\n",
       "      <td>NaN</td>\n",
       "      <td>NaN</td>\n",
       "      <td>NaN</td>\n",
       "      <td>NaN</td>\n",
       "      <td>NaN</td>\n",
       "      <td>NaN</td>\n",
       "      <td>NaN</td>\n",
       "    </tr>\n",
       "    <tr>\n",
       "      <th>repaired</th>\n",
       "      <td>283211</td>\n",
       "      <td>2</td>\n",
       "      <td>no</td>\n",
       "      <td>247158</td>\n",
       "      <td>NaN</td>\n",
       "      <td>NaN</td>\n",
       "      <td>NaN</td>\n",
       "      <td>NaN</td>\n",
       "      <td>NaN</td>\n",
       "      <td>NaN</td>\n",
       "      <td>NaN</td>\n",
       "    </tr>\n",
       "    <tr>\n",
       "      <th>date_created</th>\n",
       "      <td>354365</td>\n",
       "      <td>NaN</td>\n",
       "      <td>NaN</td>\n",
       "      <td>NaN</td>\n",
       "      <td>2016-03-20 19:12:06.583042560</td>\n",
       "      <td>2014-03-10 00:00:00</td>\n",
       "      <td>2016-03-13 00:00:00</td>\n",
       "      <td>2016-03-21 00:00:00</td>\n",
       "      <td>2016-03-29 00:00:00</td>\n",
       "      <td>2016-04-07 00:00:00</td>\n",
       "      <td>NaN</td>\n",
       "    </tr>\n",
       "    <tr>\n",
       "      <th>number_of_pictures</th>\n",
       "      <td>354365.0</td>\n",
       "      <td>NaN</td>\n",
       "      <td>NaN</td>\n",
       "      <td>NaN</td>\n",
       "      <td>0.0</td>\n",
       "      <td>0.0</td>\n",
       "      <td>0.0</td>\n",
       "      <td>0.0</td>\n",
       "      <td>0.0</td>\n",
       "      <td>0.0</td>\n",
       "      <td>0.0</td>\n",
       "    </tr>\n",
       "    <tr>\n",
       "      <th>postal_code</th>\n",
       "      <td>354365.0</td>\n",
       "      <td>NaN</td>\n",
       "      <td>NaN</td>\n",
       "      <td>NaN</td>\n",
       "      <td>50508.5038</td>\n",
       "      <td>1067.0</td>\n",
       "      <td>30165.0</td>\n",
       "      <td>49413.0</td>\n",
       "      <td>71083.0</td>\n",
       "      <td>99998.0</td>\n",
       "      <td>25783.100078</td>\n",
       "    </tr>\n",
       "    <tr>\n",
       "      <th>last_seen</th>\n",
       "      <td>354365</td>\n",
       "      <td>NaN</td>\n",
       "      <td>NaN</td>\n",
       "      <td>NaN</td>\n",
       "      <td>2016-03-29 23:51:06.766184960</td>\n",
       "      <td>2016-03-05 14:15:08</td>\n",
       "      <td>2016-03-23 02:50:03</td>\n",
       "      <td>2016-04-03 15:15:52</td>\n",
       "      <td>2016-04-06 10:15:19</td>\n",
       "      <td>2016-04-07 14:58:51</td>\n",
       "      <td>NaN</td>\n",
       "    </tr>\n",
       "  </tbody>\n",
       "</table>\n",
       "</div>"
      ],
      "text/plain": [
       "                       count unique         top    freq  \\\n",
       "date_crawled          354365    NaN         NaN     NaN   \n",
       "price               354365.0    NaN         NaN     NaN   \n",
       "vehicle_type          316875      8       sedan   91457   \n",
       "registration_year   354365.0    NaN         NaN     NaN   \n",
       "gearbox               334532      2      manual  268249   \n",
       "power               354365.0    NaN         NaN     NaN   \n",
       "model                 334660    250        golf   29232   \n",
       "kilometer           354365.0    NaN         NaN     NaN   \n",
       "registration_month  354365.0    NaN         NaN     NaN   \n",
       "fuel_type             321470      7      petrol  216349   \n",
       "brand                 354365     40  volkswagen   77012   \n",
       "repaired              283211      2          no  247158   \n",
       "date_created          354365    NaN         NaN     NaN   \n",
       "number_of_pictures  354365.0    NaN         NaN     NaN   \n",
       "postal_code         354365.0    NaN         NaN     NaN   \n",
       "last_seen             354365    NaN         NaN     NaN   \n",
       "\n",
       "                                             mean                  min  \\\n",
       "date_crawled        2016-03-21 12:58:09.520460544  2016-03-05 14:06:22   \n",
       "price                                  4416.67983                  0.0   \n",
       "vehicle_type                                  NaN                  NaN   \n",
       "registration_year                     2004.234481               1000.0   \n",
       "gearbox                                       NaN                  NaN   \n",
       "power                                  110.093816                  0.0   \n",
       "model                                         NaN                  NaN   \n",
       "kilometer                           128211.363989               5000.0   \n",
       "registration_month                        5.71465                  0.0   \n",
       "fuel_type                                     NaN                  NaN   \n",
       "brand                                         NaN                  NaN   \n",
       "repaired                                      NaN                  NaN   \n",
       "date_created        2016-03-20 19:12:06.583042560  2014-03-10 00:00:00   \n",
       "number_of_pictures                            0.0                  0.0   \n",
       "postal_code                            50508.5038               1067.0   \n",
       "last_seen           2016-03-29 23:51:06.766184960  2016-03-05 14:15:08   \n",
       "\n",
       "                                    25%                  50%  \\\n",
       "date_crawled        2016-03-13 11:52:33  2016-03-21 17:50:55   \n",
       "price                            1050.0               2700.0   \n",
       "vehicle_type                        NaN                  NaN   \n",
       "registration_year                1999.0               2003.0   \n",
       "gearbox                             NaN                  NaN   \n",
       "power                              69.0                105.0   \n",
       "model                               NaN                  NaN   \n",
       "kilometer                      125000.0             150000.0   \n",
       "registration_month                  3.0                  6.0   \n",
       "fuel_type                           NaN                  NaN   \n",
       "brand                               NaN                  NaN   \n",
       "repaired                            NaN                  NaN   \n",
       "date_created        2016-03-13 00:00:00  2016-03-21 00:00:00   \n",
       "number_of_pictures                  0.0                  0.0   \n",
       "postal_code                     30165.0              49413.0   \n",
       "last_seen           2016-03-23 02:50:03  2016-04-03 15:15:52   \n",
       "\n",
       "                                    75%                  max           std  \n",
       "date_crawled        2016-03-29 14:37:20  2016-04-07 14:36:58           NaN  \n",
       "price                            6400.0              20000.0   4514.176349  \n",
       "vehicle_type                        NaN                  NaN           NaN  \n",
       "registration_year                2008.0               9999.0     90.228466  \n",
       "gearbox                             NaN                  NaN           NaN  \n",
       "power                             143.0              20000.0     189.85133  \n",
       "model                               NaN                  NaN           NaN  \n",
       "kilometer                      150000.0             150000.0  37905.083858  \n",
       "registration_month                  9.0                 12.0      3.726432  \n",
       "fuel_type                           NaN                  NaN           NaN  \n",
       "brand                               NaN                  NaN           NaN  \n",
       "repaired                            NaN                  NaN           NaN  \n",
       "date_created        2016-03-29 00:00:00  2016-04-07 00:00:00           NaN  \n",
       "number_of_pictures                  0.0                  0.0           0.0  \n",
       "postal_code                     71083.0              99998.0  25783.100078  \n",
       "last_seen           2016-04-06 10:15:19  2016-04-07 14:58:51           NaN  "
      ]
     },
     "execution_count": 12,
     "metadata": {},
     "output_type": "execute_result"
    }
   ],
   "source": [
    "avto_df.describe(include='all', datetime_is_numeric=True).T"
   ]
  },
  {
   "cell_type": "markdown",
   "metadata": {},
   "source": [
    "**Рассмотрим аномалии:**\n",
    "\n",
    "***price:***\n",
    "\n",
    "- Минимальное значение нулевое. Это ошибка, так как цена автомобиля не может быть нулевой. \n",
    "\n",
    "***registration_year:***\n",
    "\n",
    "- Минимальное значение 1000, а максимальное 9999. Такие значения явно аномальные. \n",
    "\n",
    "***power:***\n",
    "\n",
    "- Максимальное значение 20000. Такое значение мощности кажется нереалистичным для большинства автомобилей. \n",
    "\n",
    "***registration_month:***\n",
    "\n",
    "- Значение месяца регистрации 0 тоже является аномальным.\n",
    "\n",
    "Рассмотрим эти данные и решим, что с ними делать.\n",
    "\n"
   ]
  },
  {
   "cell_type": "code",
   "execution_count": 13,
   "metadata": {},
   "outputs": [
    {
     "data": {
      "image/png": "[encoded data removed]",
      "text/plain": [
       "<Figure size 720x432 with 1 Axes>"
      ]
     },
     "metadata": {},
     "output_type": "display_data"
    },
    {
     "data": {
      "image/png": "[encoded data removed]",
      "text/plain": [
       "<Figure size 720x432 with 1 Axes>"
      ]
     },
     "metadata": {},
     "output_type": "display_data"
    },
    {
     "data": {
      "image/png": "[encoded data removed]",
      "text/plain": [
       "<Figure size 720x432 with 1 Axes>"
      ]
     },
     "metadata": {},
     "output_type": "display_data"
    },
    {
     "data": {
      "image/png": "[encoded data removed]",
      "text/plain": [
       "<Figure size 720x432 with 1 Axes>"
      ]
     },
     "metadata": {},
     "output_type": "display_data"
    }
   ],
   "source": [
    "sns.set(style=\"whitegrid\")\n",
    "\n",
    "columns_with_anomalies = ['price', 'registration_year', 'power', 'registration_month']\n",
    "\n",
    "for column in columns_with_anomalies:\n",
    "    plt.figure(figsize=(10, 6))\n",
    "    sns.histplot(data=avto_df, x=column, bins=100, color='blue', alpha=0.7)\n",
    "    plt.title(f'Распределение значений в столбце {column}')\n",
    "    plt.xlabel(column)\n",
    "    plt.ylabel('Частота')\n",
    "    plt.show()"
   ]
  },
  {
   "cell_type": "code",
   "execution_count": 14,
   "metadata": {},
   "outputs": [
    {
     "data": {
      "application/vnd.jupyter.widget-view+json": {
       "model_id": "740f1d260f684d84889046598acf7049",
       "version_major": 2,
       "version_minor": 0
      },
      "text/plain": [
       "                                             |          | [  0%]   00:00 -> (? left)"
      ]
     },
     "metadata": {},
     "output_type": "display_data"
    },
    {
     "name": "stdout",
     "output_type": "stream",
     "text": [
      "Report SWEETVIZ_REPORT.html was generated! NOTEBOOK/COLAB USERS: the web browser MAY not pop up, regardless, the report IS saved in your notebook/colab files.\n"
     ]
    }
   ],
   "source": [
    "report = sv.analyze(avto_df)\n",
    "\n",
    "report.show_html()"
   ]
  },
  {
   "cell_type": "code",
   "execution_count": 15,
   "metadata": {},
   "outputs": [
    {
     "name": "stdout",
     "output_type": "stream",
     "text": [
      "/home/jovyan/work\n"
     ]
    }
   ],
   "source": [
    "print(os.getcwd())"
   ]
  },
  {
   "cell_type": "code",
   "execution_count": 16,
   "metadata": {},
   "outputs": [
    {
     "data": {
      "text/html": [
       "\n",
       "        <iframe\n",
       "            width=\"800\"\n",
       "            height=\"600\"\n",
       "            src=\"./SWEETVIZ_REPORT.html\"\n",
       "            frameborder=\"0\"\n",
       "            allowfullscreen\n",
       "        ></iframe>\n",
       "        "
      ],
      "text/plain": [
       "<IPython.lib.display.IFrame at 0x7f20eccd6a30>"
      ]
     },
     "execution_count": 16,
     "metadata": {},
     "output_type": "execute_result"
    }
   ],
   "source": [
    "IFrame(src='./SWEETVIZ_REPORT.html', width=800, height=600)"
   ]
  },
  {
   "cell_type": "code",
   "execution_count": 17,
   "metadata": {},
   "outputs": [
    {
     "data": {
      "image/png": "[encoded data removed]",
      "text/plain": [
       "<Figure size 1700x800 with 1 Axes>"
      ]
     },
     "metadata": {},
     "output_type": "display_data"
    }
   ],
   "source": [
    "sns.set(style=\"whitegrid\")\n",
    "\n",
    "plt.figure(figsize=(17, 8))\n",
    "sns.boxplot(data=avto_df[columns_with_anomalies], palette='Set3')\n",
    "plt.title('Сравнение аномальных столбцов')\n",
    "plt.ylabel('Значение (логарифмическая шкала)')\n",
    "plt.xticks(rotation=45)\n",
    "plt.yscale('log')\n",
    "plt.show()"
   ]
  },
  {
   "cell_type": "markdown",
   "metadata": {},
   "source": [
    "***Посмотрим уникальные значения в столбцах 'power' и 'registration_year' , какие значения являются реалистичными, а какие являются аномальными. Например, в столбце \"registration_year\" реалистичные значения будут находиться в каком-то разумном временном диапазоне, а в столбце \"power\" реалистичные значения мощности будут зависеть от типа автомобиля.***"
   ]
  },
  {
   "cell_type": "code",
   "execution_count": 18,
   "metadata": {},
   "outputs": [
    {
     "name": "stdout",
     "output_type": "stream",
     "text": [
      "Отсортированные уникальные значения в столбце 'registration_year':\n",
      "[1000 1001 1039 1111 1200 1234 1253 1255 1300 1400 1500 1600 1602 1688\n",
      " 1800 1910 1915 1919 1920 1923 1925 1927 1928 1929 1930 1931 1932 1933\n",
      " 1934 1935 1936 1937 1938 1940 1941 1942 1943 1944 1945 1946 1947 1948\n",
      " 1949 1950 1951 1952 1953 1954 1955 1956 1957 1958 1959 1960 1961 1962\n",
      " 1963 1964 1965 1966 1967 1968 1969 1970 1971 1972 1973 1974 1975 1976\n",
      " 1977 1978 1979 1980 1981 1982 1983 1984 1985 1986 1987 1988 1989 1990\n",
      " 1991 1992 1993 1994 1995 1996 1997 1998 1999 2000 2001 2002 2003 2004\n",
      " 2005 2006 2007 2008 2009 2010 2011 2012 2013 2014 2015 2016 2017 2018\n",
      " 2019 2066 2200 2222 2290 2500 2800 2900 3000 3200 3500 3700 3800 4000\n",
      " 4100 4500 4800 5000 5300 5555 5600 5900 5911 6000 6500 7000 7100 7500\n",
      " 7800 8000 8200 8455 8500 8888 9000 9229 9450 9996 9999]\n"
     ]
    }
   ],
   "source": [
    "# Уникальные значения в столбце 'registration_year'\n",
    "sorted_registration_years = np.sort(avto_df['registration_year'].unique())\n",
    "print(\"Отсортированные уникальные значения в столбце 'registration_year':\")\n",
    "print(sorted_registration_years)"
   ]
  },
  {
   "cell_type": "code",
   "execution_count": 19,
   "metadata": {},
   "outputs": [
    {
     "name": "stdout",
     "output_type": "stream",
     "text": [
      "Количество данных в диапазоне 2000-2019 год: 252008\n"
     ]
    }
   ],
   "source": [
    "filtered_data = avto_df[(avto_df['registration_year'] >= 2000) & (avto_df['registration_year'] <= 2019)]\n",
    "count_in_range = filtered_data.shape[0]\n",
    "print(\"Количество данных в диапазоне 2000-2019 год:\", count_in_range)"
   ]
  },
  {
   "cell_type": "markdown",
   "metadata": {},
   "source": [
    "Годы выпуска автомобилей в диапазоне от 2000 до 2019 года выглядят вполне реалистичными и актуальными. Этот период соответствует среднему сроку эксплуатации автомобиля.\n",
    "\n",
    "Следовательно, будем считать годы выпуска за пределами диапазона 2000-2019 года аномальными. Они могут быть исключены из анализа, чтобы обеспечить более точное представление о данных и избежать искажений при дальнейшем анализе и моделировании"
   ]
  },
  {
   "cell_type": "code",
   "execution_count": 20,
   "metadata": {},
   "outputs": [
    {
     "name": "stdout",
     "output_type": "stream",
     "text": [
      "count    252008.00000\n",
      "mean       2006.40559\n",
      "std           4.91290\n",
      "min        2000.00000\n",
      "25%        2002.00000\n",
      "50%        2006.00000\n",
      "75%        2009.00000\n",
      "max        2019.00000\n",
      "Name: registration_year, dtype: float64\n"
     ]
    }
   ],
   "source": [
    "avto_df = avto_df[(avto_df['registration_year'] >= 2000) & (avto_df['registration_year'] <= 2019)]\n",
    "print(avto_df['registration_year'].describe())"
   ]
  },
  {
   "cell_type": "code",
   "execution_count": 21,
   "metadata": {},
   "outputs": [
    {
     "name": "stdout",
     "output_type": "stream",
     "text": [
      "        registration_year        date_crawled registration_crawled_diff\n",
      "22                   2018 2016-03-23 14:52:51       -649 days +14:52:51\n",
      "26                   2017 2016-03-10 19:38:18       -297 days +19:38:18\n",
      "48                   2017 2016-03-25 14:40:12       -282 days +14:40:12\n",
      "51                   2017 2016-03-07 18:57:08       -300 days +18:57:08\n",
      "57                   2018 2016-03-10 20:53:19       -662 days +20:53:19\n",
      "...                   ...                 ...                       ...\n",
      "354112               2017 2016-03-11 15:49:51       -296 days +15:49:51\n",
      "354140               2017 2016-03-29 16:47:29       -278 days +16:47:29\n",
      "354203               2018 2016-03-17 00:56:26       -655 days +00:56:26\n",
      "354253               2018 2016-03-25 09:37:59       -647 days +09:37:59\n",
      "354289               2017 2016-03-05 14:55:29       -302 days +14:55:29\n",
      "\n",
      "[14425 rows x 3 columns]\n"
     ]
    }
   ],
   "source": [
    "avto_df['registration_crawled_diff'] = avto_df['date_crawled'] - pd.to_datetime(avto_df['registration_year'], format='%Y')\n",
    "anomalies = avto_df[avto_df['registration_crawled_diff'] < pd.Timedelta(days=0)]\n",
    "print(anomalies[['registration_year', 'date_crawled', 'registration_crawled_diff']])"
   ]
  },
  {
   "cell_type": "markdown",
   "metadata": {},
   "source": [
    "Просмотр даты выгрузки анкет является полезным для обнаружения аномалий и выбросов в столбце registration_year. В данных о продаже автомобилей дата регистрации не может быть позже даты выгрузки, поэтому любая дата регистрации, превышающая дату выгрузки, может считаться аномалией.\n",
    "\n",
    "Я проверила этот аспект, вычислив разницу между датой регистрации и датой выгрузки.\n",
    "\n",
    "В столбце registration_crawled_diff указана разница между годом регистрации и датой выгрузки анкеты. Это значение отрицательное, потому что год регистрации указан как будто бы до даты выгрузки.\n",
    "\n",
    "Например, первая строка указывает, что автомобиль был зарегистрирован в 2018 году, но анкета была выгружена 23 марта 2016 года, что приводит к отрицательной разнице в -649 дней (и 14 часов 52 минуты 51 секунду). Аналогично, остальные строки также указывают на аномально низкие годы регистрации относительно даты выгрузки.\n",
    "\n",
    "Эти аномалии могут указывать на ошибки в данных и требуют дополнительного анализа и обработки, такой как удаление или коррекция аномальных записей"
   ]
  },
  {
   "cell_type": "code",
   "execution_count": 22,
   "metadata": {},
   "outputs": [
    {
     "name": "stdout",
     "output_type": "stream",
     "text": [
      "\n",
      "Отсортированные уникальные значения в столбце 'power':\n",
      "[    0     1     2     3     4     5     6     7     8     9    10    11\n",
      "    12    13    14    15    16    17    18    19    20    21    23    24\n",
      "    25    26    27    29    30    31    33    34    35    36    37    38\n",
      "    39    40    41    42    43    44    45    46    47    48    49    50\n",
      "    51    52    53    54    55    56    57    58    59    60    61    62\n",
      "    63    64    65    66    67    68    69    70    71    72    73    74\n",
      "    75    76    77    78    79    80    81    82    83    84    85    86\n",
      "    87    88    89    90    91    92    93    94    95    96    97    98\n",
      "    99   100   101   102   103   104   105   106   107   108   109   110\n",
      "   111   112   113   114   115   116   117   118   119   120   121   122\n",
      "   123   124   125   126   127   128   129   130   131   132   133   134\n",
      "   135   136   137   138   139   140   141   142   143   144   145   146\n",
      "   147   148   149   150   151   152   153   154   155   156   157   158\n",
      "   159   160   161   162   163   164   165   166   167   168   169   170\n",
      "   171   172   173   174   175   176   177   178   179   180   181   182\n",
      "   183   184   185   186   187   188   189   190   191   192   193   194\n",
      "   195   196   197   198   199   200   201   202   203   204   205   206\n",
      "   207   208   209   210   211   212   213   214   215   216   217   218\n",
      "   219   220   221   222   223   224   225   226   227   228   229   230\n",
      "   231   232   233   234   235   236   237   238   239   240   241   242\n",
      "   243   244   245   246   247   248   249   250   251   252   253   254\n",
      "   255   256   257   258   259   260   261   262   264   265   266   267\n",
      "   268   269   270   271   272   273   274   275   276   277   278   279\n",
      "   280   281   283   284   285   286   287   288   289   290   292   293\n",
      "   294   295   296   297   298   299   300   301   303   304   305   306\n",
      "   307   309   310   311   313   314   315   316   317   318   320   321\n",
      "   322   323   324   325   326   327   328   329   330   331   332   333\n",
      "   334   335   336   337   338   339   340   341   343   344   345   346\n",
      "   347   348   349   350   351   352   353   354   355   356   357   358\n",
      "   360   361   362   363   364   365   367   368   370   371   374   376\n",
      "   377   379   380   381   382   385   386   387   388   390   392   396\n",
      "   399   400   401   402   405   408   411   416   420   421   426   428\n",
      "   430   431   435   442   445   450   457   459   460   475   476   485\n",
      "   487   489   490   500   504   505   507   508   510   514   515   517\n",
      "   519   520   521   525   530   540   550   551   560   579   580   584\n",
      "   585   599   600   601   602   603   604   606   607   610   612   620\n",
      "   650   651   671   682   685   696   700   702   703   732   743   750\n",
      "   751   771   776   800   805   808   850   871   900   901   902   907\n",
      "   923   950   952   953   999  1000  1001  1002  1003  1005  1011  1016\n",
      "  1021  1024  1054  1055  1056  1062  1079  1082  1090  1102  1105  1111\n",
      "  1149  1158  1162  1164  1199  1200  1202  1223  1240  1250  1252  1288\n",
      "  1299  1300  1312  1317  1351  1360  1363  1367  1390  1394  1398  1399\n",
      "  1400  1401  1403  1405  1416  1432  1433  1436  1500  1501  1503  1506\n",
      "  1521  1548  1595  1598  1600  1631  1700  1701  1704  1707  1753  1771\n",
      "  1779  1780  1783  1793  1796  1800  1801  1870  1895  1896  1900  1910\n",
      "  1920  1933  1968  1986  1995  1998  2000  2004  2005  2007  2009  2016\n",
      "  2017  2018  2172  2200  2331  2340  2461  2729  2792  3454  3500  4507\n",
      "  5411  5809  5867  6010  6011  6012  6045  6062  6226  6512  6920  7511\n",
      "  7518  7529  8011  8259  8404  8500  9000  9007  9010  9011  9012  9013\n",
      " 10000 10110 10218 10311 10520 10710 10910 11509 11530 12510 12512 13616\n",
      " 13636 14009 15001 15016 15017 15020 15033 16011 16311 16312 17011 17700\n",
      " 17932 19208 19211]\n"
     ]
    }
   ],
   "source": [
    "# Уникальные значения в столбце 'power'\n",
    "sorted_power_values = np.sort(avto_df['power'].unique())\n",
    "print(\"\\nОтсортированные уникальные значения в столбце 'power':\")\n",
    "print(sorted_power_values)"
   ]
  },
  {
   "cell_type": "code",
   "execution_count": 23,
   "metadata": {},
   "outputs": [
    {
     "name": "stdout",
     "output_type": "stream",
     "text": [
      "count    226015.000000\n",
      "mean        126.396620\n",
      "std          63.433067\n",
      "min          10.000000\n",
      "25%          86.000000\n",
      "50%         116.000000\n",
      "75%         150.000000\n",
      "max        2000.000000\n",
      "Name: power, dtype: float64\n"
     ]
    }
   ],
   "source": [
    "avto_df = avto_df[(avto_df['power'] >= 10) & (avto_df['power'] <= 2000)]\n",
    "print(avto_df['power'].describe())"
   ]
  },
  {
   "cell_type": "markdown",
   "metadata": {},
   "source": [
    "В столбце 'power' также присутствуют аномальные значения, которые выходят за разумные пределы мощности автомобилей. Эти значения могут быть результатом ошибок ввода или некорректных данных.Применим аналогичный подход, как мы делали для столбца 'registration_year'. Оставим только те строки, где мощность находится в разумном диапазоне, например, от 10 до 2000 лошадиных сил."
   ]
  },
  {
   "cell_type": "markdown",
   "metadata": {},
   "source": [
    "- Машины без двигателя: Это могут быть машины, которые были разобраны на запчасти, и двигатель был извлечен. Это также может быть случай машин, созданных без двигателя, например, электрических автомобилей, которые используют электрические моторы вместо внутреннего сгорания. В этом случае мощность будет нулевой.\n",
    "\n",
    "- Ошибка в данных: Нулевая мощность может также быть следствием ошибки в данных. Это может произойти, если данные были введены неправильно или если информация о мощности отсутствует или некорректна.\n",
    "    \n",
    "- Новые машины: В некоторых странах и штатах требуется указывать мощность автомобиля при продаже. Новые машины могут иметь нулевую мощность до того момента, пока они не будут зарегистрированы и мощность не будет оценена.\n",
    "\n",
    "- Специализированные транспортные средства: Некоторые специализированные транспортные средства, такие как тракторы или специальная строительная техника, могут иметь нулевую мощность, так как они не оборудованы стандартными двигателями для передвижения по дорогам."
   ]
  },
  {
   "cell_type": "code",
   "execution_count": 24,
   "metadata": {},
   "outputs": [
    {
     "name": "stdout",
     "output_type": "stream",
     "text": [
      "Количество строк с нулевой ценой: 3497\n"
     ]
    }
   ],
   "source": [
    "zero_price_count = avto_df[avto_df['price'] == 0].shape[0]\n",
    "print(\"Количество строк с нулевой ценой:\", zero_price_count)"
   ]
  },
  {
   "cell_type": "code",
   "execution_count": 25,
   "metadata": {},
   "outputs": [
    {
     "name": "stdout",
     "output_type": "stream",
     "text": [
      "brand       model   gearbox  fuel_type  power  kilometer\n",
      "volkswagen  golf    manual   petrol     75     150000       32\n",
      "ford        focus   manual   petrol     101    150000       21\n",
      "kia         rio     manual   gasoline   90     90000        18\n",
      "opel        vivaro  manual   gasoline   101    80000        16\n",
      "volkswagen  polo    manual   petrol     60     150000       15\n",
      "            passat  manual   gasoline   140    150000       14\n",
      "bmw         3er     manual   gasoline   150    150000       11\n",
      "opel        astra   manual   gasoline   150    150000       10\n",
      "audi        a6      auto     gasoline   180    150000       10\n",
      "fiat        punto   manual   petrol     60     150000       10\n",
      "Name: price, dtype: int64\n"
     ]
    }
   ],
   "source": [
    "rows_with_zero_price = avto_df[avto_df['price'] == 0]\n",
    "grouped = rows_with_zero_price.groupby(['brand', 'model', 'gearbox', 'fuel_type','power','kilometer'])['price'].count()\n",
    "sorted_grouped = grouped.sort_values(ascending=False)\n",
    "print(sorted_grouped.head(10))"
   ]
  },
  {
   "cell_type": "markdown",
   "metadata": {},
   "source": [
    "Мы получили группированные данные, показывающие характеристики автомобилей, у которых нулевая цена. Эти данные позволяют проанализировать, есть ли какие-либо закономерности. Например:\n",
    "\n",
    "- Бренд и Модель: Бренды \"Volkswagen\" и \"Ford\" имеют больше всего автомобилей с нулевой ценой, с моделями \"Golf\" и \"Focus\" соответственно.\n",
    "\n",
    "- Тип Коробки Передач: Большинство автомобилей с нулевой ценой имеют ручную коробку передач.\n",
    "\n",
    "- Мощность: Мощность двигателя варьируется, но преимущественно это небольшие значения.\n",
    "\n",
    "- Пробег: Большинство автомобилей с нулевой ценой имеют высокий пробег (150,000 км).\n",
    "\n",
    "Это могут быть случаи, когда продавцы случайно или намеренно не указали цену при выставлении объявления, возможно, они продавали автомобили вне платформы, а затем попытались выставить объявления в этом без указания цены.Также это может быть связано с ошибками при сборе данных или неполными объявлениями.Возможно, данные по каким-то причинам были удалены или скрыты.\n",
    "Замена нулевых цен может оказать влияние на решение задачи предсказания цен с использованием машинного обучения. Вот некоторые аспекты, которые стоит учесть:\n",
    "\n",
    "- Смещение в данных: Замена нулевых цен может создать смещение в данных, особенно если нулевые цены были значительной частью исходных данных. Это может повлиять на обучение модели и привести к недооценке или переоценке цен.\n",
    "\n",
    "- Адекватность предсказаний\n",
    "\n",
    "- Влияние на производительность модели"
   ]
  },
  {
   "cell_type": "code",
   "execution_count": 26,
   "metadata": {},
   "outputs": [],
   "source": [
    "avto_df = avto_df[avto_df['price'] != 0]"
   ]
  },
  {
   "cell_type": "markdown",
   "metadata": {},
   "source": [
    "Удаление строк с нулевой ценой является логичным шагом, так как цена является целевым признаком, который мы пытаемся предсказать. Нулевая цена не имеет смысла для задачи предсказания цены автомобиля, и она может существенно исказить обучение моделей. Удаление нулевых цен поможет создать чистые и корректные данные для обучения и валидации моделей."
   ]
  },
  {
   "cell_type": "code",
   "execution_count": 27,
   "metadata": {},
   "outputs": [
    {
     "name": "stdout",
     "output_type": "stream",
     "text": [
      "Количество строк с месяцем регистрации 0: 11303\n"
     ]
    }
   ],
   "source": [
    "zero_month_count = avto_df[avto_df['registration_month'] == 0].shape[0]\n",
    "print(\"Количество строк с месяцем регистрации 0:\", zero_month_count)"
   ]
  },
  {
   "cell_type": "markdown",
   "metadata": {},
   "source": [
    "Количество строк с месяцем регистрации 0 составляет 12146. Это довольно большое количество строк.\n",
    "Оставим значение 0 в признаке месяца регистрации как временную заглушку. Затем, после обучения модели,мы сможим проанализировать важность признаков, которую может предоставить модель, и посмотреть, насколько этот признак влияет на предсказания. Если модель показывает, что признак месяца регистрации несущественно влияет на результаты и его важность невелика, мы примем решение об его удалении или дополнительной обработке. Однако, если важность этого признака окажется высокой, это может указывать на то, что месяц регистрации действительно имеет значение для задачи предсказания цены автомобиля. В таком случае, стоит рассмотреть более тщательную обработку аномальных значений, возможно, попытаться восстановить корректные значения месяца регистрации на основе других признаков или использовать методы заполнения пропущенных значений."
   ]
  },
  {
   "cell_type": "markdown",
   "metadata": {},
   "source": [
    "### Удалим  неинформативные признаки."
   ]
  },
  {
   "cell_type": "markdown",
   "metadata": {},
   "source": [
    "Рассмотрим каждый из признаков в наборе данных и оценим, является ли он информативным или неинформативным:\n",
    "\n",
    "- date_crawled: это дата скачивания анкеты из базы, и она, как правило, не должна влиять на цену автомобиля. Эта дата отражает момент, когда объявление было собрано для анализа, и не имеет непосредственного отношения к характеристикам автомобиля, которые могут влиять на его стоимость.\n",
    "\n",
    "- vehicle_type: Этот признак указывает на тип кузова автомобиля. Он может быть информативным, так как тип кузова может влиять на цену. Стоит оставить его.\n",
    "\n",
    "- registration_year: Этот признак указывает на год регистрации автомобиля. Он информативен, так как год выпуска может сильно влиять на цену.\n",
    "\n",
    "- gearbox: Признак типа коробки передач. Важный признак, который влияет на цену. Стоит оставить его.\n",
    "\n",
    "- power: Мощность автомобиля. Важный признак, оставляем.\n",
    "\n",
    "- model: Модель автомобиля. Информативный, оставляем.\n",
    "\n",
    "- kilometer: Пробег автомобиля. Важный признак, оставляем.\n",
    "\n",
    "- registration_month: Месяц регистрации. Мы рассмотрели ранее, что этот признак содержит аномальные значения, посмотрим на его важность позже.\n",
    "\n",
    "- fuel_type: Тип топлива. Информативный, оставляем.\n",
    "\n",
    "- brand: Марка автомобиля. Очень важный признак, оставляем.\n",
    "\n",
    "- repaired: Информация о ремонте. Информативный, оставляем.\n",
    "\n",
    "- date_created: Дата создания объявления.  По аналогии с date_crawled, этот признак, скорее всего, не влияет на цену. Удалим его.\n",
    "\n",
    "- number_of_pictures: Количество фотографий. Этот признак содержит только одно значение (0), он неинформативен, можно удалить.\n",
    "\n",
    "- postal_code: Почтовый индекс владельца анкеты (пользователя). Может влиять на цену автомобиля, так как местоположение автомобиля может сильно влиять на его стоимость. Например, автомобили, находящиеся в более центральных и популярных районах, могут стоить дороже, чем те, что находятся в отдаленных или менее привлекательных местах.\n",
    "\n",
    "- last_seen: Дата последнего просмотра объявления. Аналогично date_crawled"
   ]
  },
  {
   "cell_type": "code",
   "execution_count": 28,
   "metadata": {},
   "outputs": [],
   "source": [
    "avto_df = avto_df.drop(['date_crawled', 'date_created', 'last_seen', 'number_of_pictures'], axis=1)"
   ]
  },
  {
   "cell_type": "markdown",
   "metadata": {},
   "source": [
    "### Заполним пропущенные значения ."
   ]
  },
  {
   "cell_type": "code",
   "execution_count": 29,
   "metadata": {},
   "outputs": [
    {
     "name": "stdout",
     "output_type": "stream",
     "text": [
      "<class 'pandas.core.frame.DataFrame'>\n",
      "Int64Index: 222518 entries, 1 to 354368\n",
      "Data columns (total 13 columns):\n",
      " #   Column                     Non-Null Count   Dtype          \n",
      "---  ------                     --------------   -----          \n",
      " 0   price                      222518 non-null  int64          \n",
      " 1   vehicle_type               202525 non-null  object         \n",
      " 2   registration_year          222518 non-null  int64          \n",
      " 3   gearbox                    218210 non-null  object         \n",
      " 4   power                      222518 non-null  int64          \n",
      " 5   model                      214986 non-null  object         \n",
      " 6   kilometer                  222518 non-null  int64          \n",
      " 7   registration_month         222518 non-null  int64          \n",
      " 8   fuel_type                  208620 non-null  object         \n",
      " 9   brand                      222518 non-null  object         \n",
      " 10  repaired                   192727 non-null  object         \n",
      " 11  postal_code                222518 non-null  int64          \n",
      " 12  registration_crawled_diff  222518 non-null  timedelta64[ns]\n",
      "dtypes: int64(6), object(6), timedelta64[ns](1)\n",
      "memory usage: 23.8+ MB\n"
     ]
    }
   ],
   "source": [
    "avto_df.info()"
   ]
  },
  {
   "cell_type": "code",
   "execution_count": 30,
   "metadata": {},
   "outputs": [],
   "source": [
    "avto_df['vehicle_type'].fillna('unknown', inplace=True)"
   ]
  },
  {
   "cell_type": "code",
   "execution_count": 31,
   "metadata": {},
   "outputs": [],
   "source": [
    "avto_df['gearbox'].fillna('unknown', inplace=True)"
   ]
  },
  {
   "cell_type": "code",
   "execution_count": 32,
   "metadata": {},
   "outputs": [],
   "source": [
    "avto_df['model'].fillna('other', inplace=True)"
   ]
  },
  {
   "cell_type": "code",
   "execution_count": 33,
   "metadata": {},
   "outputs": [],
   "source": [
    "avto_df['fuel_type'].fillna('unknown', inplace=True)"
   ]
  },
  {
   "cell_type": "code",
   "execution_count": 34,
   "metadata": {},
   "outputs": [],
   "source": [
    "avto_df['repaired'].fillna('unknown', inplace=True)"
   ]
  },
  {
   "cell_type": "code",
   "execution_count": 35,
   "metadata": {},
   "outputs": [
    {
     "name": "stdout",
     "output_type": "stream",
     "text": [
      "['gasoline' 'petrol' 'unknown' 'lpg' 'other' 'hybrid' 'cng' 'electric']\n"
     ]
    }
   ],
   "source": [
    "print(avto_df['fuel_type'].unique())"
   ]
  },
  {
   "cell_type": "code",
   "execution_count": 36,
   "metadata": {},
   "outputs": [
    {
     "data": {
      "image/png": "[encoded data removed]",
      "text/plain": [
       "<Figure size 1000x600 with 1 Axes>"
      ]
     },
     "metadata": {},
     "output_type": "display_data"
    }
   ],
   "source": [
    "plt.figure(figsize=(10, 6))\n",
    "sns.countplot(data=avto_df, x='fuel_type')\n",
    "plt.xticks(rotation=45)\n",
    "plt.title('Распределение автомобилей по категориям топлива')\n",
    "plt.xlabel('Тип топлива')\n",
    "plt.ylabel('Количество автомобилей')\n",
    "plt.ylim(0, 5000) \n",
    "plt.show()"
   ]
  },
  {
   "cell_type": "code",
   "execution_count": 37,
   "metadata": {},
   "outputs": [
    {
     "data": {
      "image/png": "[encoded data removed]",
      "text/plain": [
       "<Figure size 600x400 with 1 Axes>"
      ]
     },
     "metadata": {},
     "output_type": "display_data"
    }
   ],
   "source": [
    "sns.boxplot(data=avto_df, x='fuel_type', y='price')\n",
    "plt.xticks(rotation=45)\n",
    "plt.show()"
   ]
  },
  {
   "cell_type": "code",
   "execution_count": 38,
   "metadata": {},
   "outputs": [
    {
     "name": "stdout",
     "output_type": "stream",
     "text": [
      "              count          mean          std    min     25%      50%  \\\n",
      "fuel_type                                                                \n",
      "cng           468.0   4880.264957  3143.986694    1.0  2450.0   4350.0   \n",
      "electric       58.0   8814.189655  4491.051526    1.0  5465.0   7825.0   \n",
      "gasoline    82231.0   7298.650412  4898.270502    1.0  3300.0   6000.0   \n",
      "hybrid        197.0  10444.431472  4861.583544    1.0  6200.0  10900.0   \n",
      "lpg          3264.0   5090.660846  3730.332141    1.0  2450.0   4000.0   \n",
      "other          33.0   5404.757576  4582.358345  200.0  1999.0   4200.0   \n",
      "petrol     122369.0   5232.186902  4458.082419    1.0  1850.0   3799.0   \n",
      "unknown     13898.0   3514.608001  3736.149484    1.0   990.0   2150.0   \n",
      "\n",
      "               75%      max  \n",
      "fuel_type                    \n",
      "cng         6500.0  16500.0  \n",
      "electric   12350.0  18900.0  \n",
      "gasoline   10490.0  20000.0  \n",
      "hybrid     13999.0  20000.0  \n",
      "lpg         6850.0  20000.0  \n",
      "other       6500.0  17500.0  \n",
      "petrol      7400.0  20000.0  \n",
      "unknown     4650.0  20000.0  \n"
     ]
    }
   ],
   "source": [
    "fuel_type_stats = avto_df.groupby('fuel_type')['price'].describe()\n",
    "print(fuel_type_stats)"
   ]
  },
  {
   "cell_type": "markdown",
   "metadata": {},
   "source": [
    "На графике распределения автомобилей по категориям топлива видно, что большинство автомобилей работают на бензине (\"petrol\"), но также есть значительное количество автомобилей, у которых тип топлива не указан (NaN). Кроме того, есть несколько других категорий топлива, таких как \"diesel,\" \"lpg,\" \"cng,\" и другие, но они встречаются намного реже.\n",
    "    \n",
    "Можно объединить редкие категории (например, \"lpg,\" \"cng,\" и \"electric\") в одну категорию \"other.\" Однако, я считаю,что различия между этими категориями важны для исследования (так как тип топлива влияет на цену автомобиля)и  имеет смысл оставить их как есть.\n",
    "\n",
    "Также стоит обратить внимание на категорию \"electric,\" которая может быть интересной для дополнительного анализа, так как это альтернативное топливо и может иметь важное значение с точки зрения экологии и экономии для покупателей."
   ]
  },
  {
   "cell_type": "markdown",
   "metadata": {},
   "source": [
    "## Обучение моделей"
   ]
  },
  {
   "cell_type": "markdown",
   "metadata": {},
   "source": [
    "### Подготовим выборки для обучения моделей."
   ]
  },
  {
   "cell_type": "code",
   "execution_count": 39,
   "metadata": {},
   "outputs": [
    {
     "name": "stdout",
     "output_type": "stream",
     "text": [
      "Размер обучающей выборки: 155762\n",
      "Размер валидационной выборки: 44726\n",
      "Размер тестовой выборки: 22030\n"
     ]
    }
   ],
   "source": [
    "features = avto_df.drop('price', axis=1)\n",
    "target = avto_df['price']\n",
    "\n",
    "features_train, features_valid, target_train, target_valid = train_test_split(features, target, test_size=0.3, random_state=123)\n",
    "features_valid, features_test, target_valid, target_test = train_test_split(features_valid, target_valid, test_size=0.33, random_state=42)\n",
    "\n",
    "print(\"Размер обучающей выборки:\", features_train.shape[0])\n",
    "print(\"Размер валидационной выборки:\", features_valid.shape[0])\n",
    "print(\"Размер тестовой выборки:\", features_test.shape[0])"
   ]
  },
  {
   "cell_type": "markdown",
   "metadata": {},
   "source": [
    "### Обучим разные модели."
   ]
  },
  {
   "cell_type": "code",
   "execution_count": 40,
   "metadata": {},
   "outputs": [],
   "source": [
    "features_train_encoded = features_train.copy()\n",
    "features_valid_encoded = features_valid.copy()\n",
    "\n",
    "ordinal_encoder = OrdinalEncoder()\n",
    "categorical_cols = ['vehicle_type', 'gearbox', 'model', 'fuel_type', 'brand', 'repaired']\n",
    "\n",
    "for col in categorical_cols:\n",
    "    features_train_encoded[col] = ordinal_encoder.fit_transform(features_train[[col]])\n",
    "    features_valid_encoded[col] = ordinal_encoder.transform(features_valid[[col]])\n",
    "\n",
    "features_train_encoded = features_train_encoded.drop(columns=['registration_crawled_diff'])\n",
    "features_valid_encoded = features_valid_encoded.drop(columns=['registration_crawled_diff'])"
   ]
  },
  {
   "cell_type": "code",
   "execution_count": 41,
   "metadata": {},
   "outputs": [
    {
     "name": "stdout",
     "output_type": "stream",
     "text": [
      "Лучшие параметры для RandomForestRegressor: {'max_depth': 15, 'n_estimators': 150}\n",
      "Лучшее значение RMSE для RandomForestRegressor: 1725.8550987751996\n"
     ]
    }
   ],
   "source": [
    "rf_model = RandomForestRegressor(random_state=123)\n",
    "\n",
    "start_time_rf = time.time()    \n",
    "\n",
    "param_grid = {\n",
    "    'n_estimators': [100, 150],\n",
    "    'max_depth': [10, 15]\n",
    "}\n",
    "\n",
    "grid_search = GridSearchCV(rf_model, param_grid, cv=3, scoring='neg_mean_squared_error')\n",
    "\n",
    "grid_search.fit(features_train_encoded, target_train)\n",
    "\n",
    "end_time_rf = time.time()\n",
    "rf_training_time = end_time_rf - start_time_rf\n",
    "\n",
    "best_params = grid_search.best_params_\n",
    "best_rf_model = grid_search.best_estimator_\n",
    "\n",
    "start_time_rf_pred = time.time()\n",
    "rf_predictions = best_rf_model.predict(features_valid_encoded)\n",
    "end_time_rf_pred = time.time()\n",
    "rf_pred_time = end_time_rf_pred - start_time_rf_pred\n",
    "\n",
    "rf_rmse = np.sqrt(-grid_search.best_score_)\n",
    "\n",
    "print(\"Лучшие параметры для RandomForestRegressor:\", best_params)\n",
    "print(\"Лучшее значение RMSE для RandomForestRegressor:\", rf_rmse)"
   ]
  },
  {
   "cell_type": "markdown",
   "metadata": {},
   "source": [
    "OrdinalEncoder будет использоваться для кодирования категориальных признаков,он сохранит порядок категорий."
   ]
  },
  {
   "cell_type": "code",
   "execution_count": 43,
   "metadata": {},
   "outputs": [
    {
     "name": "stdout",
     "output_type": "stream",
     "text": [
      "[LightGBM] [Info] Total Bins 861\n",
      "[LightGBM] [Info] Number of data points in the train set: 155762, number of used features: 11\n",
      "[LightGBM] [Info] Start training from score 5885.475321\n",
      "[10]\tvalid_0's rmse: 3394.1\n",
      "[20]\tvalid_0's rmse: 2659.03\n",
      "[30]\tvalid_0's rmse: 2246.07\n",
      "[40]\tvalid_0's rmse: 2018.96\n",
      "[50]\tvalid_0's rmse: 1892.53\n",
      "[60]\tvalid_0's rmse: 1818.4\n",
      "[70]\tvalid_0's rmse: 1774.3\n",
      "[80]\tvalid_0's rmse: 1744.27\n",
      "[90]\tvalid_0's rmse: 1722.72\n",
      "[100]\tvalid_0's rmse: 1707.83\n",
      "RMSE для LightGBM: 1707.8289419956668\n"
     ]
    }
   ],
   "source": [
    "train_data = lgb.Dataset(\n",
    "    features_train_encoded, label=target_train, categorical_feature=categorical_cols\n",
    ")\n",
    "valid_data = lgb.Dataset(\n",
    "    features_valid_encoded, label=target_valid, categorical_feature=categorical_cols\n",
    ")\n",
    "\n",
    "start_time_lgb = time.time()\n",
    "\n",
    "params = {\n",
    "    'objective': 'regression',\n",
    "    'metric': 'rmse',\n",
    "    'boosting_type': 'gbdt',\n",
    "    'learning_rate': 0.05,\n",
    "    'feature_fraction': 0.9,\n",
    "    'force_col_wise': True \n",
    "}\n",
    "\n",
    "num_round = 100\n",
    "bst = lgb.train(\n",
    "    params, train_data, num_boost_round=num_round, valid_sets=[valid_data],\n",
    "    callbacks=[lgb.log_evaluation(period=10)]\n",
    ")\n",
    "\n",
    "end_time_lgb = time.time()\n",
    "lgb_training_time = end_time_lgb - start_time_lgb\n",
    "\n",
    "start_time_lgb_pred = time.time()\n",
    "lgb_predictions = bst.predict(features_valid_encoded, num_iteration=bst.best_iteration)\n",
    "end_time_lgb_pred = time.time()\n",
    "lgb_pred_time = end_time_lgb_pred - start_time_lgb_pred\n",
    "\n",
    "lgb_rmse = np.sqrt(mean_squared_error(target_valid, lgb_predictions))\n",
    "print(\"RMSE для LightGBM:\", lgb_rmse)"
   ]
  },
  {
   "cell_type": "code",
   "execution_count": 44,
   "metadata": {},
   "outputs": [
    {
     "data": {
      "application/vnd.jupyter.widget-view+json": {
       "model_id": "a4bd3c582ca946d095054a138f9dcee0",
       "version_major": 2,
       "version_minor": 0
      },
      "text/plain": [
       "MetricVisualizer(layout=Layout(align_self='stretch', height='500px'))"
      ]
     },
     "metadata": {},
     "output_type": "display_data"
    },
    {
     "name": "stdout",
     "output_type": "stream",
     "text": [
      "0:\tlearn: 4530.1160765\ttest: 4541.4632411\tbest: 4541.4632411 (0)\ttotal: 1.76s\tremaining: 5m 49s\n",
      "20:\tlearn: 2486.1828053\ttest: 2508.7874486\tbest: 2508.7874486 (20)\ttotal: 35.5s\tremaining: 5m 2s\n",
      "40:\tlearn: 1879.6475689\ttest: 1921.9368911\tbest: 1921.9368911 (40)\ttotal: 1m 9s\tremaining: 4m 30s\n",
      "60:\tlearn: 1692.8822624\ttest: 1761.2412714\tbest: 1761.2412714 (60)\ttotal: 1m 45s\tremaining: 4m\n",
      "80:\tlearn: 1611.1247717\ttest: 1701.6115222\tbest: 1701.6115222 (80)\ttotal: 2m 20s\tremaining: 3m 25s\n",
      "100:\tlearn: 1563.8375207\ttest: 1675.4524432\tbest: 1675.4524432 (100)\ttotal: 2m 55s\tremaining: 2m 51s\n",
      "120:\tlearn: 1529.2993858\ttest: 1660.2517072\tbest: 1660.2517072 (120)\ttotal: 3m 31s\tremaining: 2m 18s\n",
      "140:\tlearn: 1501.1681433\ttest: 1648.5883240\tbest: 1648.5883240 (140)\ttotal: 4m 8s\tremaining: 1m 44s\n",
      "160:\tlearn: 1473.7538740\ttest: 1638.3433698\tbest: 1638.3433698 (160)\ttotal: 4m 45s\tremaining: 1m 9s\n",
      "180:\tlearn: 1444.5998332\ttest: 1630.5690111\tbest: 1630.5690111 (180)\ttotal: 5m 24s\tremaining: 34.1s\n",
      "199:\tlearn: 1416.4515320\ttest: 1623.3987957\tbest: 1623.3987957 (199)\ttotal: 6m 1s\tremaining: 0us\n",
      "\n",
      "bestTest = 1623.398796\n",
      "bestIteration = 199\n",
      "\n",
      "RMSE для CatBoost: 1623.3987957364811\n"
     ]
    }
   ],
   "source": [
    "start_time_catboost_pred = time.time()\n",
    "params = {\n",
    "    'loss_function': 'RMSE',\n",
    "    'learning_rate': 0.05,\n",
    "    'iterations': 200,\n",
    "    'random_seed': 42,\n",
    "    'depth': 15,\n",
    "    'cat_features': categorical_cols  \n",
    "}\n",
    "\n",
    "start_time_catboost = time.time()\n",
    "model = CatBoostRegressor(**params)\n",
    "model.fit(features_train, target_train, eval_set=(features_valid, target_valid),\n",
    "          early_stopping_rounds=5, verbose=20, plot=True)\n",
    "\n",
    "end_time_catboost = time.time()\n",
    "catboost_training_time = end_time_catboost - start_time_catboost\n",
    "\n",
    "\n",
    "start_time_catboost_pred = time.time()\n",
    "catboost_predictions = model.predict(features_valid)\n",
    "end_time_catboost_pred = time.time()\n",
    "catboost_pred_time = end_time_catboost_pred - start_time_catboost_pred\n",
    "\n",
    "catboost_rmse = np.sqrt(mean_squared_error(target_valid, catboost_predictions))\n",
    "print(\"RMSE для CatBoost:\", catboost_rmse)"
   ]
  },
  {
   "cell_type": "markdown",
   "metadata": {},
   "source": [
    "### Проанализируем время обучения, время предсказания и качество моделей."
   ]
  },
  {
   "cell_type": "code",
   "execution_count": 45,
   "metadata": {},
   "outputs": [
    {
     "name": "stdout",
     "output_type": "stream",
     "text": [
      "Время обучения для RandomForestRegressor: 397.06047344207764 сек\n",
      "Время предсказания для RandomForestRegressor: 1.1298441886901855 сек\n",
      "Время обучения для LightGBM: 7.430013418197632 сек\n",
      "Время предсказания для LightGBM: 0.4129812717437744 сек\n",
      "Время обучения для CatBoost: 363.29987955093384 сек\n",
      "Время предсказания для CatBoost: 0.21189355850219727 сек\n"
     ]
    }
   ],
   "source": [
    "print(\"Время обучения для RandomForestRegressor:\", rf_training_time, \"сек\")\n",
    "print(\"Время предсказания для RandomForestRegressor:\", rf_pred_time, \"сек\")\n",
    "print(\"Время обучения для LightGBM:\", lgb_training_time, \"сек\")\n",
    "print(\"Время предсказания для LightGBM:\", lgb_pred_time, \"сек\")\n",
    "print(\"Время обучения для CatBoost:\", catboost_training_time, \"сек\")\n",
    "print(\"Время предсказания для CatBoost:\", catboost_pred_time, \"сек\")"
   ]
  },
  {
   "cell_type": "markdown",
   "metadata": {},
   "source": [
    "1) Код измеряет время обучения случайного леса с использованием GridSearchCV для подбора гиперпараметров.\n",
    "    \n",
    "2) Модель CatBoost является наилучшим вариантом:\n",
    "\n",
    "- Время обучения и предсказания: CatBoost показал хорошие результаты как по времени обучения, так и по времени предсказания. Он сравним по времени обучения с RandomForestRegressor и значительно быстрее LightGBM, что может быть важным фактором в случае больших объемов данных или когда требуется быстрое обучение модели. Время предсказания для CatBoost также одно из самых низких, что делает его эффективным в использовании на практике.\n",
    "\n",
    "- Качество модели: CatBoost достиг наилучшего значения RMSE среди рассмотренных моделей. Это говорит о том, что он лучше всего приближает целевую переменную и способен предсказывать цены на автомобили с наименьшей ошибкой.\n",
    "\n",
    "- Автоматическая обработка категориальных признаков: CatBoost автоматически обрабатывает категориальные признаки, без необходимости их ручного кодирования. Это упрощает процесс подготовки данных и может сэкономить много времени.\n",
    "\n",
    "- Устойчивость к переобучению: CatBoost из коробки обладает встроенными механизмами борьбы с переобучением, такими как случайное изменение порядка обработки категориальных признаков и регуляризация. Это способствует более стабильной и надежной работе модели.\n",
    "\n",
    "- Отличное качество на данных с различными признаками: CatBoost показал хорошие результаты на данных с различными типами признаков, включая категориальные."
   ]
  },
  {
   "cell_type": "markdown",
   "metadata": {},
   "source": [
    "## Анализ моделей"
   ]
  },
  {
   "cell_type": "markdown",
   "metadata": {},
   "source": [
    "### Проверим  качество лучшей модели на тестовой выборке."
   ]
  },
  {
   "cell_type": "code",
   "execution_count": 46,
   "metadata": {},
   "outputs": [
    {
     "name": "stdout",
     "output_type": "stream",
     "text": [
      "RMSE на тестовой выборке для CatBoost: 1716.7425289049838\n"
     ]
    }
   ],
   "source": [
    "catboost_test_predictions = model.predict(features_test)\n",
    "catboost_test_rmse = np.sqrt(mean_squared_error(target_test, catboost_test_predictions))\n",
    "print(\"RMSE на тестовой выборке для CatBoost:\", catboost_test_rmse)"
   ]
  },
  {
   "cell_type": "markdown",
   "metadata": {},
   "source": [
    "Значение RMSE на тестовой выборке (1711.58) близко к значению на валидационной выборке (1619.12), что говорит о том, что модель достаточно хорошо обобщается."
   ]
  },
  {
   "cell_type": "markdown",
   "metadata": {},
   "source": [
    "### Визуализируем важность признаков в модели CatBoost."
   ]
  },
  {
   "cell_type": "code",
   "execution_count": 47,
   "metadata": {},
   "outputs": [
    {
     "data": {
      "image/png": "[encoded data removed]",
      "text/plain": [
       "<Figure size 1000x600 with 1 Axes>"
      ]
     },
     "metadata": {},
     "output_type": "display_data"
    }
   ],
   "source": [
    "feature_importance = model.get_feature_importance(type=\"FeatureImportance\")\n",
    "feature_names = model.feature_names_\n",
    "sorted_idx = feature_importance.argsort()\n",
    "\n",
    "plt.figure(figsize=(10, 6))\n",
    "plt.barh(range(len(sorted_idx)), feature_importance[sorted_idx])\n",
    "plt.yticks(range(len(sorted_idx)), [feature_names[i] for i in sorted_idx])\n",
    "plt.xlabel(\"Важность признака\")\n",
    "plt.title(\"Важность признаков в CatBoost\")\n",
    "plt.tight_layout()\n",
    "plt.show()"
   ]
  },
  {
   "cell_type": "markdown",
   "metadata": {},
   "source": [
    "**Из визуализации важности признаков в CatBoost можно сделать следующие выводы:**\n",
    "\n",
    "- registration_year: Год регистрации автомобиля имеет высокую важность. Это может свидетельствовать о том, что возраст автомобиля существенно влияет на его стоимость.\n",
    "\n",
    "- power: Мощность автомобиля также имеет значительное влияние на его стоимость. Это логично, так как мощность двигателя может влиять на производительность и характеристики автомобиля.\n",
    "\n",
    "- brand: Марка автомобиля является важным признаком. Некоторые марки могут быть более престижными или иметь лучшую репутацию, что может повлиять на цену автомобиля.\n",
    "\n",
    "- vehicle_type: Тип кузова тоже оказывает влияние на стоимость автомобиля. Например, спортивные автомобили могут иметь более высокую стоимость.\n",
    "\n",
    "- kilometer: Пробег автомобиля также важен. Меньший пробег может означать меньший износ и, следовательно, выше стоимость.\n",
    "\n",
    "- model: Модель автомобиля вносит свой вклад в определение цены. Некоторые модели могут быть более популярными или иметь особенности, которые влияют на цену.\n",
    "\n",
    "- fuel_type: Тип топлива влияет на экономику и характеристики автомобиля. Это может быть одним из факторов, влияющих на стоимость.\n",
    "\n",
    "- repaired: Информация о ремонте может влиять на стоимость. Наличие ремонта может снизить цену.\n",
    "\n",
    "- gearbox: Тип коробки передач также имеет значение для стоимости автомобиля.\n",
    "\n",
    "- registration_month: Месяц регистрации не имеет такой большой важности, как другие признаки, но всё же влияет на стоимость.\n",
    "\n",
    "- postal_code: Почтовый индекс имеет наименьшую важность из всех признаков."
   ]
  },
  {
   "cell_type": "markdown",
   "metadata": {},
   "source": [
    "**<p style=\"text-align: center;\">Итоговый вывод.</p>**"
   ]
  },
  {
   "cell_type": "markdown",
   "metadata": {},
   "source": [
    "Исходя из заданных критериев заказчика: \n",
    "- качество предсказания\n",
    "- время обучения\n",
    "- время предсказания\n",
    "\n",
    "Модель CatBoost является наилучшим вариантом. Она обеспечивает наилучшее качество предсказания, при этом время обучения и время предсказания также находятся на относительно низком уровне."
   ]
  }
 ],
 "metadata": {
  "ExecuteTimeLog": [
   {
    "duration": 1325,
    "start_time": "2023-08-25T11:33:09.172Z"
   },
   {
    "duration": 2900,
    "start_time": "2023-08-25T12:07:48.378Z"
   },
   {
    "duration": 19,
    "start_time": "2023-08-25T12:08:45.438Z"
   },
   {
    "duration": 132,
    "start_time": "2023-08-25T12:12:07.611Z"
   },
   {
    "duration": 4,
    "start_time": "2023-08-25T12:28:23.837Z"
   },
   {
    "duration": 5,
    "start_time": "2023-08-25T12:30:01.251Z"
   },
   {
    "duration": 1145,
    "start_time": "2023-08-25T12:30:28.719Z"
   },
   {
    "duration": 850,
    "start_time": "2023-08-25T12:30:29.867Z"
   },
   {
    "duration": 19,
    "start_time": "2023-08-25T12:30:30.719Z"
   },
   {
    "duration": 38,
    "start_time": "2023-08-25T12:30:30.740Z"
   },
   {
    "duration": 167,
    "start_time": "2023-08-25T12:30:30.781Z"
   },
   {
    "duration": 1485,
    "start_time": "2023-08-25T12:30:30.950Z"
   },
   {
    "duration": 4,
    "start_time": "2023-08-25T12:37:30.414Z"
   },
   {
    "duration": 1209,
    "start_time": "2023-08-25T12:37:36.555Z"
   },
   {
    "duration": 808,
    "start_time": "2023-08-25T12:37:37.767Z"
   },
   {
    "duration": 18,
    "start_time": "2023-08-25T12:37:38.577Z"
   },
   {
    "duration": 8,
    "start_time": "2023-08-25T12:37:38.598Z"
   },
   {
    "duration": 137,
    "start_time": "2023-08-25T12:37:38.608Z"
   },
   {
    "duration": 1547,
    "start_time": "2023-08-25T12:37:38.746Z"
   },
   {
    "duration": 1339,
    "start_time": "2023-08-25T12:38:59.359Z"
   },
   {
    "duration": 986,
    "start_time": "2023-08-25T12:39:00.702Z"
   },
   {
    "duration": 23,
    "start_time": "2023-08-25T12:39:01.690Z"
   },
   {
    "duration": 103,
    "start_time": "2023-08-25T12:39:01.715Z"
   },
   {
    "duration": 183,
    "start_time": "2023-08-25T12:39:01.820Z"
   },
   {
    "duration": 1620,
    "start_time": "2023-08-25T12:39:02.005Z"
   },
   {
    "duration": 1283,
    "start_time": "2023-08-25T12:40:37.387Z"
   },
   {
    "duration": 873,
    "start_time": "2023-08-25T12:40:38.672Z"
   },
   {
    "duration": 24,
    "start_time": "2023-08-25T12:40:39.547Z"
   },
   {
    "duration": 9,
    "start_time": "2023-08-25T12:40:39.574Z"
   },
   {
    "duration": 141,
    "start_time": "2023-08-25T12:40:39.586Z"
   },
   {
    "duration": 1896,
    "start_time": "2023-08-25T12:40:39.729Z"
   },
   {
    "duration": 1416,
    "start_time": "2023-08-25T12:41:23.426Z"
   },
   {
    "duration": 975,
    "start_time": "2023-08-25T12:41:24.845Z"
   },
   {
    "duration": 18,
    "start_time": "2023-08-25T12:41:25.822Z"
   },
   {
    "duration": 11,
    "start_time": "2023-08-25T12:41:25.841Z"
   },
   {
    "duration": 147,
    "start_time": "2023-08-25T12:41:25.855Z"
   },
   {
    "duration": 1489,
    "start_time": "2023-08-25T12:41:26.005Z"
   },
   {
    "duration": 1351,
    "start_time": "2023-08-25T12:42:24.357Z"
   },
   {
    "duration": 925,
    "start_time": "2023-08-25T12:42:25.710Z"
   },
   {
    "duration": 18,
    "start_time": "2023-08-25T12:42:26.636Z"
   },
   {
    "duration": 22,
    "start_time": "2023-08-25T12:42:26.657Z"
   },
   {
    "duration": 162,
    "start_time": "2023-08-25T12:42:26.681Z"
   },
   {
    "duration": 1637,
    "start_time": "2023-08-25T12:42:26.845Z"
   },
   {
    "duration": 6,
    "start_time": "2023-08-25T12:47:12.259Z"
   },
   {
    "duration": 273,
    "start_time": "2023-08-25T12:50:11.448Z"
   },
   {
    "duration": 81,
    "start_time": "2023-08-25T12:51:28.586Z"
   },
   {
    "duration": 294,
    "start_time": "2023-08-25T12:54:51.908Z"
   },
   {
    "duration": 230,
    "start_time": "2023-08-25T12:55:16.928Z"
   },
   {
    "duration": 674,
    "start_time": "2023-08-25T12:58:13.900Z"
   },
   {
    "duration": 1249,
    "start_time": "2023-08-25T12:59:15.846Z"
   },
   {
    "duration": 860,
    "start_time": "2023-08-25T12:59:17.097Z"
   },
   {
    "duration": 22,
    "start_time": "2023-08-25T12:59:17.959Z"
   },
   {
    "duration": 4,
    "start_time": "2023-08-25T12:59:17.984Z"
   },
   {
    "duration": 178,
    "start_time": "2023-08-25T12:59:17.990Z"
   },
   {
    "duration": 283,
    "start_time": "2023-08-25T12:59:18.169Z"
   },
   {
    "duration": 89,
    "start_time": "2023-08-25T12:59:18.454Z"
   },
   {
    "duration": 340,
    "start_time": "2023-08-25T12:59:18.545Z"
   },
   {
    "duration": 637,
    "start_time": "2023-08-25T12:59:18.886Z"
   },
   {
    "duration": 138,
    "start_time": "2023-08-25T13:01:12.724Z"
   },
   {
    "duration": 93,
    "start_time": "2023-08-25T13:11:28.621Z"
   },
   {
    "duration": 101,
    "start_time": "2023-08-25T13:12:35.199Z"
   },
   {
    "duration": 114,
    "start_time": "2023-08-25T13:12:57.274Z"
   },
   {
    "duration": 398,
    "start_time": "2023-08-25T13:14:02.815Z"
   },
   {
    "duration": 392,
    "start_time": "2023-08-25T13:14:15.177Z"
   },
   {
    "duration": 370,
    "start_time": "2023-08-25T13:14:46.377Z"
   },
   {
    "duration": 327,
    "start_time": "2023-08-25T13:15:34.403Z"
   },
   {
    "duration": 1134,
    "start_time": "2023-08-25T13:20:15.453Z"
   },
   {
    "duration": 1428,
    "start_time": "2023-08-25T13:20:28.689Z"
   },
   {
    "duration": 558,
    "start_time": "2023-08-25T13:25:05.802Z"
   },
   {
    "duration": 310,
    "start_time": "2023-08-25T13:26:31.254Z"
   },
   {
    "duration": 691,
    "start_time": "2023-08-25T13:27:25.433Z"
   },
   {
    "duration": 519,
    "start_time": "2023-08-25T13:27:36.753Z"
   },
   {
    "duration": 1218,
    "start_time": "2023-08-25T13:28:38.557Z"
   },
   {
    "duration": 867,
    "start_time": "2023-08-25T13:28:39.778Z"
   },
   {
    "duration": 23,
    "start_time": "2023-08-25T13:28:40.647Z"
   },
   {
    "duration": 5,
    "start_time": "2023-08-25T13:28:40.672Z"
   },
   {
    "duration": 127,
    "start_time": "2023-08-25T13:28:40.678Z"
   },
   {
    "duration": 303,
    "start_time": "2023-08-25T13:28:40.807Z"
   },
   {
    "duration": 87,
    "start_time": "2023-08-25T13:28:41.113Z"
   },
   {
    "duration": 309,
    "start_time": "2023-08-25T13:28:41.202Z"
   },
   {
    "duration": 633,
    "start_time": "2023-08-25T13:28:41.512Z"
   },
   {
    "duration": 385,
    "start_time": "2023-08-25T13:28:42.148Z"
   },
   {
    "duration": 1424,
    "start_time": "2023-08-25T13:28:42.535Z"
   },
   {
    "duration": 752,
    "start_time": "2023-08-25T13:28:43.962Z"
   },
   {
    "duration": 11,
    "start_time": "2023-08-25T13:44:45.119Z"
   },
   {
    "duration": 11,
    "start_time": "2023-08-25T13:49:25.576Z"
   },
   {
    "duration": 24,
    "start_time": "2023-08-25T13:51:54.024Z"
   },
   {
    "duration": 25,
    "start_time": "2023-08-25T14:04:02.758Z"
   },
   {
    "duration": 1317,
    "start_time": "2023-08-28T10:25:34.647Z"
   },
   {
    "duration": 1352,
    "start_time": "2023-08-28T10:25:35.967Z"
   },
   {
    "duration": 24,
    "start_time": "2023-08-28T10:25:37.321Z"
   },
   {
    "duration": 5,
    "start_time": "2023-08-28T10:25:37.346Z"
   },
   {
    "duration": 151,
    "start_time": "2023-08-28T10:25:37.353Z"
   },
   {
    "duration": 299,
    "start_time": "2023-08-28T10:25:37.505Z"
   },
   {
    "duration": 104,
    "start_time": "2023-08-28T10:25:37.806Z"
   },
   {
    "duration": 308,
    "start_time": "2023-08-28T10:25:37.912Z"
   },
   {
    "duration": 626,
    "start_time": "2023-08-28T10:25:38.223Z"
   },
   {
    "duration": 421,
    "start_time": "2023-08-28T10:25:38.851Z"
   },
   {
    "duration": 1334,
    "start_time": "2023-08-28T10:25:39.274Z"
   },
   {
    "duration": 668,
    "start_time": "2023-08-28T10:25:40.610Z"
   },
   {
    "duration": 9,
    "start_time": "2023-08-28T10:25:41.280Z"
   },
   {
    "duration": 38,
    "start_time": "2023-08-28T10:25:41.291Z"
   },
   {
    "duration": 39,
    "start_time": "2023-08-28T10:25:41.330Z"
   },
   {
    "duration": 4,
    "start_time": "2023-08-28T10:27:46.991Z"
   },
   {
    "duration": 7,
    "start_time": "2023-08-28T10:28:14.510Z"
   },
   {
    "duration": 27,
    "start_time": "2023-08-28T10:31:07.453Z"
   },
   {
    "duration": 1150,
    "start_time": "2023-08-28T10:32:57.437Z"
   },
   {
    "duration": 822,
    "start_time": "2023-08-28T10:32:58.589Z"
   },
   {
    "duration": 30,
    "start_time": "2023-08-28T10:32:59.412Z"
   },
   {
    "duration": 11,
    "start_time": "2023-08-28T10:32:59.444Z"
   },
   {
    "duration": 145,
    "start_time": "2023-08-28T10:32:59.457Z"
   },
   {
    "duration": 294,
    "start_time": "2023-08-28T10:32:59.603Z"
   },
   {
    "duration": 102,
    "start_time": "2023-08-28T10:32:59.899Z"
   },
   {
    "duration": 341,
    "start_time": "2023-08-28T10:33:00.002Z"
   },
   {
    "duration": 666,
    "start_time": "2023-08-28T10:33:00.345Z"
   },
   {
    "duration": 400,
    "start_time": "2023-08-28T10:33:01.012Z"
   },
   {
    "duration": 1429,
    "start_time": "2023-08-28T10:33:01.413Z"
   },
   {
    "duration": 700,
    "start_time": "2023-08-28T10:33:02.844Z"
   },
   {
    "duration": 6,
    "start_time": "2023-08-28T10:33:03.545Z"
   },
   {
    "duration": 21,
    "start_time": "2023-08-28T10:33:03.554Z"
   },
   {
    "duration": 71,
    "start_time": "2023-08-28T10:33:03.576Z"
   },
   {
    "duration": 6,
    "start_time": "2023-08-28T10:33:03.649Z"
   },
   {
    "duration": 34,
    "start_time": "2023-08-28T10:33:03.657Z"
   },
   {
    "duration": 1186,
    "start_time": "2023-08-28T10:54:07.642Z"
   },
   {
    "duration": 865,
    "start_time": "2023-08-28T10:54:08.830Z"
   },
   {
    "duration": 16,
    "start_time": "2023-08-28T10:54:09.697Z"
   },
   {
    "duration": 12,
    "start_time": "2023-08-28T10:54:09.715Z"
   },
   {
    "duration": 148,
    "start_time": "2023-08-28T10:54:09.729Z"
   },
   {
    "duration": 272,
    "start_time": "2023-08-28T10:54:09.879Z"
   },
   {
    "duration": 94,
    "start_time": "2023-08-28T10:54:10.153Z"
   },
   {
    "duration": 330,
    "start_time": "2023-08-28T10:54:10.249Z"
   },
   {
    "duration": 596,
    "start_time": "2023-08-28T10:54:10.581Z"
   },
   {
    "duration": 379,
    "start_time": "2023-08-28T10:54:11.178Z"
   },
   {
    "duration": 1312,
    "start_time": "2023-08-28T10:54:11.558Z"
   },
   {
    "duration": 676,
    "start_time": "2023-08-28T10:54:12.872Z"
   },
   {
    "duration": 6,
    "start_time": "2023-08-28T10:54:13.551Z"
   },
   {
    "duration": 48,
    "start_time": "2023-08-28T10:54:13.560Z"
   },
   {
    "duration": 46,
    "start_time": "2023-08-28T10:54:13.610Z"
   },
   {
    "duration": 7,
    "start_time": "2023-08-28T10:54:13.658Z"
   },
   {
    "duration": 35,
    "start_time": "2023-08-28T10:54:13.667Z"
   },
   {
    "duration": 7,
    "start_time": "2023-08-28T10:59:31.564Z"
   },
   {
    "duration": 94,
    "start_time": "2023-08-28T11:06:40.579Z"
   },
   {
    "duration": 18,
    "start_time": "2023-08-28T11:07:01.559Z"
   },
   {
    "duration": 5,
    "start_time": "2023-08-28T11:07:53.283Z"
   },
   {
    "duration": 17,
    "start_time": "2023-08-28T11:10:15.158Z"
   },
   {
    "duration": 14,
    "start_time": "2023-08-28T11:21:18.408Z"
   },
   {
    "duration": 6,
    "start_time": "2023-08-28T11:22:56.985Z"
   },
   {
    "duration": 11,
    "start_time": "2023-08-28T11:38:51.016Z"
   },
   {
    "duration": 70,
    "start_time": "2023-08-28T11:50:57.901Z"
   },
   {
    "duration": 17,
    "start_time": "2023-08-28T11:52:47.029Z"
   },
   {
    "duration": 13,
    "start_time": "2023-08-28T12:29:40.981Z"
   },
   {
    "duration": 15,
    "start_time": "2023-08-28T12:29:59.171Z"
   },
   {
    "duration": 64,
    "start_time": "2023-08-28T12:32:28.576Z"
   },
   {
    "duration": 14,
    "start_time": "2023-08-28T12:36:14.348Z"
   },
   {
    "duration": 12,
    "start_time": "2023-08-28T12:38:18.862Z"
   },
   {
    "duration": 15,
    "start_time": "2023-08-28T12:38:43.870Z"
   },
   {
    "duration": 11,
    "start_time": "2023-08-28T12:39:34.356Z"
   },
   {
    "duration": 15,
    "start_time": "2023-08-28T12:40:09.033Z"
   },
   {
    "duration": 12,
    "start_time": "2023-08-28T12:40:58.075Z"
   },
   {
    "duration": 16,
    "start_time": "2023-08-28T12:41:22.736Z"
   },
   {
    "duration": 14,
    "start_time": "2023-08-28T12:42:22.512Z"
   },
   {
    "duration": 14,
    "start_time": "2023-08-28T12:42:52.885Z"
   },
   {
    "duration": 14,
    "start_time": "2023-08-28T12:42:55.410Z"
   },
   {
    "duration": 61,
    "start_time": "2023-08-28T12:43:18.363Z"
   },
   {
    "duration": 72,
    "start_time": "2023-08-28T12:45:23.311Z"
   },
   {
    "duration": 1166,
    "start_time": "2023-08-28T15:12:43.483Z"
   },
   {
    "duration": 884,
    "start_time": "2023-08-28T15:12:44.651Z"
   },
   {
    "duration": 17,
    "start_time": "2023-08-28T15:12:45.539Z"
   },
   {
    "duration": 5,
    "start_time": "2023-08-28T15:12:45.558Z"
   },
   {
    "duration": 151,
    "start_time": "2023-08-28T15:12:45.566Z"
   },
   {
    "duration": 325,
    "start_time": "2023-08-28T15:12:45.719Z"
   },
   {
    "duration": 110,
    "start_time": "2023-08-28T15:12:46.046Z"
   },
   {
    "duration": 333,
    "start_time": "2023-08-28T15:12:46.159Z"
   },
   {
    "duration": 657,
    "start_time": "2023-08-28T15:12:46.494Z"
   },
   {
    "duration": 437,
    "start_time": "2023-08-28T15:12:47.153Z"
   },
   {
    "duration": 1327,
    "start_time": "2023-08-28T15:12:47.591Z"
   },
   {
    "duration": 700,
    "start_time": "2023-08-28T15:12:48.919Z"
   },
   {
    "duration": 11,
    "start_time": "2023-08-28T15:12:49.623Z"
   },
   {
    "duration": 91,
    "start_time": "2023-08-28T15:12:49.637Z"
   },
   {
    "duration": 44,
    "start_time": "2023-08-28T15:12:49.735Z"
   },
   {
    "duration": 6,
    "start_time": "2023-08-28T15:12:49.781Z"
   },
   {
    "duration": 119,
    "start_time": "2023-08-28T15:12:49.788Z"
   },
   {
    "duration": 10,
    "start_time": "2023-08-28T15:12:49.908Z"
   },
   {
    "duration": 84,
    "start_time": "2023-08-28T15:12:49.919Z"
   },
   {
    "duration": 73,
    "start_time": "2023-08-28T15:12:50.005Z"
   },
   {
    "duration": 72,
    "start_time": "2023-08-28T15:12:50.079Z"
   },
   {
    "duration": 122,
    "start_time": "2023-08-28T15:12:50.153Z"
   },
   {
    "duration": 64,
    "start_time": "2023-08-28T15:12:50.277Z"
   },
   {
    "duration": 63,
    "start_time": "2023-08-28T15:12:50.343Z"
   },
   {
    "duration": 37,
    "start_time": "2023-08-28T15:12:50.408Z"
   },
   {
    "duration": 37,
    "start_time": "2023-08-28T15:12:50.447Z"
   },
   {
    "duration": 27,
    "start_time": "2023-08-28T15:12:50.486Z"
   },
   {
    "duration": 120,
    "start_time": "2023-08-28T15:12:50.515Z"
   },
   {
    "duration": 18,
    "start_time": "2023-08-28T15:18:41.603Z"
   },
   {
    "duration": 1158,
    "start_time": "2023-08-28T15:19:03.331Z"
   },
   {
    "duration": 859,
    "start_time": "2023-08-28T15:19:04.491Z"
   },
   {
    "duration": 18,
    "start_time": "2023-08-28T15:19:05.352Z"
   },
   {
    "duration": 189,
    "start_time": "2023-08-28T15:19:05.372Z"
   },
   {
    "duration": 302,
    "start_time": "2023-08-28T15:19:05.564Z"
   },
   {
    "duration": 350,
    "start_time": "2023-08-28T15:19:05.868Z"
   },
   {
    "duration": 116,
    "start_time": "2023-08-28T15:19:06.223Z"
   },
   {
    "duration": 571,
    "start_time": "2023-08-28T15:19:06.342Z"
   },
   {
    "duration": 646,
    "start_time": "2023-08-28T15:19:06.914Z"
   },
   {
    "duration": 405,
    "start_time": "2023-08-28T15:19:07.562Z"
   },
   {
    "duration": 1297,
    "start_time": "2023-08-28T15:19:07.969Z"
   },
   {
    "duration": 713,
    "start_time": "2023-08-28T15:19:09.268Z"
   },
   {
    "duration": 5,
    "start_time": "2023-08-28T15:19:09.983Z"
   },
   {
    "duration": 60,
    "start_time": "2023-08-28T15:19:09.991Z"
   },
   {
    "duration": 81,
    "start_time": "2023-08-28T15:19:10.052Z"
   },
   {
    "duration": 81,
    "start_time": "2023-08-28T15:19:10.141Z"
   },
   {
    "duration": 126,
    "start_time": "2023-08-28T15:19:10.223Z"
   },
   {
    "duration": 69,
    "start_time": "2023-08-28T15:19:10.351Z"
   },
   {
    "duration": 62,
    "start_time": "2023-08-28T15:19:10.422Z"
   },
   {
    "duration": 115,
    "start_time": "2023-08-28T15:19:10.486Z"
   },
   {
    "duration": 27,
    "start_time": "2023-08-28T15:19:10.603Z"
   },
   {
    "duration": 76,
    "start_time": "2023-08-28T15:19:10.633Z"
   },
   {
    "duration": 124,
    "start_time": "2023-08-28T15:19:10.711Z"
   },
   {
    "duration": 17,
    "start_time": "2023-08-28T15:19:10.838Z"
   },
   {
    "duration": 121,
    "start_time": "2023-08-28T15:19:10.857Z"
   },
   {
    "duration": 99,
    "start_time": "2023-08-28T15:19:10.980Z"
   },
   {
    "duration": 106,
    "start_time": "2023-08-28T15:19:11.081Z"
   },
   {
    "duration": 64,
    "start_time": "2023-08-28T15:19:11.188Z"
   },
   {
    "duration": 133,
    "start_time": "2023-08-28T15:19:11.254Z"
   },
   {
    "duration": 253,
    "start_time": "2023-08-28T15:25:09.752Z"
   },
   {
    "duration": 78,
    "start_time": "2023-08-28T15:25:15.320Z"
   },
   {
    "duration": 1452,
    "start_time": "2023-08-28T19:37:01.768Z"
   },
   {
    "duration": 1021,
    "start_time": "2023-08-28T19:37:03.223Z"
   },
   {
    "duration": 16,
    "start_time": "2023-08-28T19:37:04.245Z"
   },
   {
    "duration": 19,
    "start_time": "2023-08-28T19:37:04.263Z"
   },
   {
    "duration": 129,
    "start_time": "2023-08-28T19:37:04.285Z"
   },
   {
    "duration": 269,
    "start_time": "2023-08-28T19:37:04.415Z"
   },
   {
    "duration": 87,
    "start_time": "2023-08-28T19:37:04.685Z"
   },
   {
    "duration": 288,
    "start_time": "2023-08-28T19:37:04.774Z"
   },
   {
    "duration": 533,
    "start_time": "2023-08-28T19:37:05.064Z"
   },
   {
    "duration": 359,
    "start_time": "2023-08-28T19:37:05.599Z"
   },
   {
    "duration": 1421,
    "start_time": "2023-08-28T19:37:05.960Z"
   },
   {
    "duration": 529,
    "start_time": "2023-08-28T19:37:07.384Z"
   },
   {
    "duration": 6,
    "start_time": "2023-08-28T19:37:07.914Z"
   },
   {
    "duration": 38,
    "start_time": "2023-08-28T19:37:07.922Z"
   },
   {
    "duration": 45,
    "start_time": "2023-08-28T19:37:07.962Z"
   },
   {
    "duration": 14,
    "start_time": "2023-08-28T19:37:08.009Z"
   },
   {
    "duration": 40,
    "start_time": "2023-08-28T19:37:08.024Z"
   },
   {
    "duration": 7,
    "start_time": "2023-08-28T19:37:08.066Z"
   },
   {
    "duration": 37,
    "start_time": "2023-08-28T19:37:08.075Z"
   },
   {
    "duration": 42,
    "start_time": "2023-08-28T19:37:08.114Z"
   },
   {
    "duration": 18,
    "start_time": "2023-08-28T19:37:08.158Z"
   },
   {
    "duration": 45,
    "start_time": "2023-08-28T19:37:08.178Z"
   },
   {
    "duration": 64,
    "start_time": "2023-08-28T19:37:08.225Z"
   },
   {
    "duration": 32,
    "start_time": "2023-08-28T19:37:08.291Z"
   },
   {
    "duration": 34,
    "start_time": "2023-08-28T19:37:08.325Z"
   },
   {
    "duration": 20,
    "start_time": "2023-08-28T19:37:08.360Z"
   },
   {
    "duration": 248,
    "start_time": "2023-08-28T19:37:08.382Z"
   },
   {
    "duration": 19,
    "start_time": "2023-08-28T19:37:08.632Z"
   },
   {
    "duration": 87,
    "start_time": "2023-08-28T19:37:08.652Z"
   },
   {
    "duration": 92,
    "start_time": "2023-08-28T19:56:25.276Z"
   },
   {
    "duration": 74,
    "start_time": "2023-08-28T19:56:51.264Z"
   },
   {
    "duration": 1475,
    "start_time": "2023-08-28T19:57:11.921Z"
   },
   {
    "duration": 0,
    "start_time": "2023-08-28T19:57:13.399Z"
   },
   {
    "duration": 0,
    "start_time": "2023-08-28T19:57:13.400Z"
   },
   {
    "duration": 0,
    "start_time": "2023-08-28T19:57:13.401Z"
   },
   {
    "duration": 0,
    "start_time": "2023-08-28T19:57:13.402Z"
   },
   {
    "duration": 0,
    "start_time": "2023-08-28T19:57:13.403Z"
   },
   {
    "duration": 0,
    "start_time": "2023-08-28T19:57:13.404Z"
   },
   {
    "duration": 0,
    "start_time": "2023-08-28T19:57:13.405Z"
   },
   {
    "duration": 0,
    "start_time": "2023-08-28T19:57:13.406Z"
   },
   {
    "duration": 0,
    "start_time": "2023-08-28T19:57:13.407Z"
   },
   {
    "duration": 0,
    "start_time": "2023-08-28T19:57:13.408Z"
   },
   {
    "duration": 0,
    "start_time": "2023-08-28T19:57:13.410Z"
   },
   {
    "duration": 0,
    "start_time": "2023-08-28T19:57:13.411Z"
   },
   {
    "duration": 0,
    "start_time": "2023-08-28T19:57:13.412Z"
   },
   {
    "duration": 0,
    "start_time": "2023-08-28T19:57:13.414Z"
   },
   {
    "duration": 0,
    "start_time": "2023-08-28T19:57:13.415Z"
   },
   {
    "duration": 0,
    "start_time": "2023-08-28T19:57:13.416Z"
   },
   {
    "duration": 0,
    "start_time": "2023-08-28T19:57:13.417Z"
   },
   {
    "duration": 0,
    "start_time": "2023-08-28T19:57:13.418Z"
   },
   {
    "duration": 0,
    "start_time": "2023-08-28T19:57:13.419Z"
   },
   {
    "duration": 0,
    "start_time": "2023-08-28T19:57:13.420Z"
   },
   {
    "duration": 0,
    "start_time": "2023-08-28T19:57:13.420Z"
   },
   {
    "duration": 0,
    "start_time": "2023-08-28T19:57:13.421Z"
   },
   {
    "duration": 0,
    "start_time": "2023-08-28T19:57:13.421Z"
   },
   {
    "duration": 0,
    "start_time": "2023-08-28T19:57:13.422Z"
   },
   {
    "duration": 0,
    "start_time": "2023-08-28T19:57:13.422Z"
   },
   {
    "duration": 0,
    "start_time": "2023-08-28T19:57:13.449Z"
   },
   {
    "duration": 0,
    "start_time": "2023-08-28T19:57:13.449Z"
   },
   {
    "duration": 0,
    "start_time": "2023-08-28T19:57:13.451Z"
   },
   {
    "duration": 0,
    "start_time": "2023-08-28T19:57:13.451Z"
   },
   {
    "duration": 0,
    "start_time": "2023-08-28T19:57:13.453Z"
   },
   {
    "duration": 1319,
    "start_time": "2023-08-28T19:57:48.569Z"
   },
   {
    "duration": 722,
    "start_time": "2023-08-28T19:57:49.890Z"
   },
   {
    "duration": 15,
    "start_time": "2023-08-28T19:57:50.613Z"
   },
   {
    "duration": 4,
    "start_time": "2023-08-28T19:57:50.630Z"
   },
   {
    "duration": 128,
    "start_time": "2023-08-28T19:57:50.649Z"
   },
   {
    "duration": 254,
    "start_time": "2023-08-28T19:57:50.778Z"
   },
   {
    "duration": 98,
    "start_time": "2023-08-28T19:57:51.034Z"
   },
   {
    "duration": 257,
    "start_time": "2023-08-28T19:57:51.134Z"
   },
   {
    "duration": 508,
    "start_time": "2023-08-28T19:57:51.392Z"
   },
   {
    "duration": 336,
    "start_time": "2023-08-28T19:57:51.902Z"
   },
   {
    "duration": 1235,
    "start_time": "2023-08-28T19:57:52.240Z"
   },
   {
    "duration": 536,
    "start_time": "2023-08-28T19:57:53.477Z"
   },
   {
    "duration": 5,
    "start_time": "2023-08-28T19:57:54.015Z"
   },
   {
    "duration": 35,
    "start_time": "2023-08-28T19:57:54.022Z"
   },
   {
    "duration": 41,
    "start_time": "2023-08-28T19:57:54.058Z"
   },
   {
    "duration": 7,
    "start_time": "2023-08-28T19:57:54.101Z"
   },
   {
    "duration": 47,
    "start_time": "2023-08-28T19:57:54.110Z"
   },
   {
    "duration": 5,
    "start_time": "2023-08-28T19:57:54.159Z"
   },
   {
    "duration": 10,
    "start_time": "2023-08-28T19:57:54.166Z"
   },
   {
    "duration": 15,
    "start_time": "2023-08-28T19:57:54.177Z"
   },
   {
    "duration": 7,
    "start_time": "2023-08-28T19:57:54.194Z"
   },
   {
    "duration": 12,
    "start_time": "2023-08-28T19:57:54.202Z"
   },
   {
    "duration": 85,
    "start_time": "2023-08-28T19:57:54.216Z"
   },
   {
    "duration": 12,
    "start_time": "2023-08-28T19:57:54.302Z"
   },
   {
    "duration": 23,
    "start_time": "2023-08-28T19:57:54.316Z"
   },
   {
    "duration": 15,
    "start_time": "2023-08-28T19:57:54.340Z"
   },
   {
    "duration": 13,
    "start_time": "2023-08-28T19:57:54.357Z"
   },
   {
    "duration": 21,
    "start_time": "2023-08-28T19:57:54.373Z"
   },
   {
    "duration": 91,
    "start_time": "2023-08-28T19:57:54.395Z"
   },
   {
    "duration": 34219,
    "start_time": "2023-08-28T19:57:54.488Z"
   },
   {
    "duration": 0,
    "start_time": "2023-08-28T19:58:28.709Z"
   },
   {
    "duration": 1424,
    "start_time": "2023-08-28T20:03:27.300Z"
   },
   {
    "duration": 812,
    "start_time": "2023-08-28T20:03:28.726Z"
   },
   {
    "duration": 23,
    "start_time": "2023-08-28T20:03:29.539Z"
   },
   {
    "duration": 6,
    "start_time": "2023-08-28T20:03:29.565Z"
   },
   {
    "duration": 165,
    "start_time": "2023-08-28T20:03:29.572Z"
   },
   {
    "duration": 304,
    "start_time": "2023-08-28T20:03:29.739Z"
   },
   {
    "duration": 89,
    "start_time": "2023-08-28T20:03:30.045Z"
   },
   {
    "duration": 310,
    "start_time": "2023-08-28T20:03:30.136Z"
   },
   {
    "duration": 621,
    "start_time": "2023-08-28T20:03:30.449Z"
   },
   {
    "duration": 389,
    "start_time": "2023-08-28T20:03:31.074Z"
   },
   {
    "duration": 1504,
    "start_time": "2023-08-28T20:03:31.465Z"
   },
   {
    "duration": 585,
    "start_time": "2023-08-28T20:03:32.971Z"
   },
   {
    "duration": 6,
    "start_time": "2023-08-28T20:03:33.557Z"
   },
   {
    "duration": 31,
    "start_time": "2023-08-28T20:03:33.564Z"
   },
   {
    "duration": 63,
    "start_time": "2023-08-28T20:03:33.596Z"
   },
   {
    "duration": 7,
    "start_time": "2023-08-28T20:03:33.660Z"
   },
   {
    "duration": 46,
    "start_time": "2023-08-28T20:03:33.668Z"
   },
   {
    "duration": 7,
    "start_time": "2023-08-28T20:03:33.716Z"
   },
   {
    "duration": 33,
    "start_time": "2023-08-28T20:03:33.725Z"
   },
   {
    "duration": 24,
    "start_time": "2023-08-28T20:03:33.760Z"
   },
   {
    "duration": 10,
    "start_time": "2023-08-28T20:03:33.786Z"
   },
   {
    "duration": 30,
    "start_time": "2023-08-28T20:03:33.798Z"
   },
   {
    "duration": 106,
    "start_time": "2023-08-28T20:03:33.830Z"
   },
   {
    "duration": 26,
    "start_time": "2023-08-28T20:03:33.938Z"
   },
   {
    "duration": 29,
    "start_time": "2023-08-28T20:03:33.967Z"
   },
   {
    "duration": 20,
    "start_time": "2023-08-28T20:03:33.998Z"
   },
   {
    "duration": 32,
    "start_time": "2023-08-28T20:03:34.020Z"
   },
   {
    "duration": 22,
    "start_time": "2023-08-28T20:03:34.057Z"
   },
   {
    "duration": 98,
    "start_time": "2023-08-28T20:03:34.080Z"
   },
   {
    "duration": 37872,
    "start_time": "2023-08-28T20:03:34.180Z"
   },
   {
    "duration": 0,
    "start_time": "2023-08-28T20:04:12.053Z"
   },
   {
    "duration": 4,
    "start_time": "2023-08-28T20:06:57.559Z"
   },
   {
    "duration": 1638,
    "start_time": "2023-08-28T20:08:29.420Z"
   },
   {
    "duration": 915,
    "start_time": "2023-08-28T20:08:31.060Z"
   },
   {
    "duration": 23,
    "start_time": "2023-08-28T20:08:31.977Z"
   },
   {
    "duration": 33,
    "start_time": "2023-08-28T20:08:32.002Z"
   },
   {
    "duration": 154,
    "start_time": "2023-08-28T20:08:32.036Z"
   },
   {
    "duration": 395,
    "start_time": "2023-08-28T20:08:32.192Z"
   },
   {
    "duration": 118,
    "start_time": "2023-08-28T20:08:32.590Z"
   },
   {
    "duration": 279,
    "start_time": "2023-08-28T20:08:32.710Z"
   },
   {
    "duration": 536,
    "start_time": "2023-08-28T20:08:32.991Z"
   },
   {
    "duration": 357,
    "start_time": "2023-08-28T20:08:33.530Z"
   },
   {
    "duration": 1655,
    "start_time": "2023-08-28T20:08:33.890Z"
   },
   {
    "duration": 729,
    "start_time": "2023-08-28T20:08:35.547Z"
   },
   {
    "duration": 9,
    "start_time": "2023-08-28T20:08:36.278Z"
   },
   {
    "duration": 30,
    "start_time": "2023-08-28T20:08:36.289Z"
   },
   {
    "duration": 70,
    "start_time": "2023-08-28T20:08:36.321Z"
   },
   {
    "duration": 7,
    "start_time": "2023-08-28T20:08:36.394Z"
   },
   {
    "duration": 48,
    "start_time": "2023-08-28T20:08:36.404Z"
   },
   {
    "duration": 9,
    "start_time": "2023-08-28T20:08:36.455Z"
   },
   {
    "duration": 30,
    "start_time": "2023-08-28T20:08:36.468Z"
   },
   {
    "duration": 22,
    "start_time": "2023-08-28T20:08:36.501Z"
   },
   {
    "duration": 28,
    "start_time": "2023-08-28T20:08:36.525Z"
   },
   {
    "duration": 20,
    "start_time": "2023-08-28T20:08:36.555Z"
   },
   {
    "duration": 130,
    "start_time": "2023-08-28T20:08:36.578Z"
   },
   {
    "duration": 14,
    "start_time": "2023-08-28T20:08:36.710Z"
   },
   {
    "duration": 27,
    "start_time": "2023-08-28T20:08:36.725Z"
   },
   {
    "duration": 22,
    "start_time": "2023-08-28T20:08:36.754Z"
   },
   {
    "duration": 21,
    "start_time": "2023-08-28T20:08:36.779Z"
   },
   {
    "duration": 22,
    "start_time": "2023-08-28T20:08:36.805Z"
   },
   {
    "duration": 87,
    "start_time": "2023-08-28T20:08:36.850Z"
   },
   {
    "duration": 904,
    "start_time": "2023-08-28T20:08:36.939Z"
   },
   {
    "duration": 0,
    "start_time": "2023-08-28T20:08:37.845Z"
   },
   {
    "duration": 1422,
    "start_time": "2023-08-28T20:16:55.961Z"
   },
   {
    "duration": 737,
    "start_time": "2023-08-28T20:16:57.385Z"
   },
   {
    "duration": 15,
    "start_time": "2023-08-28T20:16:58.124Z"
   },
   {
    "duration": 11,
    "start_time": "2023-08-28T20:16:58.141Z"
   },
   {
    "duration": 139,
    "start_time": "2023-08-28T20:16:58.153Z"
   },
   {
    "duration": 293,
    "start_time": "2023-08-28T20:16:58.293Z"
   },
   {
    "duration": 114,
    "start_time": "2023-08-28T20:16:58.588Z"
   },
   {
    "duration": 322,
    "start_time": "2023-08-28T20:16:58.704Z"
   },
   {
    "duration": 689,
    "start_time": "2023-08-28T20:16:59.028Z"
   },
   {
    "duration": 446,
    "start_time": "2023-08-28T20:16:59.721Z"
   },
   {
    "duration": 1328,
    "start_time": "2023-08-28T20:17:00.169Z"
   },
   {
    "duration": 547,
    "start_time": "2023-08-28T20:17:01.499Z"
   },
   {
    "duration": 7,
    "start_time": "2023-08-28T20:17:02.047Z"
   },
   {
    "duration": 41,
    "start_time": "2023-08-28T20:17:02.056Z"
   },
   {
    "duration": 56,
    "start_time": "2023-08-28T20:17:02.098Z"
   },
   {
    "duration": 8,
    "start_time": "2023-08-28T20:17:02.156Z"
   },
   {
    "duration": 44,
    "start_time": "2023-08-28T20:17:02.166Z"
   },
   {
    "duration": 6,
    "start_time": "2023-08-28T20:17:02.211Z"
   },
   {
    "duration": 31,
    "start_time": "2023-08-28T20:17:02.219Z"
   },
   {
    "duration": 28,
    "start_time": "2023-08-28T20:17:02.252Z"
   },
   {
    "duration": 11,
    "start_time": "2023-08-28T20:17:02.281Z"
   },
   {
    "duration": 38,
    "start_time": "2023-08-28T20:17:02.293Z"
   },
   {
    "duration": 104,
    "start_time": "2023-08-28T20:17:02.333Z"
   },
   {
    "duration": 44,
    "start_time": "2023-08-28T20:17:02.439Z"
   },
   {
    "duration": 47,
    "start_time": "2023-08-28T20:17:02.485Z"
   },
   {
    "duration": 15,
    "start_time": "2023-08-28T20:17:02.534Z"
   },
   {
    "duration": 28,
    "start_time": "2023-08-28T20:17:02.551Z"
   },
   {
    "duration": 19,
    "start_time": "2023-08-28T20:17:02.582Z"
   },
   {
    "duration": 79,
    "start_time": "2023-08-28T20:17:02.602Z"
   },
   {
    "duration": 0,
    "start_time": "2023-08-28T20:25:19.393Z"
   },
   {
    "duration": 0,
    "start_time": "2023-08-28T20:25:19.395Z"
   },
   {
    "duration": 1441,
    "start_time": "2023-08-28T20:25:40.960Z"
   },
   {
    "duration": 718,
    "start_time": "2023-08-28T20:25:42.403Z"
   },
   {
    "duration": 15,
    "start_time": "2023-08-28T20:25:43.122Z"
   },
   {
    "duration": 14,
    "start_time": "2023-08-28T20:25:43.139Z"
   },
   {
    "duration": 142,
    "start_time": "2023-08-28T20:25:43.156Z"
   },
   {
    "duration": 295,
    "start_time": "2023-08-28T20:25:43.300Z"
   },
   {
    "duration": 106,
    "start_time": "2023-08-28T20:25:43.597Z"
   },
   {
    "duration": 295,
    "start_time": "2023-08-28T20:25:43.705Z"
   },
   {
    "duration": 660,
    "start_time": "2023-08-28T20:25:44.002Z"
   },
   {
    "duration": 439,
    "start_time": "2023-08-28T20:25:44.664Z"
   },
   {
    "duration": 1631,
    "start_time": "2023-08-28T20:25:45.104Z"
   },
   {
    "duration": 684,
    "start_time": "2023-08-28T20:25:46.737Z"
   },
   {
    "duration": 5,
    "start_time": "2023-08-28T20:25:47.423Z"
   },
   {
    "duration": 36,
    "start_time": "2023-08-28T20:25:47.431Z"
   },
   {
    "duration": 44,
    "start_time": "2023-08-28T20:25:47.468Z"
   },
   {
    "duration": 7,
    "start_time": "2023-08-28T20:25:47.514Z"
   },
   {
    "duration": 46,
    "start_time": "2023-08-28T20:25:47.525Z"
   },
   {
    "duration": 7,
    "start_time": "2023-08-28T20:25:47.573Z"
   },
   {
    "duration": 27,
    "start_time": "2023-08-28T20:25:47.582Z"
   },
   {
    "duration": 19,
    "start_time": "2023-08-28T20:25:47.611Z"
   },
   {
    "duration": 17,
    "start_time": "2023-08-28T20:25:47.632Z"
   },
   {
    "duration": 60,
    "start_time": "2023-08-28T20:25:47.651Z"
   },
   {
    "duration": 101,
    "start_time": "2023-08-28T20:25:47.713Z"
   },
   {
    "duration": 32,
    "start_time": "2023-08-28T20:25:47.816Z"
   },
   {
    "duration": 36,
    "start_time": "2023-08-28T20:25:47.850Z"
   },
   {
    "duration": 27,
    "start_time": "2023-08-28T20:25:47.888Z"
   },
   {
    "duration": 13,
    "start_time": "2023-08-28T20:25:47.917Z"
   },
   {
    "duration": 30,
    "start_time": "2023-08-28T20:25:47.931Z"
   },
   {
    "duration": 67,
    "start_time": "2023-08-28T20:25:47.963Z"
   },
   {
    "duration": 190,
    "start_time": "2023-08-28T20:25:48.032Z"
   },
   {
    "duration": 0,
    "start_time": "2023-08-28T20:25:48.223Z"
   },
   {
    "duration": 589,
    "start_time": "2023-08-28T20:26:41.514Z"
   },
   {
    "duration": 1409,
    "start_time": "2023-08-28T20:29:34.266Z"
   },
   {
    "duration": 843,
    "start_time": "2023-08-28T20:29:35.677Z"
   },
   {
    "duration": 17,
    "start_time": "2023-08-28T20:29:36.522Z"
   },
   {
    "duration": 13,
    "start_time": "2023-08-28T20:29:36.540Z"
   },
   {
    "duration": 208,
    "start_time": "2023-08-28T20:29:36.556Z"
   },
   {
    "duration": 303,
    "start_time": "2023-08-28T20:29:36.766Z"
   },
   {
    "duration": 98,
    "start_time": "2023-08-28T20:29:37.072Z"
   },
   {
    "duration": 292,
    "start_time": "2023-08-28T20:29:37.173Z"
   },
   {
    "duration": 584,
    "start_time": "2023-08-28T20:29:37.467Z"
   },
   {
    "duration": 472,
    "start_time": "2023-08-28T20:29:38.054Z"
   },
   {
    "duration": 1514,
    "start_time": "2023-08-28T20:29:38.528Z"
   },
   {
    "duration": 547,
    "start_time": "2023-08-28T20:29:40.044Z"
   },
   {
    "duration": 8,
    "start_time": "2023-08-28T20:29:40.593Z"
   },
   {
    "duration": 24,
    "start_time": "2023-08-28T20:29:40.603Z"
   },
   {
    "duration": 55,
    "start_time": "2023-08-28T20:29:40.629Z"
   },
   {
    "duration": 6,
    "start_time": "2023-08-28T20:29:40.686Z"
   },
   {
    "duration": 26,
    "start_time": "2023-08-28T20:29:40.694Z"
   },
   {
    "duration": 33,
    "start_time": "2023-08-28T20:29:40.722Z"
   },
   {
    "duration": 13,
    "start_time": "2023-08-28T20:29:40.757Z"
   },
   {
    "duration": 21,
    "start_time": "2023-08-28T20:29:40.771Z"
   },
   {
    "duration": 8,
    "start_time": "2023-08-28T20:29:40.794Z"
   },
   {
    "duration": 13,
    "start_time": "2023-08-28T20:29:40.803Z"
   },
   {
    "duration": 86,
    "start_time": "2023-08-28T20:29:40.817Z"
   },
   {
    "duration": 12,
    "start_time": "2023-08-28T20:29:40.904Z"
   },
   {
    "duration": 12,
    "start_time": "2023-08-28T20:29:40.917Z"
   },
   {
    "duration": 24,
    "start_time": "2023-08-28T20:29:40.930Z"
   },
   {
    "duration": 24,
    "start_time": "2023-08-28T20:29:40.957Z"
   },
   {
    "duration": 20,
    "start_time": "2023-08-28T20:29:40.983Z"
   },
   {
    "duration": 100,
    "start_time": "2023-08-28T20:29:41.004Z"
   },
   {
    "duration": 590,
    "start_time": "2023-08-28T20:29:41.106Z"
   },
   {
    "duration": 0,
    "start_time": "2023-08-28T20:29:41.697Z"
   },
   {
    "duration": 1453,
    "start_time": "2023-08-28T20:31:31.521Z"
   },
   {
    "duration": 753,
    "start_time": "2023-08-28T20:31:32.976Z"
   },
   {
    "duration": 23,
    "start_time": "2023-08-28T20:31:33.730Z"
   },
   {
    "duration": 5,
    "start_time": "2023-08-28T20:31:33.755Z"
   },
   {
    "duration": 145,
    "start_time": "2023-08-28T20:31:33.762Z"
   },
   {
    "duration": 270,
    "start_time": "2023-08-28T20:31:33.909Z"
   },
   {
    "duration": 98,
    "start_time": "2023-08-28T20:31:34.181Z"
   },
   {
    "duration": 354,
    "start_time": "2023-08-28T20:31:34.281Z"
   },
   {
    "duration": 570,
    "start_time": "2023-08-28T20:31:34.637Z"
   },
   {
    "duration": 354,
    "start_time": "2023-08-28T20:31:35.209Z"
   },
   {
    "duration": 1404,
    "start_time": "2023-08-28T20:31:35.565Z"
   },
   {
    "duration": 566,
    "start_time": "2023-08-28T20:31:36.970Z"
   },
   {
    "duration": 11,
    "start_time": "2023-08-28T20:31:37.539Z"
   },
   {
    "duration": 28,
    "start_time": "2023-08-28T20:31:37.553Z"
   },
   {
    "duration": 66,
    "start_time": "2023-08-28T20:31:37.583Z"
   },
   {
    "duration": 6,
    "start_time": "2023-08-28T20:31:37.651Z"
   },
   {
    "duration": 47,
    "start_time": "2023-08-28T20:31:37.659Z"
   },
   {
    "duration": 7,
    "start_time": "2023-08-28T20:31:37.708Z"
   },
   {
    "duration": 12,
    "start_time": "2023-08-28T20:31:37.716Z"
   },
   {
    "duration": 23,
    "start_time": "2023-08-28T20:31:37.751Z"
   },
   {
    "duration": 11,
    "start_time": "2023-08-28T20:31:37.777Z"
   },
   {
    "duration": 14,
    "start_time": "2023-08-28T20:31:37.790Z"
   },
   {
    "duration": 83,
    "start_time": "2023-08-28T20:31:37.806Z"
   },
   {
    "duration": 16,
    "start_time": "2023-08-28T20:31:37.890Z"
   },
   {
    "duration": 21,
    "start_time": "2023-08-28T20:31:37.907Z"
   },
   {
    "duration": 33,
    "start_time": "2023-08-28T20:31:37.930Z"
   },
   {
    "duration": 20,
    "start_time": "2023-08-28T20:31:37.965Z"
   },
   {
    "duration": 24,
    "start_time": "2023-08-28T20:31:37.986Z"
   },
   {
    "duration": 70,
    "start_time": "2023-08-28T20:31:38.011Z"
   },
   {
    "duration": 585,
    "start_time": "2023-08-28T20:31:38.082Z"
   },
   {
    "duration": 0,
    "start_time": "2023-08-28T20:31:38.669Z"
   },
   {
    "duration": 1321,
    "start_time": "2023-08-28T20:33:21.580Z"
   },
   {
    "duration": 746,
    "start_time": "2023-08-28T20:33:22.902Z"
   },
   {
    "duration": 16,
    "start_time": "2023-08-28T20:33:23.650Z"
   },
   {
    "duration": 5,
    "start_time": "2023-08-28T20:33:23.668Z"
   },
   {
    "duration": 142,
    "start_time": "2023-08-28T20:33:23.674Z"
   },
   {
    "duration": 270,
    "start_time": "2023-08-28T20:33:23.817Z"
   },
   {
    "duration": 87,
    "start_time": "2023-08-28T20:33:24.089Z"
   },
   {
    "duration": 303,
    "start_time": "2023-08-28T20:33:24.179Z"
   },
   {
    "duration": 555,
    "start_time": "2023-08-28T20:33:24.484Z"
   },
   {
    "duration": 390,
    "start_time": "2023-08-28T20:33:25.041Z"
   },
   {
    "duration": 1460,
    "start_time": "2023-08-28T20:33:25.433Z"
   },
   {
    "duration": 543,
    "start_time": "2023-08-28T20:33:26.895Z"
   },
   {
    "duration": 11,
    "start_time": "2023-08-28T20:33:27.440Z"
   },
   {
    "duration": 26,
    "start_time": "2023-08-28T20:33:27.453Z"
   },
   {
    "duration": 68,
    "start_time": "2023-08-28T20:33:27.481Z"
   },
   {
    "duration": 8,
    "start_time": "2023-08-28T20:33:27.552Z"
   },
   {
    "duration": 36,
    "start_time": "2023-08-28T20:33:27.562Z"
   },
   {
    "duration": 8,
    "start_time": "2023-08-28T20:33:27.600Z"
   },
   {
    "duration": 39,
    "start_time": "2023-08-28T20:33:27.610Z"
   },
   {
    "duration": 20,
    "start_time": "2023-08-28T20:33:27.652Z"
   },
   {
    "duration": 8,
    "start_time": "2023-08-28T20:33:27.674Z"
   },
   {
    "duration": 13,
    "start_time": "2023-08-28T20:33:27.683Z"
   },
   {
    "duration": 79,
    "start_time": "2023-08-28T20:33:27.698Z"
   },
   {
    "duration": 13,
    "start_time": "2023-08-28T20:33:27.779Z"
   },
   {
    "duration": 13,
    "start_time": "2023-08-28T20:33:27.794Z"
   },
   {
    "duration": 15,
    "start_time": "2023-08-28T20:33:27.808Z"
   },
   {
    "duration": 31,
    "start_time": "2023-08-28T20:33:27.826Z"
   },
   {
    "duration": 22,
    "start_time": "2023-08-28T20:33:27.861Z"
   },
   {
    "duration": 78,
    "start_time": "2023-08-28T20:33:27.885Z"
   },
   {
    "duration": 4,
    "start_time": "2023-08-28T20:36:10.569Z"
   },
   {
    "duration": 160265,
    "start_time": "2023-08-28T20:36:10.576Z"
   },
   {
    "duration": 1375,
    "start_time": "2023-08-28T20:41:26.049Z"
   },
   {
    "duration": 809,
    "start_time": "2023-08-28T20:41:27.427Z"
   },
   {
    "duration": 22,
    "start_time": "2023-08-28T20:41:28.238Z"
   },
   {
    "duration": 6,
    "start_time": "2023-08-28T20:41:28.262Z"
   },
   {
    "duration": 247,
    "start_time": "2023-08-28T20:41:28.270Z"
   },
   {
    "duration": 346,
    "start_time": "2023-08-28T20:41:28.520Z"
   },
   {
    "duration": 171,
    "start_time": "2023-08-28T20:41:28.868Z"
   },
   {
    "duration": 361,
    "start_time": "2023-08-28T20:41:29.050Z"
   },
   {
    "duration": 636,
    "start_time": "2023-08-28T20:41:29.413Z"
   },
   {
    "duration": 448,
    "start_time": "2023-08-28T20:41:30.052Z"
   },
   {
    "duration": 1380,
    "start_time": "2023-08-28T20:41:30.503Z"
   },
   {
    "duration": 554,
    "start_time": "2023-08-28T20:41:31.884Z"
   },
   {
    "duration": 16,
    "start_time": "2023-08-28T20:41:32.440Z"
   },
   {
    "duration": 34,
    "start_time": "2023-08-28T20:41:32.457Z"
   },
   {
    "duration": 44,
    "start_time": "2023-08-28T20:41:32.493Z"
   },
   {
    "duration": 15,
    "start_time": "2023-08-28T20:41:32.538Z"
   },
   {
    "duration": 26,
    "start_time": "2023-08-28T20:41:32.555Z"
   },
   {
    "duration": 7,
    "start_time": "2023-08-28T20:41:32.584Z"
   },
   {
    "duration": 12,
    "start_time": "2023-08-28T20:41:32.592Z"
   },
   {
    "duration": 57,
    "start_time": "2023-08-28T20:41:32.605Z"
   },
   {
    "duration": 10,
    "start_time": "2023-08-28T20:41:32.664Z"
   },
   {
    "duration": 16,
    "start_time": "2023-08-28T20:41:32.676Z"
   },
   {
    "duration": 68,
    "start_time": "2023-08-28T20:41:32.694Z"
   },
   {
    "duration": 13,
    "start_time": "2023-08-28T20:41:32.764Z"
   },
   {
    "duration": 13,
    "start_time": "2023-08-28T20:41:32.778Z"
   },
   {
    "duration": 13,
    "start_time": "2023-08-28T20:41:32.792Z"
   },
   {
    "duration": 30,
    "start_time": "2023-08-28T20:41:32.806Z"
   },
   {
    "duration": 27,
    "start_time": "2023-08-28T20:41:32.838Z"
   },
   {
    "duration": 91,
    "start_time": "2023-08-28T20:41:32.867Z"
   },
   {
    "duration": 36362,
    "start_time": "2023-08-28T20:41:32.959Z"
   },
   {
    "duration": 0,
    "start_time": "2023-08-28T20:42:09.323Z"
   },
   {
    "duration": 1433,
    "start_time": "2023-08-28T20:43:36.215Z"
   },
   {
    "duration": 820,
    "start_time": "2023-08-28T20:43:37.651Z"
   },
   {
    "duration": 20,
    "start_time": "2023-08-28T20:43:38.475Z"
   },
   {
    "duration": 5,
    "start_time": "2023-08-28T20:43:38.499Z"
   },
   {
    "duration": 154,
    "start_time": "2023-08-28T20:43:38.505Z"
   },
   {
    "duration": 275,
    "start_time": "2023-08-28T20:43:38.661Z"
   },
   {
    "duration": 91,
    "start_time": "2023-08-28T20:43:38.938Z"
   },
   {
    "duration": 293,
    "start_time": "2023-08-28T20:43:39.031Z"
   },
   {
    "duration": 605,
    "start_time": "2023-08-28T20:43:39.325Z"
   },
   {
    "duration": 352,
    "start_time": "2023-08-28T20:43:39.933Z"
   },
   {
    "duration": 1286,
    "start_time": "2023-08-28T20:43:40.286Z"
   },
   {
    "duration": 545,
    "start_time": "2023-08-28T20:43:41.573Z"
   },
   {
    "duration": 7,
    "start_time": "2023-08-28T20:43:42.120Z"
   },
   {
    "duration": 35,
    "start_time": "2023-08-28T20:43:42.129Z"
   },
   {
    "duration": 43,
    "start_time": "2023-08-28T20:43:42.166Z"
   },
   {
    "duration": 6,
    "start_time": "2023-08-28T20:43:42.211Z"
   },
   {
    "duration": 49,
    "start_time": "2023-08-28T20:43:42.218Z"
   },
   {
    "duration": 8,
    "start_time": "2023-08-28T20:43:42.269Z"
   },
   {
    "duration": 28,
    "start_time": "2023-08-28T20:43:42.278Z"
   },
   {
    "duration": 27,
    "start_time": "2023-08-28T20:43:42.308Z"
   },
   {
    "duration": 13,
    "start_time": "2023-08-28T20:43:42.337Z"
   },
   {
    "duration": 21,
    "start_time": "2023-08-28T20:43:42.352Z"
   },
   {
    "duration": 74,
    "start_time": "2023-08-28T20:43:42.375Z"
   },
   {
    "duration": 15,
    "start_time": "2023-08-28T20:43:42.452Z"
   },
   {
    "duration": 27,
    "start_time": "2023-08-28T20:43:42.468Z"
   },
   {
    "duration": 22,
    "start_time": "2023-08-28T20:43:42.498Z"
   },
   {
    "duration": 13,
    "start_time": "2023-08-28T20:43:42.522Z"
   },
   {
    "duration": 11,
    "start_time": "2023-08-28T20:43:42.549Z"
   },
   {
    "duration": 105,
    "start_time": "2023-08-28T20:43:42.562Z"
   },
   {
    "duration": 3,
    "start_time": "2023-08-28T20:47:03.980Z"
   },
   {
    "duration": 54414,
    "start_time": "2023-08-28T20:47:03.985Z"
   },
   {
    "duration": 1399,
    "start_time": "2023-08-28T20:48:42.733Z"
   },
   {
    "duration": 773,
    "start_time": "2023-08-28T20:48:44.134Z"
   },
   {
    "duration": 17,
    "start_time": "2023-08-28T20:48:44.909Z"
   },
   {
    "duration": 5,
    "start_time": "2023-08-28T20:48:44.929Z"
   },
   {
    "duration": 142,
    "start_time": "2023-08-28T20:48:44.949Z"
   },
   {
    "duration": 257,
    "start_time": "2023-08-28T20:48:45.093Z"
   },
   {
    "duration": 87,
    "start_time": "2023-08-28T20:48:45.352Z"
   },
   {
    "duration": 279,
    "start_time": "2023-08-28T20:48:45.440Z"
   },
   {
    "duration": 606,
    "start_time": "2023-08-28T20:48:45.721Z"
   },
   {
    "duration": 339,
    "start_time": "2023-08-28T20:48:46.329Z"
   },
   {
    "duration": 1251,
    "start_time": "2023-08-28T20:48:46.669Z"
   },
   {
    "duration": 544,
    "start_time": "2023-08-28T20:48:47.922Z"
   },
   {
    "duration": 7,
    "start_time": "2023-08-28T20:48:48.467Z"
   },
   {
    "duration": 31,
    "start_time": "2023-08-28T20:48:48.476Z"
   },
   {
    "duration": 66,
    "start_time": "2023-08-28T20:48:48.508Z"
   },
   {
    "duration": 6,
    "start_time": "2023-08-28T20:48:48.575Z"
   },
   {
    "duration": 31,
    "start_time": "2023-08-28T20:48:48.583Z"
   },
   {
    "duration": 7,
    "start_time": "2023-08-28T20:48:48.615Z"
   },
   {
    "duration": 36,
    "start_time": "2023-08-28T20:48:48.623Z"
   },
   {
    "duration": 19,
    "start_time": "2023-08-28T20:48:48.661Z"
   },
   {
    "duration": 9,
    "start_time": "2023-08-28T20:48:48.682Z"
   },
   {
    "duration": 15,
    "start_time": "2023-08-28T20:48:48.692Z"
   },
   {
    "duration": 100,
    "start_time": "2023-08-28T20:48:48.709Z"
   },
   {
    "duration": 12,
    "start_time": "2023-08-28T20:48:48.811Z"
   },
   {
    "duration": 28,
    "start_time": "2023-08-28T20:48:48.824Z"
   },
   {
    "duration": 13,
    "start_time": "2023-08-28T20:48:48.854Z"
   },
   {
    "duration": 14,
    "start_time": "2023-08-28T20:48:48.868Z"
   },
   {
    "duration": 14,
    "start_time": "2023-08-28T20:48:48.885Z"
   },
   {
    "duration": 75,
    "start_time": "2023-08-28T20:48:48.901Z"
   },
   {
    "duration": 198354,
    "start_time": "2023-08-28T20:48:48.978Z"
   },
   {
    "duration": 3,
    "start_time": "2023-08-28T20:52:07.333Z"
   },
   {
    "duration": 114,
    "start_time": "2023-08-28T20:56:39.883Z"
   },
   {
    "duration": 4,
    "start_time": "2023-08-28T20:57:00.624Z"
   },
   {
    "duration": 204820,
    "start_time": "2023-08-28T20:57:06.730Z"
   },
   {
    "duration": 1745,
    "start_time": "2023-08-30T12:10:32.927Z"
   },
   {
    "duration": 2813,
    "start_time": "2023-08-30T12:10:34.674Z"
   },
   {
    "duration": 17,
    "start_time": "2023-08-30T12:10:37.489Z"
   },
   {
    "duration": 9,
    "start_time": "2023-08-30T12:10:37.508Z"
   },
   {
    "duration": 119,
    "start_time": "2023-08-30T12:10:37.519Z"
   },
   {
    "duration": 275,
    "start_time": "2023-08-30T12:10:37.640Z"
   },
   {
    "duration": 79,
    "start_time": "2023-08-30T12:10:37.917Z"
   },
   {
    "duration": 309,
    "start_time": "2023-08-30T12:10:37.997Z"
   },
   {
    "duration": 647,
    "start_time": "2023-08-30T12:10:38.307Z"
   },
   {
    "duration": 355,
    "start_time": "2023-08-30T12:10:38.957Z"
   },
   {
    "duration": 1406,
    "start_time": "2023-08-30T12:10:39.314Z"
   },
   {
    "duration": 597,
    "start_time": "2023-08-30T12:10:40.722Z"
   },
   {
    "duration": 5,
    "start_time": "2023-08-30T12:10:41.321Z"
   },
   {
    "duration": 27,
    "start_time": "2023-08-30T12:10:41.328Z"
   },
   {
    "duration": 48,
    "start_time": "2023-08-30T12:10:41.368Z"
   },
   {
    "duration": 7,
    "start_time": "2023-08-30T12:10:41.417Z"
   },
   {
    "duration": 48,
    "start_time": "2023-08-30T12:10:41.425Z"
   },
   {
    "duration": 6,
    "start_time": "2023-08-30T12:10:41.475Z"
   },
   {
    "duration": 17,
    "start_time": "2023-08-30T12:10:41.483Z"
   },
   {
    "duration": 18,
    "start_time": "2023-08-30T12:10:41.502Z"
   },
   {
    "duration": 9,
    "start_time": "2023-08-30T12:10:41.522Z"
   },
   {
    "duration": 38,
    "start_time": "2023-08-30T12:10:41.532Z"
   },
   {
    "duration": 49,
    "start_time": "2023-08-30T12:10:41.572Z"
   },
   {
    "duration": 11,
    "start_time": "2023-08-30T12:10:41.623Z"
   },
   {
    "duration": 36,
    "start_time": "2023-08-30T12:10:41.636Z"
   },
   {
    "duration": 14,
    "start_time": "2023-08-30T12:10:41.674Z"
   },
   {
    "duration": 38,
    "start_time": "2023-08-30T12:10:41.690Z"
   },
   {
    "duration": 23,
    "start_time": "2023-08-30T12:10:41.729Z"
   },
   {
    "duration": 76,
    "start_time": "2023-08-30T12:10:41.754Z"
   },
   {
    "duration": 430019,
    "start_time": "2023-08-30T12:10:41.832Z"
   },
   {
    "duration": 2,
    "start_time": "2023-08-30T12:17:51.853Z"
   },
   {
    "duration": 52,
    "start_time": "2023-08-30T12:17:51.857Z"
   },
   {
    "duration": 131,
    "start_time": "2023-08-30T12:22:43.649Z"
   },
   {
    "duration": 33,
    "start_time": "2023-08-30T12:24:54.223Z"
   },
   {
    "duration": 31,
    "start_time": "2023-08-30T12:28:11.437Z"
   },
   {
    "duration": 8367,
    "start_time": "2023-08-30T12:29:16.112Z"
   },
   {
    "duration": 7032,
    "start_time": "2023-08-30T12:34:33.653Z"
   },
   {
    "duration": 9927,
    "start_time": "2023-08-30T12:37:37.643Z"
   },
   {
    "duration": 7312,
    "start_time": "2023-08-30T12:40:47.060Z"
   },
   {
    "duration": 9659,
    "start_time": "2023-08-30T12:41:04.521Z"
   },
   {
    "duration": 4,
    "start_time": "2023-08-30T12:43:11.224Z"
   },
   {
    "duration": 7438,
    "start_time": "2023-08-30T12:43:30.842Z"
   },
   {
    "duration": 3480,
    "start_time": "2023-08-30T12:45:43.680Z"
   },
   {
    "duration": 8108,
    "start_time": "2023-08-30T12:45:55.076Z"
   },
   {
    "duration": 10825,
    "start_time": "2023-08-30T12:48:30.269Z"
   },
   {
    "duration": 8088,
    "start_time": "2023-08-30T12:54:49.396Z"
   },
   {
    "duration": 7141,
    "start_time": "2023-08-30T12:55:13.940Z"
   },
   {
    "duration": 7039,
    "start_time": "2023-08-30T12:58:01.234Z"
   },
   {
    "duration": 13660,
    "start_time": "2023-08-30T13:03:37.313Z"
   },
   {
    "duration": 24,
    "start_time": "2023-08-30T13:07:56.916Z"
   },
   {
    "duration": 8453,
    "start_time": "2023-08-30T13:08:17.428Z"
   },
   {
    "duration": 37183,
    "start_time": "2023-08-30T13:08:39.082Z"
   },
   {
    "duration": 823,
    "start_time": "2023-08-30T13:09:49.179Z"
   },
   {
    "duration": 366534,
    "start_time": "2023-08-30T13:10:03.571Z"
   },
   {
    "duration": 365333,
    "start_time": "2023-08-30T13:21:15.238Z"
   },
   {
    "duration": 9,
    "start_time": "2023-08-30T13:43:14.544Z"
   },
   {
    "duration": 2630,
    "start_time": "2023-08-30T15:03:34.126Z"
   },
   {
    "duration": 1689,
    "start_time": "2023-08-30T15:03:36.759Z"
   },
   {
    "duration": 1033,
    "start_time": "2023-08-30T15:03:38.450Z"
   },
   {
    "duration": 17,
    "start_time": "2023-08-30T15:03:39.486Z"
   },
   {
    "duration": 7,
    "start_time": "2023-08-30T15:03:39.506Z"
   },
   {
    "duration": 142,
    "start_time": "2023-08-30T15:03:39.515Z"
   },
   {
    "duration": 337,
    "start_time": "2023-08-30T15:03:39.659Z"
   },
   {
    "duration": 91,
    "start_time": "2023-08-30T15:03:39.998Z"
   },
   {
    "duration": 358,
    "start_time": "2023-08-30T15:03:40.091Z"
   },
   {
    "duration": 746,
    "start_time": "2023-08-30T15:03:40.450Z"
   },
   {
    "duration": 396,
    "start_time": "2023-08-30T15:03:41.198Z"
   },
   {
    "duration": 1752,
    "start_time": "2023-08-30T15:03:41.596Z"
   },
   {
    "duration": 704,
    "start_time": "2023-08-30T15:03:43.350Z"
   },
   {
    "duration": 24,
    "start_time": "2023-08-30T15:03:44.057Z"
   },
   {
    "duration": 37,
    "start_time": "2023-08-30T15:03:44.083Z"
   },
   {
    "duration": 75,
    "start_time": "2023-08-30T15:03:44.122Z"
   },
   {
    "duration": 14,
    "start_time": "2023-08-30T15:03:44.199Z"
   },
   {
    "duration": 41,
    "start_time": "2023-08-30T15:03:44.216Z"
   },
   {
    "duration": 19,
    "start_time": "2023-08-30T15:03:44.267Z"
   },
   {
    "duration": 25,
    "start_time": "2023-08-30T15:03:44.288Z"
   },
   {
    "duration": 26,
    "start_time": "2023-08-30T15:03:44.315Z"
   },
   {
    "duration": 9,
    "start_time": "2023-08-30T15:03:44.343Z"
   },
   {
    "duration": 34,
    "start_time": "2023-08-30T15:03:44.353Z"
   },
   {
    "duration": 51,
    "start_time": "2023-08-30T15:03:44.389Z"
   },
   {
    "duration": 34,
    "start_time": "2023-08-30T15:03:44.443Z"
   },
   {
    "duration": 13,
    "start_time": "2023-08-30T15:03:44.480Z"
   },
   {
    "duration": 48,
    "start_time": "2023-08-30T15:03:44.494Z"
   },
   {
    "duration": 39,
    "start_time": "2023-08-30T15:03:44.544Z"
   },
   {
    "duration": 37,
    "start_time": "2023-08-30T15:03:44.585Z"
   },
   {
    "duration": 124,
    "start_time": "2023-08-30T15:03:44.625Z"
   },
   {
    "duration": 480985,
    "start_time": "2023-08-30T15:03:44.752Z"
   },
   {
    "duration": 139,
    "start_time": "2023-08-30T15:11:45.739Z"
   },
   {
    "duration": 0,
    "start_time": "2023-08-30T15:11:45.881Z"
   },
   {
    "duration": 0,
    "start_time": "2023-08-30T15:11:45.882Z"
   },
   {
    "duration": 14,
    "start_time": "2023-08-30T15:14:17.530Z"
   },
   {
    "duration": 13,
    "start_time": "2023-08-30T15:16:01.942Z"
   },
   {
    "duration": 13,
    "start_time": "2023-08-30T15:17:38.249Z"
   },
   {
    "duration": 25,
    "start_time": "2023-08-30T15:18:35.558Z"
   },
   {
    "duration": 14,
    "start_time": "2023-08-30T15:19:45.282Z"
   },
   {
    "duration": 2412,
    "start_time": "2023-08-30T15:20:25.479Z"
   },
   {
    "duration": 1544,
    "start_time": "2023-08-30T15:20:27.894Z"
   },
   {
    "duration": 946,
    "start_time": "2023-08-30T15:20:29.440Z"
   },
   {
    "duration": 19,
    "start_time": "2023-08-30T15:20:30.388Z"
   },
   {
    "duration": 82,
    "start_time": "2023-08-30T15:20:30.410Z"
   },
   {
    "duration": 208,
    "start_time": "2023-08-30T15:20:30.494Z"
   },
   {
    "duration": 345,
    "start_time": "2023-08-30T15:20:30.704Z"
   },
   {
    "duration": 128,
    "start_time": "2023-08-30T15:20:31.051Z"
   },
   {
    "duration": 388,
    "start_time": "2023-08-30T15:20:31.183Z"
   },
   {
    "duration": 715,
    "start_time": "2023-08-30T15:20:31.576Z"
   },
   {
    "duration": 432,
    "start_time": "2023-08-30T15:20:32.294Z"
   },
   {
    "duration": 1714,
    "start_time": "2023-08-30T15:20:32.728Z"
   },
   {
    "duration": 655,
    "start_time": "2023-08-30T15:20:34.444Z"
   },
   {
    "duration": 7,
    "start_time": "2023-08-30T15:20:35.102Z"
   },
   {
    "duration": 51,
    "start_time": "2023-08-30T15:20:35.111Z"
   },
   {
    "duration": 55,
    "start_time": "2023-08-30T15:20:35.164Z"
   },
   {
    "duration": 6,
    "start_time": "2023-08-30T15:20:35.221Z"
   },
   {
    "duration": 55,
    "start_time": "2023-08-30T15:20:35.229Z"
   },
   {
    "duration": 9,
    "start_time": "2023-08-30T15:20:35.285Z"
   },
   {
    "duration": 39,
    "start_time": "2023-08-30T15:20:35.295Z"
   },
   {
    "duration": 20,
    "start_time": "2023-08-30T15:20:35.336Z"
   },
   {
    "duration": 21,
    "start_time": "2023-08-30T15:20:35.358Z"
   },
   {
    "duration": 24,
    "start_time": "2023-08-30T15:20:35.381Z"
   },
   {
    "duration": 56,
    "start_time": "2023-08-30T15:20:35.407Z"
   },
   {
    "duration": 18,
    "start_time": "2023-08-30T15:20:35.467Z"
   },
   {
    "duration": 24,
    "start_time": "2023-08-30T15:20:35.487Z"
   },
   {
    "duration": 26,
    "start_time": "2023-08-30T15:20:35.513Z"
   },
   {
    "duration": 16,
    "start_time": "2023-08-30T15:20:35.540Z"
   },
   {
    "duration": 43,
    "start_time": "2023-08-30T15:20:35.558Z"
   },
   {
    "duration": 112,
    "start_time": "2023-08-30T15:20:35.603Z"
   },
   {
    "duration": 266,
    "start_time": "2023-08-30T15:20:35.717Z"
   },
   {
    "duration": 127,
    "start_time": "2023-08-30T15:20:39.771Z"
   },
   {
    "duration": 15,
    "start_time": "2023-08-30T15:21:28.891Z"
   },
   {
    "duration": 15,
    "start_time": "2023-08-30T15:22:29.583Z"
   },
   {
    "duration": 13,
    "start_time": "2023-08-30T15:23:00.528Z"
   },
   {
    "duration": 27,
    "start_time": "2023-08-30T15:23:42.149Z"
   },
   {
    "duration": 2562,
    "start_time": "2023-08-30T15:25:32.692Z"
   },
   {
    "duration": 17,
    "start_time": "2023-08-30T15:25:49.084Z"
   },
   {
    "duration": 13,
    "start_time": "2023-08-30T15:26:29.115Z"
   },
   {
    "duration": 46,
    "start_time": "2023-08-30T19:33:14.774Z"
   },
   {
    "duration": 3239,
    "start_time": "2023-08-30T19:33:31.574Z"
   },
   {
    "duration": 1584,
    "start_time": "2023-08-30T19:33:34.816Z"
   },
   {
    "duration": 1049,
    "start_time": "2023-08-30T19:33:36.403Z"
   },
   {
    "duration": 19,
    "start_time": "2023-08-30T19:33:37.454Z"
   },
   {
    "duration": 5,
    "start_time": "2023-08-30T19:33:37.475Z"
   },
   {
    "duration": 207,
    "start_time": "2023-08-30T19:33:37.482Z"
   },
   {
    "duration": 289,
    "start_time": "2023-08-30T19:33:37.691Z"
   },
   {
    "duration": 93,
    "start_time": "2023-08-30T19:33:37.981Z"
   },
   {
    "duration": 322,
    "start_time": "2023-08-30T19:33:38.076Z"
   },
   {
    "duration": 607,
    "start_time": "2023-08-30T19:33:38.400Z"
   },
   {
    "duration": 376,
    "start_time": "2023-08-30T19:33:39.009Z"
   },
   {
    "duration": 1340,
    "start_time": "2023-08-30T19:33:39.387Z"
   },
   {
    "duration": 566,
    "start_time": "2023-08-30T19:33:40.728Z"
   },
   {
    "duration": 6,
    "start_time": "2023-08-30T19:33:41.298Z"
   },
   {
    "duration": 24,
    "start_time": "2023-08-30T19:33:41.306Z"
   },
   {
    "duration": 48,
    "start_time": "2023-08-30T19:33:41.349Z"
   },
   {
    "duration": 6,
    "start_time": "2023-08-30T19:33:41.399Z"
   },
   {
    "duration": 47,
    "start_time": "2023-08-30T19:33:41.407Z"
   },
   {
    "duration": 7,
    "start_time": "2023-08-30T19:33:41.456Z"
   },
   {
    "duration": 13,
    "start_time": "2023-08-30T19:33:41.465Z"
   },
   {
    "duration": 17,
    "start_time": "2023-08-30T19:33:41.480Z"
   },
   {
    "duration": 7,
    "start_time": "2023-08-30T19:33:41.499Z"
   },
   {
    "duration": 50,
    "start_time": "2023-08-30T19:33:41.508Z"
   },
   {
    "duration": 63,
    "start_time": "2023-08-30T19:33:41.559Z"
   },
   {
    "duration": 11,
    "start_time": "2023-08-30T19:33:41.623Z"
   },
   {
    "duration": 27,
    "start_time": "2023-08-30T19:33:41.636Z"
   },
   {
    "duration": 13,
    "start_time": "2023-08-30T19:33:41.665Z"
   },
   {
    "duration": 12,
    "start_time": "2023-08-30T19:33:41.680Z"
   },
   {
    "duration": 14,
    "start_time": "2023-08-30T19:33:41.693Z"
   },
   {
    "duration": 95,
    "start_time": "2023-08-30T19:33:41.708Z"
   },
   {
    "duration": 238,
    "start_time": "2023-08-30T19:33:41.804Z"
   },
   {
    "duration": 129,
    "start_time": "2023-08-30T19:33:46.623Z"
   },
   {
    "duration": 10,
    "start_time": "2023-08-30T19:34:35.674Z"
   },
   {
    "duration": 2144,
    "start_time": "2023-08-30T19:38:07.687Z"
   },
   {
    "duration": 1395,
    "start_time": "2023-08-30T19:38:09.833Z"
   },
   {
    "duration": 751,
    "start_time": "2023-08-30T19:38:11.229Z"
   },
   {
    "duration": 15,
    "start_time": "2023-08-30T19:38:11.982Z"
   },
   {
    "duration": 8,
    "start_time": "2023-08-30T19:38:11.999Z"
   },
   {
    "duration": 127,
    "start_time": "2023-08-30T19:38:12.008Z"
   },
   {
    "duration": 257,
    "start_time": "2023-08-30T19:38:12.137Z"
   },
   {
    "duration": 91,
    "start_time": "2023-08-30T19:38:12.396Z"
   },
   {
    "duration": 272,
    "start_time": "2023-08-30T19:38:12.489Z"
   },
   {
    "duration": 529,
    "start_time": "2023-08-30T19:38:12.763Z"
   },
   {
    "duration": 345,
    "start_time": "2023-08-30T19:38:13.294Z"
   },
   {
    "duration": 1246,
    "start_time": "2023-08-30T19:38:13.641Z"
   },
   {
    "duration": 523,
    "start_time": "2023-08-30T19:38:14.889Z"
   },
   {
    "duration": 6,
    "start_time": "2023-08-30T19:38:15.415Z"
   },
   {
    "duration": 52,
    "start_time": "2023-08-30T19:38:15.422Z"
   },
   {
    "duration": 43,
    "start_time": "2023-08-30T19:38:15.476Z"
   },
   {
    "duration": 5,
    "start_time": "2023-08-30T19:38:15.520Z"
   },
   {
    "duration": 42,
    "start_time": "2023-08-30T19:38:15.527Z"
   },
   {
    "duration": 6,
    "start_time": "2023-08-30T19:38:15.570Z"
   },
   {
    "duration": 47,
    "start_time": "2023-08-30T19:38:15.578Z"
   },
   {
    "duration": 41,
    "start_time": "2023-08-30T19:38:15.627Z"
   },
   {
    "duration": 9,
    "start_time": "2023-08-30T19:38:15.670Z"
   },
   {
    "duration": 22,
    "start_time": "2023-08-30T19:38:15.680Z"
   },
   {
    "duration": 55,
    "start_time": "2023-08-30T19:38:15.704Z"
   },
   {
    "duration": 28,
    "start_time": "2023-08-30T19:38:15.761Z"
   },
   {
    "duration": 18,
    "start_time": "2023-08-30T19:38:15.791Z"
   },
   {
    "duration": 32,
    "start_time": "2023-08-30T19:38:15.810Z"
   },
   {
    "duration": 33,
    "start_time": "2023-08-30T19:38:15.844Z"
   },
   {
    "duration": 26,
    "start_time": "2023-08-30T19:38:15.879Z"
   },
   {
    "duration": 77,
    "start_time": "2023-08-30T19:38:15.907Z"
   },
   {
    "duration": 223,
    "start_time": "2023-08-30T19:38:15.986Z"
   },
   {
    "duration": 104,
    "start_time": "2023-08-30T19:38:20.190Z"
   },
   {
    "duration": 14,
    "start_time": "2023-08-30T19:39:59.541Z"
   },
   {
    "duration": 11,
    "start_time": "2023-08-30T19:40:55.026Z"
   },
   {
    "duration": 11,
    "start_time": "2023-08-30T19:41:55.894Z"
   },
   {
    "duration": 11,
    "start_time": "2023-08-30T19:42:39.922Z"
   },
   {
    "duration": 12,
    "start_time": "2023-08-30T19:44:00.898Z"
   },
   {
    "duration": 2193,
    "start_time": "2023-08-30T19:47:51.253Z"
   },
   {
    "duration": 1391,
    "start_time": "2023-08-30T19:47:53.448Z"
   },
   {
    "duration": 746,
    "start_time": "2023-08-30T19:47:54.840Z"
   },
   {
    "duration": 14,
    "start_time": "2023-08-30T19:47:55.588Z"
   },
   {
    "duration": 4,
    "start_time": "2023-08-30T19:47:55.604Z"
   },
   {
    "duration": 172,
    "start_time": "2023-08-30T19:47:55.609Z"
   },
   {
    "duration": 273,
    "start_time": "2023-08-30T19:47:55.783Z"
   },
   {
    "duration": 145,
    "start_time": "2023-08-30T19:47:56.058Z"
   },
   {
    "duration": 322,
    "start_time": "2023-08-30T19:47:56.205Z"
   },
   {
    "duration": 569,
    "start_time": "2023-08-30T19:47:56.530Z"
   },
   {
    "duration": 374,
    "start_time": "2023-08-30T19:47:57.100Z"
   },
   {
    "duration": 1214,
    "start_time": "2023-08-30T19:47:57.475Z"
   },
   {
    "duration": 533,
    "start_time": "2023-08-30T19:47:58.691Z"
   },
   {
    "duration": 5,
    "start_time": "2023-08-30T19:47:59.227Z"
   },
   {
    "duration": 36,
    "start_time": "2023-08-30T19:47:59.233Z"
   },
   {
    "duration": 44,
    "start_time": "2023-08-30T19:47:59.271Z"
   },
   {
    "duration": 5,
    "start_time": "2023-08-30T19:47:59.317Z"
   },
   {
    "duration": 52,
    "start_time": "2023-08-30T19:47:59.324Z"
   },
   {
    "duration": 7,
    "start_time": "2023-08-30T19:47:59.377Z"
   },
   {
    "duration": 11,
    "start_time": "2023-08-30T19:47:59.386Z"
   },
   {
    "duration": 17,
    "start_time": "2023-08-30T19:47:59.399Z"
   },
   {
    "duration": 32,
    "start_time": "2023-08-30T19:47:59.418Z"
   },
   {
    "duration": 12,
    "start_time": "2023-08-30T19:47:59.452Z"
   },
   {
    "duration": 142,
    "start_time": "2023-08-30T19:47:59.465Z"
   },
   {
    "duration": 62,
    "start_time": "2023-08-30T19:47:59.608Z"
   },
   {
    "duration": 50,
    "start_time": "2023-08-30T19:47:59.671Z"
   },
   {
    "duration": 52,
    "start_time": "2023-08-30T19:47:59.722Z"
   },
   {
    "duration": 13,
    "start_time": "2023-08-30T19:47:59.776Z"
   },
   {
    "duration": 15,
    "start_time": "2023-08-30T19:47:59.791Z"
   },
   {
    "duration": 66,
    "start_time": "2023-08-30T19:47:59.808Z"
   },
   {
    "duration": 215,
    "start_time": "2023-08-30T19:47:59.876Z"
   },
   {
    "duration": 108,
    "start_time": "2023-08-30T19:48:45.539Z"
   },
   {
    "duration": 110455,
    "start_time": "2023-08-30T19:48:57.711Z"
   },
   {
    "duration": 2226,
    "start_time": "2023-08-30T19:51:07.817Z"
   },
   {
    "duration": 1402,
    "start_time": "2023-08-30T19:51:10.045Z"
   },
   {
    "duration": 733,
    "start_time": "2023-08-30T19:51:11.449Z"
   },
   {
    "duration": 15,
    "start_time": "2023-08-30T19:51:12.184Z"
   },
   {
    "duration": 8,
    "start_time": "2023-08-30T19:51:12.200Z"
   },
   {
    "duration": 128,
    "start_time": "2023-08-30T19:51:12.209Z"
   },
   {
    "duration": 267,
    "start_time": "2023-08-30T19:51:12.339Z"
   },
   {
    "duration": 81,
    "start_time": "2023-08-30T19:51:12.608Z"
   },
   {
    "duration": 272,
    "start_time": "2023-08-30T19:51:12.691Z"
   },
   {
    "duration": 705,
    "start_time": "2023-08-30T19:51:12.966Z"
   },
   {
    "duration": 396,
    "start_time": "2023-08-30T19:51:13.673Z"
   },
   {
    "duration": 1282,
    "start_time": "2023-08-30T19:51:14.070Z"
   },
   {
    "duration": 535,
    "start_time": "2023-08-30T19:51:15.353Z"
   },
   {
    "duration": 6,
    "start_time": "2023-08-30T19:51:15.890Z"
   },
   {
    "duration": 28,
    "start_time": "2023-08-30T19:51:15.897Z"
   },
   {
    "duration": 70,
    "start_time": "2023-08-30T19:51:15.926Z"
   },
   {
    "duration": 7,
    "start_time": "2023-08-30T19:51:15.998Z"
   },
   {
    "duration": 54,
    "start_time": "2023-08-30T19:51:16.010Z"
   },
   {
    "duration": 8,
    "start_time": "2023-08-30T19:51:16.066Z"
   },
   {
    "duration": 16,
    "start_time": "2023-08-30T19:51:16.076Z"
   },
   {
    "duration": 20,
    "start_time": "2023-08-30T19:51:16.094Z"
   },
   {
    "duration": 9,
    "start_time": "2023-08-30T19:51:16.116Z"
   },
   {
    "duration": 14,
    "start_time": "2023-08-30T19:51:16.151Z"
   },
   {
    "duration": 119,
    "start_time": "2023-08-30T19:51:16.167Z"
   },
   {
    "duration": 25,
    "start_time": "2023-08-30T19:51:16.288Z"
   },
   {
    "duration": 21,
    "start_time": "2023-08-30T19:51:16.315Z"
   },
   {
    "duration": 19,
    "start_time": "2023-08-30T19:51:16.351Z"
   },
   {
    "duration": 20,
    "start_time": "2023-08-30T19:51:16.375Z"
   },
   {
    "duration": 27,
    "start_time": "2023-08-30T19:51:16.397Z"
   },
   {
    "duration": 89,
    "start_time": "2023-08-30T19:51:16.426Z"
   },
   {
    "duration": 245,
    "start_time": "2023-08-30T19:51:16.516Z"
   },
   {
    "duration": 440771,
    "start_time": "2023-08-30T19:51:20.701Z"
   },
   {
    "duration": 115272,
    "start_time": "2023-08-30T20:01:40.798Z"
   },
   {
    "duration": 2400,
    "start_time": "2023-08-30T20:04:15.344Z"
   },
   {
    "duration": 1489,
    "start_time": "2023-08-30T20:04:17.747Z"
   },
   {
    "duration": 899,
    "start_time": "2023-08-30T20:04:19.238Z"
   },
   {
    "duration": 23,
    "start_time": "2023-08-30T20:04:20.139Z"
   },
   {
    "duration": 10,
    "start_time": "2023-08-30T20:04:20.165Z"
   },
   {
    "duration": 144,
    "start_time": "2023-08-30T20:04:20.176Z"
   },
   {
    "duration": 355,
    "start_time": "2023-08-30T20:04:20.325Z"
   },
   {
    "duration": 104,
    "start_time": "2023-08-30T20:04:20.682Z"
   },
   {
    "duration": 382,
    "start_time": "2023-08-30T20:04:20.788Z"
   },
   {
    "duration": 643,
    "start_time": "2023-08-30T20:04:21.172Z"
   },
   {
    "duration": 398,
    "start_time": "2023-08-30T20:04:21.818Z"
   },
   {
    "duration": 1543,
    "start_time": "2023-08-30T20:04:22.217Z"
   },
   {
    "duration": 655,
    "start_time": "2023-08-30T20:04:23.762Z"
   },
   {
    "duration": 8,
    "start_time": "2023-08-30T20:04:24.421Z"
   },
   {
    "duration": 46,
    "start_time": "2023-08-30T20:04:24.431Z"
   },
   {
    "duration": 57,
    "start_time": "2023-08-30T20:04:24.480Z"
   },
   {
    "duration": 9,
    "start_time": "2023-08-30T20:04:24.549Z"
   },
   {
    "duration": 41,
    "start_time": "2023-08-30T20:04:24.559Z"
   },
   {
    "duration": 9,
    "start_time": "2023-08-30T20:04:24.603Z"
   },
   {
    "duration": 49,
    "start_time": "2023-08-30T20:04:24.614Z"
   },
   {
    "duration": 22,
    "start_time": "2023-08-30T20:04:24.665Z"
   },
   {
    "duration": 10,
    "start_time": "2023-08-30T20:04:24.690Z"
   },
   {
    "duration": 14,
    "start_time": "2023-08-30T20:04:24.702Z"
   },
   {
    "duration": 85,
    "start_time": "2023-08-30T20:04:24.718Z"
   },
   {
    "duration": 20,
    "start_time": "2023-08-30T20:04:24.805Z"
   },
   {
    "duration": 31,
    "start_time": "2023-08-30T20:04:24.827Z"
   },
   {
    "duration": 26,
    "start_time": "2023-08-30T20:04:24.860Z"
   },
   {
    "duration": 43,
    "start_time": "2023-08-30T20:04:24.888Z"
   },
   {
    "duration": 21,
    "start_time": "2023-08-30T20:04:24.933Z"
   },
   {
    "duration": 72,
    "start_time": "2023-08-30T20:04:24.956Z"
   },
   {
    "duration": 444183,
    "start_time": "2023-08-30T20:04:25.030Z"
   },
   {
    "duration": 425846,
    "start_time": "2023-08-30T20:11:49.214Z"
   },
   {
    "duration": 342753,
    "start_time": "2023-08-30T20:18:55.061Z"
   },
   {
    "duration": 142,
    "start_time": "2023-08-30T20:24:37.817Z"
   },
   {
    "duration": 2542,
    "start_time": "2023-08-30T20:31:04.040Z"
   },
   {
    "duration": 1674,
    "start_time": "2023-08-30T20:31:06.585Z"
   },
   {
    "duration": 757,
    "start_time": "2023-08-30T20:31:08.261Z"
   },
   {
    "duration": 16,
    "start_time": "2023-08-30T20:31:09.020Z"
   },
   {
    "duration": 14,
    "start_time": "2023-08-30T20:31:09.038Z"
   },
   {
    "duration": 165,
    "start_time": "2023-08-30T20:31:09.054Z"
   },
   {
    "duration": 284,
    "start_time": "2023-08-30T20:31:09.221Z"
   },
   {
    "duration": 85,
    "start_time": "2023-08-30T20:31:09.507Z"
   },
   {
    "duration": 295,
    "start_time": "2023-08-30T20:31:09.593Z"
   },
   {
    "duration": 581,
    "start_time": "2023-08-30T20:31:09.890Z"
   },
   {
    "duration": 380,
    "start_time": "2023-08-30T20:31:10.473Z"
   },
   {
    "duration": 1280,
    "start_time": "2023-08-30T20:31:10.854Z"
   },
   {
    "duration": 548,
    "start_time": "2023-08-30T20:31:12.135Z"
   },
   {
    "duration": 8,
    "start_time": "2023-08-30T20:31:12.687Z"
   },
   {
    "duration": 35,
    "start_time": "2023-08-30T20:31:12.697Z"
   },
   {
    "duration": 41,
    "start_time": "2023-08-30T20:31:12.750Z"
   },
   {
    "duration": 9,
    "start_time": "2023-08-30T20:31:12.793Z"
   },
   {
    "duration": 58,
    "start_time": "2023-08-30T20:31:12.804Z"
   },
   {
    "duration": 8,
    "start_time": "2023-08-30T20:31:12.864Z"
   },
   {
    "duration": 14,
    "start_time": "2023-08-30T20:31:12.873Z"
   },
   {
    "duration": 16,
    "start_time": "2023-08-30T20:31:12.889Z"
   },
   {
    "duration": 9,
    "start_time": "2023-08-30T20:31:12.907Z"
   },
   {
    "duration": 44,
    "start_time": "2023-08-30T20:31:12.917Z"
   },
   {
    "duration": 57,
    "start_time": "2023-08-30T20:31:12.962Z"
   },
   {
    "duration": 37,
    "start_time": "2023-08-30T20:31:13.022Z"
   },
   {
    "duration": 22,
    "start_time": "2023-08-30T20:31:13.061Z"
   },
   {
    "duration": 22,
    "start_time": "2023-08-30T20:31:13.085Z"
   },
   {
    "duration": 43,
    "start_time": "2023-08-30T20:31:13.109Z"
   },
   {
    "duration": 20,
    "start_time": "2023-08-30T20:31:13.155Z"
   },
   {
    "duration": 80,
    "start_time": "2023-08-30T20:31:13.177Z"
   },
   {
    "duration": 427629,
    "start_time": "2023-08-30T20:31:30.409Z"
   },
   {
    "duration": 118,
    "start_time": "2023-08-30T20:38:54.889Z"
   },
   {
    "duration": 5,
    "start_time": "2023-08-30T20:39:08.081Z"
   },
   {
    "duration": 495053,
    "start_time": "2023-08-30T20:41:22.617Z"
   },
   {
    "duration": 5,
    "start_time": "2023-08-30T20:49:58.180Z"
   },
   {
    "duration": 350260,
    "start_time": "2023-08-30T20:50:58.685Z"
   },
   {
    "duration": 15,
    "start_time": "2023-08-30T20:59:32.867Z"
   },
   {
    "duration": 372816,
    "start_time": "2023-08-30T21:01:16.338Z"
   },
   {
    "duration": 13,
    "start_time": "2023-08-30T21:07:46.962Z"
   },
   {
    "duration": 105,
    "start_time": "2023-08-30T21:15:37.085Z"
   },
   {
    "duration": 633,
    "start_time": "2023-08-30T21:21:10.793Z"
   },
   {
    "duration": 731,
    "start_time": "2023-08-30T21:25:48.486Z"
   },
   {
    "duration": 8,
    "start_time": "2023-08-30T21:26:55.046Z"
   },
   {
    "duration": 3397,
    "start_time": "2023-08-31T13:46:38.795Z"
   },
   {
    "duration": 1680,
    "start_time": "2023-08-31T13:46:42.195Z"
   },
   {
    "duration": 2922,
    "start_time": "2023-08-31T13:46:43.877Z"
   },
   {
    "duration": 17,
    "start_time": "2023-08-31T13:46:46.801Z"
   },
   {
    "duration": 6,
    "start_time": "2023-08-31T13:46:46.820Z"
   },
   {
    "duration": 129,
    "start_time": "2023-08-31T13:46:46.828Z"
   },
   {
    "duration": 275,
    "start_time": "2023-08-31T13:46:46.958Z"
   },
   {
    "duration": 81,
    "start_time": "2023-08-31T13:46:47.235Z"
   },
   {
    "duration": 314,
    "start_time": "2023-08-31T13:46:47.318Z"
   },
   {
    "duration": 583,
    "start_time": "2023-08-31T13:46:47.633Z"
   },
   {
    "duration": 336,
    "start_time": "2023-08-31T13:46:48.217Z"
   },
   {
    "duration": 1601,
    "start_time": "2023-08-31T13:46:48.554Z"
   },
   {
    "duration": 599,
    "start_time": "2023-08-31T13:46:50.157Z"
   },
   {
    "duration": 8,
    "start_time": "2023-08-31T13:46:50.760Z"
   },
   {
    "duration": 47,
    "start_time": "2023-08-31T13:46:50.770Z"
   },
   {
    "duration": 51,
    "start_time": "2023-08-31T13:46:50.818Z"
   },
   {
    "duration": 7,
    "start_time": "2023-08-31T13:46:50.871Z"
   },
   {
    "duration": 35,
    "start_time": "2023-08-31T13:46:50.879Z"
   },
   {
    "duration": 8,
    "start_time": "2023-08-31T13:46:50.916Z"
   },
   {
    "duration": 42,
    "start_time": "2023-08-31T13:46:50.926Z"
   },
   {
    "duration": 20,
    "start_time": "2023-08-31T13:46:50.970Z"
   },
   {
    "duration": 11,
    "start_time": "2023-08-31T13:46:50.992Z"
   },
   {
    "duration": 40,
    "start_time": "2023-08-31T13:46:51.004Z"
   },
   {
    "duration": 77,
    "start_time": "2023-08-31T13:46:51.046Z"
   },
   {
    "duration": 12,
    "start_time": "2023-08-31T13:46:51.125Z"
   },
   {
    "duration": 19,
    "start_time": "2023-08-31T13:46:51.139Z"
   },
   {
    "duration": 17,
    "start_time": "2023-08-31T13:46:51.160Z"
   },
   {
    "duration": 18,
    "start_time": "2023-08-31T13:46:51.179Z"
   },
   {
    "duration": 15,
    "start_time": "2023-08-31T13:46:51.198Z"
   },
   {
    "duration": 94,
    "start_time": "2023-08-31T13:46:51.215Z"
   },
   {
    "duration": 448123,
    "start_time": "2023-08-31T13:46:51.310Z"
   },
   {
    "duration": 318738,
    "start_time": "2023-08-31T13:54:19.435Z"
   },
   {
    "duration": 372094,
    "start_time": "2023-08-31T13:59:38.175Z"
   },
   {
    "duration": 6,
    "start_time": "2023-08-31T14:05:50.271Z"
   },
   {
    "duration": 135,
    "start_time": "2023-08-31T14:05:50.279Z"
   },
   {
    "duration": 721,
    "start_time": "2023-08-31T14:05:50.416Z"
   },
   {
    "duration": 143,
    "start_time": "2023-08-31T14:46:18.619Z"
   },
   {
    "duration": 6416,
    "start_time": "2023-08-31T14:49:05.355Z"
   },
   {
    "duration": 134,
    "start_time": "2023-08-31T14:49:17.083Z"
   },
   {
    "duration": 14,
    "start_time": "2023-08-31T14:50:17.192Z"
   },
   {
    "duration": 373098,
    "start_time": "2023-08-31T14:59:51.094Z"
   },
   {
    "duration": 1919,
    "start_time": "2023-08-31T21:45:08.218Z"
   },
   {
    "duration": 1329,
    "start_time": "2023-08-31T21:45:10.140Z"
   },
   {
    "duration": 20,
    "start_time": "2023-08-31T21:45:11.471Z"
   },
   {
    "duration": 7,
    "start_time": "2023-08-31T21:45:11.494Z"
   },
   {
    "duration": 268,
    "start_time": "2023-08-31T21:45:11.512Z"
   },
   {
    "duration": 337,
    "start_time": "2023-08-31T21:45:11.782Z"
   },
   {
    "duration": 112,
    "start_time": "2023-08-31T21:45:12.121Z"
   },
   {
    "duration": 438,
    "start_time": "2023-08-31T21:45:12.235Z"
   },
   {
    "duration": 799,
    "start_time": "2023-08-31T21:45:12.675Z"
   },
   {
    "duration": 462,
    "start_time": "2023-08-31T21:45:13.477Z"
   },
   {
    "duration": 1681,
    "start_time": "2023-08-31T21:45:13.940Z"
   },
   {
    "duration": 686,
    "start_time": "2023-08-31T21:45:15.622Z"
   },
   {
    "duration": 16,
    "start_time": "2023-08-31T21:45:16.314Z"
   },
   {
    "duration": 37,
    "start_time": "2023-08-31T21:45:16.334Z"
   },
   {
    "duration": 54,
    "start_time": "2023-08-31T21:45:16.372Z"
   },
   {
    "duration": 11,
    "start_time": "2023-08-31T21:45:16.428Z"
   },
   {
    "duration": 32,
    "start_time": "2023-08-31T21:45:16.440Z"
   },
   {
    "duration": 8,
    "start_time": "2023-08-31T21:45:16.474Z"
   },
   {
    "duration": 19,
    "start_time": "2023-08-31T21:45:16.512Z"
   },
   {
    "duration": 20,
    "start_time": "2023-08-31T21:45:16.533Z"
   },
   {
    "duration": 8,
    "start_time": "2023-08-31T21:45:16.555Z"
   },
   {
    "duration": 58,
    "start_time": "2023-08-31T21:45:16.565Z"
   },
   {
    "duration": 86,
    "start_time": "2023-08-31T21:45:16.631Z"
   },
   {
    "duration": 117,
    "start_time": "2023-08-31T21:45:16.718Z"
   },
   {
    "duration": 17,
    "start_time": "2023-08-31T21:45:16.837Z"
   },
   {
    "duration": 15,
    "start_time": "2023-08-31T21:45:16.856Z"
   },
   {
    "duration": 15,
    "start_time": "2023-08-31T21:45:16.873Z"
   },
   {
    "duration": 42,
    "start_time": "2023-08-31T21:45:16.891Z"
   },
   {
    "duration": 88,
    "start_time": "2023-08-31T21:45:16.935Z"
   },
   {
    "duration": 1685,
    "start_time": "2023-08-31T21:45:58.983Z"
   },
   {
    "duration": 959,
    "start_time": "2023-08-31T21:46:00.670Z"
   },
   {
    "duration": 20,
    "start_time": "2023-08-31T21:46:01.633Z"
   },
   {
    "duration": 44,
    "start_time": "2023-08-31T21:46:01.655Z"
   },
   {
    "duration": 190,
    "start_time": "2023-08-31T21:46:01.702Z"
   },
   {
    "duration": 334,
    "start_time": "2023-08-31T21:46:01.894Z"
   },
   {
    "duration": 142,
    "start_time": "2023-08-31T21:46:02.231Z"
   },
   {
    "duration": 438,
    "start_time": "2023-08-31T21:46:02.375Z"
   },
   {
    "duration": 749,
    "start_time": "2023-08-31T21:46:02.817Z"
   },
   {
    "duration": 462,
    "start_time": "2023-08-31T21:46:03.568Z"
   },
   {
    "duration": 1728,
    "start_time": "2023-08-31T21:46:04.033Z"
   },
   {
    "duration": 688,
    "start_time": "2023-08-31T21:46:05.763Z"
   },
   {
    "duration": 9,
    "start_time": "2023-08-31T21:46:06.453Z"
   },
   {
    "duration": 64,
    "start_time": "2023-08-31T21:46:06.466Z"
   },
   {
    "duration": 46,
    "start_time": "2023-08-31T21:46:06.532Z"
   },
   {
    "duration": 8,
    "start_time": "2023-08-31T21:46:06.580Z"
   },
   {
    "duration": 59,
    "start_time": "2023-08-31T21:46:06.589Z"
   },
   {
    "duration": 7,
    "start_time": "2023-08-31T21:46:06.650Z"
   },
   {
    "duration": 28,
    "start_time": "2023-08-31T21:46:06.659Z"
   },
   {
    "duration": 42,
    "start_time": "2023-08-31T21:46:06.689Z"
   },
   {
    "duration": 11,
    "start_time": "2023-08-31T21:46:06.733Z"
   },
   {
    "duration": 21,
    "start_time": "2023-08-31T21:46:06.746Z"
   },
   {
    "duration": 93,
    "start_time": "2023-08-31T21:46:06.769Z"
   },
   {
    "duration": 41,
    "start_time": "2023-08-31T21:46:06.864Z"
   },
   {
    "duration": 47,
    "start_time": "2023-08-31T21:46:06.907Z"
   },
   {
    "duration": 35,
    "start_time": "2023-08-31T21:46:06.956Z"
   },
   {
    "duration": 49,
    "start_time": "2023-08-31T21:46:06.993Z"
   },
   {
    "duration": 39,
    "start_time": "2023-08-31T21:46:07.044Z"
   },
   {
    "duration": 84,
    "start_time": "2023-08-31T21:46:07.085Z"
   },
   {
    "duration": 535084,
    "start_time": "2023-08-31T21:46:07.171Z"
   },
   {
    "duration": 4040,
    "start_time": "2023-08-31T22:00:01.228Z"
   },
   {
    "duration": 3018,
    "start_time": "2023-08-31T22:00:14.266Z"
   },
   {
    "duration": 1587,
    "start_time": "2023-08-31T22:00:17.287Z"
   },
   {
    "duration": 983,
    "start_time": "2023-08-31T22:00:18.876Z"
   },
   {
    "duration": 18,
    "start_time": "2023-08-31T22:00:19.862Z"
   },
   {
    "duration": 5,
    "start_time": "2023-08-31T22:00:19.882Z"
   },
   {
    "duration": 189,
    "start_time": "2023-08-31T22:00:19.888Z"
   },
   {
    "duration": 338,
    "start_time": "2023-08-31T22:00:20.079Z"
   },
   {
    "duration": 111,
    "start_time": "2023-08-31T22:00:20.420Z"
   },
   {
    "duration": 361,
    "start_time": "2023-08-31T22:00:20.534Z"
   },
   {
    "duration": 703,
    "start_time": "2023-08-31T22:00:20.900Z"
   },
   {
    "duration": 459,
    "start_time": "2023-08-31T22:00:21.604Z"
   },
   {
    "duration": 1796,
    "start_time": "2023-08-31T22:00:22.064Z"
   },
   {
    "duration": 726,
    "start_time": "2023-08-31T22:00:23.863Z"
   },
   {
    "duration": 19,
    "start_time": "2023-08-31T22:00:24.592Z"
   },
   {
    "duration": 30,
    "start_time": "2023-08-31T22:00:24.613Z"
   },
   {
    "duration": 67,
    "start_time": "2023-08-31T22:00:24.644Z"
   },
   {
    "duration": 9,
    "start_time": "2023-08-31T22:00:24.717Z"
   },
   {
    "duration": 31,
    "start_time": "2023-08-31T22:00:24.730Z"
   },
   {
    "duration": 8,
    "start_time": "2023-08-31T22:00:24.763Z"
   },
   {
    "duration": 45,
    "start_time": "2023-08-31T22:00:24.773Z"
   },
   {
    "duration": 19,
    "start_time": "2023-08-31T22:00:24.827Z"
   },
   {
    "duration": 11,
    "start_time": "2023-08-31T22:00:24.849Z"
   },
   {
    "duration": 16,
    "start_time": "2023-08-31T22:00:24.862Z"
   },
   {
    "duration": 93,
    "start_time": "2023-08-31T22:00:24.882Z"
   },
   {
    "duration": 19,
    "start_time": "2023-08-31T22:00:24.977Z"
   },
   {
    "duration": 36,
    "start_time": "2023-08-31T22:00:24.998Z"
   },
   {
    "duration": 16,
    "start_time": "2023-08-31T22:00:25.036Z"
   },
   {
    "duration": 14,
    "start_time": "2023-08-31T22:00:25.055Z"
   },
   {
    "duration": 14,
    "start_time": "2023-08-31T22:00:25.071Z"
   },
   {
    "duration": 92,
    "start_time": "2023-08-31T22:00:25.087Z"
   },
   {
    "duration": 3217,
    "start_time": "2023-08-31T22:01:01.504Z"
   },
   {
    "duration": 2691,
    "start_time": "2023-08-31T22:02:56.587Z"
   },
   {
    "duration": 1758,
    "start_time": "2023-08-31T22:02:59.282Z"
   },
   {
    "duration": 961,
    "start_time": "2023-08-31T22:03:01.041Z"
   },
   {
    "duration": 32,
    "start_time": "2023-08-31T22:03:02.005Z"
   },
   {
    "duration": 8,
    "start_time": "2023-08-31T22:03:02.039Z"
   },
   {
    "duration": 195,
    "start_time": "2023-08-31T22:03:02.049Z"
   },
   {
    "duration": 396,
    "start_time": "2023-08-31T22:03:02.246Z"
   },
   {
    "duration": 125,
    "start_time": "2023-08-31T22:03:02.644Z"
   },
   {
    "duration": 366,
    "start_time": "2023-08-31T22:03:02.771Z"
   },
   {
    "duration": 695,
    "start_time": "2023-08-31T22:03:03.139Z"
   },
   {
    "duration": 447,
    "start_time": "2023-08-31T22:03:03.835Z"
   },
   {
    "duration": 1639,
    "start_time": "2023-08-31T22:03:04.283Z"
   },
   {
    "duration": 671,
    "start_time": "2023-08-31T22:03:05.925Z"
   },
   {
    "duration": 9,
    "start_time": "2023-08-31T22:03:06.600Z"
   },
   {
    "duration": 52,
    "start_time": "2023-08-31T22:03:06.611Z"
   },
   {
    "duration": 59,
    "start_time": "2023-08-31T22:03:06.665Z"
   },
   {
    "duration": 6,
    "start_time": "2023-08-31T22:03:06.727Z"
   },
   {
    "duration": 41,
    "start_time": "2023-08-31T22:03:06.735Z"
   },
   {
    "duration": 7,
    "start_time": "2023-08-31T22:03:06.778Z"
   },
   {
    "duration": 23,
    "start_time": "2023-08-31T22:03:06.787Z"
   },
   {
    "duration": 29,
    "start_time": "2023-08-31T22:03:06.814Z"
   },
   {
    "duration": 12,
    "start_time": "2023-08-31T22:03:06.846Z"
   },
   {
    "duration": 30,
    "start_time": "2023-08-31T22:03:06.860Z"
   },
   {
    "duration": 92,
    "start_time": "2023-08-31T22:03:06.892Z"
   },
   {
    "duration": 13,
    "start_time": "2023-08-31T22:03:06.987Z"
   },
   {
    "duration": 33,
    "start_time": "2023-08-31T22:03:07.002Z"
   },
   {
    "duration": 21,
    "start_time": "2023-08-31T22:03:07.036Z"
   },
   {
    "duration": 18,
    "start_time": "2023-08-31T22:03:07.058Z"
   },
   {
    "duration": 17,
    "start_time": "2023-08-31T22:03:07.078Z"
   },
   {
    "duration": 75,
    "start_time": "2023-08-31T22:03:07.097Z"
   },
   {
    "duration": 515039,
    "start_time": "2023-08-31T22:03:07.174Z"
   },
   {
    "duration": 304096,
    "start_time": "2023-08-31T22:11:42.217Z"
   },
   {
    "duration": 399736,
    "start_time": "2023-08-31T22:16:46.315Z"
   },
   {
    "duration": 6,
    "start_time": "2023-08-31T22:23:26.053Z"
   },
   {
    "duration": 148,
    "start_time": "2023-08-31T22:23:26.061Z"
   },
   {
    "duration": 710,
    "start_time": "2023-08-31T22:23:26.211Z"
   },
   {
    "duration": 690,
    "start_time": "2023-09-03T19:28:53.034Z"
   },
   {
    "duration": 25,
    "start_time": "2023-09-03T19:29:08.310Z"
   },
   {
    "duration": 24697,
    "start_time": "2023-09-03T19:29:53.952Z"
   },
   {
    "duration": 5749,
    "start_time": "2023-09-03T19:31:11.582Z"
   },
   {
    "duration": 3685,
    "start_time": "2023-09-03T19:31:22.849Z"
   },
   {
    "duration": 3401,
    "start_time": "2023-09-03T19:32:13.279Z"
   },
   {
    "duration": 245,
    "start_time": "2023-09-03T19:32:40.078Z"
   },
   {
    "duration": 4418,
    "start_time": "2023-09-03T19:33:18.654Z"
   },
   {
    "duration": 3495,
    "start_time": "2023-09-03T19:33:23.075Z"
   },
   {
    "duration": 3289,
    "start_time": "2023-09-03T19:33:26.575Z"
   },
   {
    "duration": 3657,
    "start_time": "2023-09-03T19:33:29.867Z"
   },
   {
    "duration": 3308,
    "start_time": "2023-09-03T19:33:33.529Z"
   },
   {
    "duration": 2007,
    "start_time": "2023-09-03T19:33:36.838Z"
   },
   {
    "duration": 30,
    "start_time": "2023-09-03T19:33:38.848Z"
   },
   {
    "duration": 8,
    "start_time": "2023-09-03T19:33:38.881Z"
   },
   {
    "duration": 246,
    "start_time": "2023-09-03T19:33:38.891Z"
   },
   {
    "duration": 484,
    "start_time": "2023-09-03T19:33:39.144Z"
   },
   {
    "duration": 170,
    "start_time": "2023-09-03T19:33:39.631Z"
   },
   {
    "duration": 463,
    "start_time": "2023-09-03T19:33:39.803Z"
   },
   {
    "duration": 849,
    "start_time": "2023-09-03T19:33:40.268Z"
   },
   {
    "duration": 546,
    "start_time": "2023-09-03T19:33:41.119Z"
   },
   {
    "duration": 1906,
    "start_time": "2023-09-03T19:33:41.667Z"
   },
   {
    "duration": 41232,
    "start_time": "2023-09-03T19:35:06.380Z"
   },
   {
    "duration": 32998,
    "start_time": "2023-09-03T19:36:47.386Z"
   },
   {
    "duration": 3077,
    "start_time": "2023-09-03T19:38:52.968Z"
   },
   {
    "duration": 3138,
    "start_time": "2023-09-03T19:38:56.047Z"
   },
   {
    "duration": 2987,
    "start_time": "2023-09-03T19:38:59.187Z"
   },
   {
    "duration": 3237,
    "start_time": "2023-09-03T19:39:02.177Z"
   },
   {
    "duration": 2753,
    "start_time": "2023-09-03T19:39:05.417Z"
   },
   {
    "duration": 1084,
    "start_time": "2023-09-03T19:39:08.172Z"
   },
   {
    "duration": 20,
    "start_time": "2023-09-03T19:39:09.258Z"
   },
   {
    "duration": 6,
    "start_time": "2023-09-03T19:39:09.281Z"
   },
   {
    "duration": 212,
    "start_time": "2023-09-03T19:39:09.288Z"
   },
   {
    "duration": 348,
    "start_time": "2023-09-03T19:39:09.503Z"
   },
   {
    "duration": 131,
    "start_time": "2023-09-03T19:39:09.854Z"
   },
   {
    "duration": 453,
    "start_time": "2023-09-03T19:39:09.988Z"
   },
   {
    "duration": 821,
    "start_time": "2023-09-03T19:39:10.444Z"
   },
   {
    "duration": 500,
    "start_time": "2023-09-03T19:39:11.267Z"
   },
   {
    "duration": 1805,
    "start_time": "2023-09-03T19:39:11.768Z"
   },
   {
    "duration": 33931,
    "start_time": "2023-09-03T19:39:17.512Z"
   },
   {
    "duration": 4,
    "start_time": "2023-09-03T19:44:00.376Z"
   },
   {
    "duration": 5,
    "start_time": "2023-09-03T19:46:04.193Z"
   },
   {
    "duration": 3792,
    "start_time": "2023-09-03T19:50:43.258Z"
   },
   {
    "duration": 2984,
    "start_time": "2023-09-03T19:50:47.052Z"
   },
   {
    "duration": 1979,
    "start_time": "2023-09-03T19:50:50.040Z"
   },
   {
    "duration": 1227,
    "start_time": "2023-09-03T19:50:52.022Z"
   },
   {
    "duration": 37,
    "start_time": "2023-09-03T19:50:53.259Z"
   },
   {
    "duration": 6,
    "start_time": "2023-09-03T19:50:53.298Z"
   },
   {
    "duration": 257,
    "start_time": "2023-09-03T19:50:53.306Z"
   },
   {
    "duration": 370,
    "start_time": "2023-09-03T19:50:53.569Z"
   },
   {
    "duration": 131,
    "start_time": "2023-09-03T19:50:53.945Z"
   },
   {
    "duration": 424,
    "start_time": "2023-09-03T19:50:54.079Z"
   },
   {
    "duration": 944,
    "start_time": "2023-09-03T19:50:54.504Z"
   },
   {
    "duration": 608,
    "start_time": "2023-09-03T19:50:55.450Z"
   },
   {
    "duration": 1768,
    "start_time": "2023-09-03T19:50:56.060Z"
   },
   {
    "duration": 39035,
    "start_time": "2023-09-03T19:50:57.832Z"
   },
   {
    "duration": 5,
    "start_time": "2023-09-03T19:51:36.870Z"
   },
   {
    "duration": 6,
    "start_time": "2023-09-03T19:51:36.877Z"
   },
   {
    "duration": 846,
    "start_time": "2023-09-03T20:03:03.467Z"
   },
   {
    "duration": 12,
    "start_time": "2023-09-03T20:03:10.131Z"
   },
   {
    "duration": 41,
    "start_time": "2023-09-03T20:03:12.690Z"
   },
   {
    "duration": 50,
    "start_time": "2023-09-03T20:03:17.056Z"
   },
   {
    "duration": 156,
    "start_time": "2023-09-03T20:06:55.442Z"
   },
   {
    "duration": 451,
    "start_time": "2023-09-03T20:07:41.375Z"
   },
   {
    "duration": 23,
    "start_time": "2023-09-03T20:07:53.458Z"
   },
   {
    "duration": 19,
    "start_time": "2023-09-03T20:32:40.554Z"
   },
   {
    "duration": 317,
    "start_time": "2023-09-03T20:33:31.686Z"
   },
   {
    "duration": 382,
    "start_time": "2023-09-03T20:34:13.586Z"
   },
   {
    "duration": 60,
    "start_time": "2023-09-03T20:35:04.456Z"
   },
   {
    "duration": 395,
    "start_time": "2023-09-03T20:37:45.237Z"
   },
   {
    "duration": 397,
    "start_time": "2023-09-03T20:38:54.440Z"
   },
   {
    "duration": 537,
    "start_time": "2023-09-03T20:39:41.268Z"
   },
   {
    "duration": 363,
    "start_time": "2023-09-03T20:39:49.958Z"
   },
   {
    "duration": 3208,
    "start_time": "2023-09-04T06:05:04.209Z"
   },
   {
    "duration": 3971,
    "start_time": "2023-09-04T06:05:07.419Z"
   },
   {
    "duration": 1639,
    "start_time": "2023-09-04T06:05:11.393Z"
   },
   {
    "duration": 1050,
    "start_time": "2023-09-04T06:05:13.033Z"
   },
   {
    "duration": 15,
    "start_time": "2023-09-04T06:05:14.085Z"
   },
   {
    "duration": 20,
    "start_time": "2023-09-04T06:05:14.101Z"
   },
   {
    "duration": 148,
    "start_time": "2023-09-04T06:05:14.122Z"
   },
   {
    "duration": 2329,
    "start_time": "2023-09-04T06:05:14.272Z"
   },
   {
    "duration": 1,
    "start_time": "2023-09-04T06:05:16.602Z"
   },
   {
    "duration": 0,
    "start_time": "2023-09-04T06:05:16.604Z"
   },
   {
    "duration": 0,
    "start_time": "2023-09-04T06:05:16.605Z"
   },
   {
    "duration": 0,
    "start_time": "2023-09-04T06:05:16.606Z"
   },
   {
    "duration": 0,
    "start_time": "2023-09-04T06:05:16.608Z"
   },
   {
    "duration": 0,
    "start_time": "2023-09-04T06:05:16.609Z"
   },
   {
    "duration": 0,
    "start_time": "2023-09-04T06:05:16.610Z"
   },
   {
    "duration": 0,
    "start_time": "2023-09-04T06:05:16.611Z"
   },
   {
    "duration": 0,
    "start_time": "2023-09-04T06:05:16.612Z"
   },
   {
    "duration": 0,
    "start_time": "2023-09-04T06:05:16.613Z"
   },
   {
    "duration": 0,
    "start_time": "2023-09-04T06:05:16.615Z"
   },
   {
    "duration": 0,
    "start_time": "2023-09-04T06:05:16.616Z"
   },
   {
    "duration": 0,
    "start_time": "2023-09-04T06:05:16.617Z"
   },
   {
    "duration": 0,
    "start_time": "2023-09-04T06:05:16.618Z"
   },
   {
    "duration": 0,
    "start_time": "2023-09-04T06:05:16.619Z"
   },
   {
    "duration": 0,
    "start_time": "2023-09-04T06:05:16.620Z"
   },
   {
    "duration": 0,
    "start_time": "2023-09-04T06:05:16.622Z"
   },
   {
    "duration": 0,
    "start_time": "2023-09-04T06:05:16.623Z"
   },
   {
    "duration": 0,
    "start_time": "2023-09-04T06:05:16.624Z"
   },
   {
    "duration": 0,
    "start_time": "2023-09-04T06:05:16.625Z"
   },
   {
    "duration": 0,
    "start_time": "2023-09-04T06:05:16.626Z"
   },
   {
    "duration": 0,
    "start_time": "2023-09-04T06:05:16.627Z"
   },
   {
    "duration": 0,
    "start_time": "2023-09-04T06:05:16.628Z"
   },
   {
    "duration": 0,
    "start_time": "2023-09-04T06:05:16.629Z"
   },
   {
    "duration": 0,
    "start_time": "2023-09-04T06:05:16.630Z"
   },
   {
    "duration": 0,
    "start_time": "2023-09-04T06:05:16.631Z"
   },
   {
    "duration": 0,
    "start_time": "2023-09-04T06:05:16.632Z"
   },
   {
    "duration": 189,
    "start_time": "2023-09-04T06:06:10.214Z"
   },
   {
    "duration": 2408,
    "start_time": "2023-09-04T06:06:25.354Z"
   },
   {
    "duration": 2173,
    "start_time": "2023-09-04T06:06:27.764Z"
   },
   {
    "duration": 1685,
    "start_time": "2023-09-04T06:06:29.939Z"
   },
   {
    "duration": 762,
    "start_time": "2023-09-04T06:06:31.626Z"
   },
   {
    "duration": 17,
    "start_time": "2023-09-04T06:06:32.389Z"
   },
   {
    "duration": 4,
    "start_time": "2023-09-04T06:06:32.408Z"
   },
   {
    "duration": 161,
    "start_time": "2023-09-04T06:06:32.414Z"
   },
   {
    "duration": 193,
    "start_time": "2023-09-04T06:06:32.576Z"
   },
   {
    "duration": 103,
    "start_time": "2023-09-04T06:06:32.771Z"
   },
   {
    "duration": 296,
    "start_time": "2023-09-04T06:06:32.877Z"
   },
   {
    "duration": 600,
    "start_time": "2023-09-04T06:06:33.175Z"
   },
   {
    "duration": 396,
    "start_time": "2023-09-04T06:06:33.777Z"
   },
   {
    "duration": 1399,
    "start_time": "2023-09-04T06:06:34.175Z"
   },
   {
    "duration": 24988,
    "start_time": "2023-09-04T06:06:35.576Z"
   },
   {
    "duration": 3,
    "start_time": "2023-09-04T06:07:00.566Z"
   },
   {
    "duration": 17,
    "start_time": "2023-09-04T06:07:00.570Z"
   },
   {
    "duration": 637,
    "start_time": "2023-09-04T06:07:00.588Z"
   },
   {
    "duration": 7,
    "start_time": "2023-09-04T06:07:01.226Z"
   },
   {
    "duration": 160,
    "start_time": "2023-09-04T06:07:01.234Z"
   },
   {
    "duration": 0,
    "start_time": "2023-09-04T06:07:01.396Z"
   },
   {
    "duration": 0,
    "start_time": "2023-09-04T06:07:01.398Z"
   },
   {
    "duration": 0,
    "start_time": "2023-09-04T06:07:01.399Z"
   },
   {
    "duration": 0,
    "start_time": "2023-09-04T06:07:01.400Z"
   },
   {
    "duration": 0,
    "start_time": "2023-09-04T06:07:01.401Z"
   },
   {
    "duration": 0,
    "start_time": "2023-09-04T06:07:01.403Z"
   },
   {
    "duration": 0,
    "start_time": "2023-09-04T06:07:01.404Z"
   },
   {
    "duration": 0,
    "start_time": "2023-09-04T06:07:01.405Z"
   },
   {
    "duration": 0,
    "start_time": "2023-09-04T06:07:01.407Z"
   },
   {
    "duration": 0,
    "start_time": "2023-09-04T06:07:01.408Z"
   },
   {
    "duration": 0,
    "start_time": "2023-09-04T06:07:01.409Z"
   },
   {
    "duration": 0,
    "start_time": "2023-09-04T06:07:01.410Z"
   },
   {
    "duration": 0,
    "start_time": "2023-09-04T06:07:01.411Z"
   },
   {
    "duration": 0,
    "start_time": "2023-09-04T06:07:01.412Z"
   },
   {
    "duration": 0,
    "start_time": "2023-09-04T06:07:01.413Z"
   },
   {
    "duration": 0,
    "start_time": "2023-09-04T06:07:01.414Z"
   },
   {
    "duration": 2200,
    "start_time": "2023-09-04T06:09:49.032Z"
   },
   {
    "duration": 1981,
    "start_time": "2023-09-04T06:09:51.235Z"
   },
   {
    "duration": 1415,
    "start_time": "2023-09-04T06:09:53.218Z"
   },
   {
    "duration": 740,
    "start_time": "2023-09-04T06:09:54.634Z"
   },
   {
    "duration": 17,
    "start_time": "2023-09-04T06:09:55.376Z"
   },
   {
    "duration": 46,
    "start_time": "2023-09-04T06:09:55.394Z"
   },
   {
    "duration": 148,
    "start_time": "2023-09-04T06:09:55.441Z"
   },
   {
    "duration": 192,
    "start_time": "2023-09-04T06:09:55.591Z"
   },
   {
    "duration": 104,
    "start_time": "2023-09-04T06:09:55.784Z"
   },
   {
    "duration": 357,
    "start_time": "2023-09-04T06:09:55.890Z"
   },
   {
    "duration": 662,
    "start_time": "2023-09-04T06:09:56.249Z"
   },
   {
    "duration": 361,
    "start_time": "2023-09-04T06:09:56.912Z"
   },
   {
    "duration": 1462,
    "start_time": "2023-09-04T06:09:57.275Z"
   },
   {
    "duration": 24753,
    "start_time": "2023-09-04T06:09:58.740Z"
   },
   {
    "duration": 3,
    "start_time": "2023-09-04T06:10:23.494Z"
   },
   {
    "duration": 11,
    "start_time": "2023-09-04T06:10:23.498Z"
   },
   {
    "duration": 579,
    "start_time": "2023-09-04T06:10:23.510Z"
   },
   {
    "duration": 7,
    "start_time": "2023-09-04T06:10:24.091Z"
   },
   {
    "duration": 53,
    "start_time": "2023-09-04T06:11:45.618Z"
   },
   {
    "duration": 5,
    "start_time": "2023-09-04T06:11:58.234Z"
   },
   {
    "duration": 2256,
    "start_time": "2023-09-04T06:14:29.642Z"
   },
   {
    "duration": 2075,
    "start_time": "2023-09-04T06:14:31.900Z"
   },
   {
    "duration": 1415,
    "start_time": "2023-09-04T06:14:33.977Z"
   },
   {
    "duration": 782,
    "start_time": "2023-09-04T06:14:35.394Z"
   },
   {
    "duration": 16,
    "start_time": "2023-09-04T06:14:36.178Z"
   },
   {
    "duration": 4,
    "start_time": "2023-09-04T06:14:36.196Z"
   },
   {
    "duration": 138,
    "start_time": "2023-09-04T06:14:36.202Z"
   },
   {
    "duration": 213,
    "start_time": "2023-09-04T06:14:36.342Z"
   },
   {
    "duration": 103,
    "start_time": "2023-09-04T06:14:36.556Z"
   },
   {
    "duration": 281,
    "start_time": "2023-09-04T06:14:36.661Z"
   },
   {
    "duration": 585,
    "start_time": "2023-09-04T06:14:36.944Z"
   },
   {
    "duration": 419,
    "start_time": "2023-09-04T06:14:37.531Z"
   },
   {
    "duration": 1247,
    "start_time": "2023-09-04T06:14:37.951Z"
   },
   {
    "duration": 27588,
    "start_time": "2023-09-04T06:14:39.200Z"
   },
   {
    "duration": 3,
    "start_time": "2023-09-04T06:15:06.790Z"
   },
   {
    "duration": 28,
    "start_time": "2023-09-04T06:15:06.794Z"
   },
   {
    "duration": 612,
    "start_time": "2023-09-04T06:15:06.824Z"
   },
   {
    "duration": 4,
    "start_time": "2023-09-04T06:15:07.438Z"
   },
   {
    "duration": 2172,
    "start_time": "2023-09-04T06:20:27.819Z"
   },
   {
    "duration": 2054,
    "start_time": "2023-09-04T06:20:29.993Z"
   },
   {
    "duration": 1453,
    "start_time": "2023-09-04T06:20:32.049Z"
   },
   {
    "duration": 730,
    "start_time": "2023-09-04T06:20:33.503Z"
   },
   {
    "duration": 17,
    "start_time": "2023-09-04T06:20:34.235Z"
   },
   {
    "duration": 5,
    "start_time": "2023-09-04T06:20:34.253Z"
   },
   {
    "duration": 129,
    "start_time": "2023-09-04T06:20:34.259Z"
   },
   {
    "duration": 260,
    "start_time": "2023-09-04T06:20:34.390Z"
   },
   {
    "duration": 88,
    "start_time": "2023-09-04T06:20:34.653Z"
   },
   {
    "duration": 275,
    "start_time": "2023-09-04T06:20:34.742Z"
   },
   {
    "duration": 530,
    "start_time": "2023-09-04T06:20:35.019Z"
   },
   {
    "duration": 337,
    "start_time": "2023-09-04T06:20:35.551Z"
   },
   {
    "duration": 1311,
    "start_time": "2023-09-04T06:20:35.889Z"
   },
   {
    "duration": 25197,
    "start_time": "2023-09-04T06:20:37.203Z"
   },
   {
    "duration": 3,
    "start_time": "2023-09-04T06:21:02.401Z"
   },
   {
    "duration": 7,
    "start_time": "2023-09-04T06:21:02.406Z"
   },
   {
    "duration": 653,
    "start_time": "2023-09-04T06:21:02.414Z"
   },
   {
    "duration": 6,
    "start_time": "2023-09-04T06:21:03.069Z"
   },
   {
    "duration": 25,
    "start_time": "2023-09-04T06:21:14.160Z"
   },
   {
    "duration": 42,
    "start_time": "2023-09-04T06:21:20.404Z"
   },
   {
    "duration": 114,
    "start_time": "2023-09-04T06:21:23.899Z"
   },
   {
    "duration": 20,
    "start_time": "2023-09-04T06:23:01.693Z"
   },
   {
    "duration": 2214,
    "start_time": "2023-09-04T06:23:38.062Z"
   },
   {
    "duration": 2110,
    "start_time": "2023-09-04T06:23:40.278Z"
   },
   {
    "duration": 1389,
    "start_time": "2023-09-04T06:23:42.390Z"
   },
   {
    "duration": 724,
    "start_time": "2023-09-04T06:23:43.781Z"
   },
   {
    "duration": 15,
    "start_time": "2023-09-04T06:23:44.507Z"
   },
   {
    "duration": 9,
    "start_time": "2023-09-04T06:23:44.523Z"
   },
   {
    "duration": 129,
    "start_time": "2023-09-04T06:23:44.533Z"
   },
   {
    "duration": 250,
    "start_time": "2023-09-04T06:23:44.664Z"
   },
   {
    "duration": 88,
    "start_time": "2023-09-04T06:23:44.915Z"
   },
   {
    "duration": 282,
    "start_time": "2023-09-04T06:23:45.004Z"
   },
   {
    "duration": 544,
    "start_time": "2023-09-04T06:23:45.288Z"
   },
   {
    "duration": 415,
    "start_time": "2023-09-04T06:23:45.834Z"
   },
   {
    "duration": 1279,
    "start_time": "2023-09-04T06:23:46.251Z"
   },
   {
    "duration": 25333,
    "start_time": "2023-09-04T06:23:47.533Z"
   },
   {
    "duration": 3,
    "start_time": "2023-09-04T06:24:12.869Z"
   },
   {
    "duration": 13,
    "start_time": "2023-09-04T06:24:12.874Z"
   },
   {
    "duration": 639,
    "start_time": "2023-09-04T06:24:12.889Z"
   },
   {
    "duration": 5,
    "start_time": "2023-09-04T06:24:13.530Z"
   },
   {
    "duration": 25,
    "start_time": "2023-09-04T06:24:13.550Z"
   },
   {
    "duration": 46,
    "start_time": "2023-09-04T06:24:13.577Z"
   },
   {
    "duration": 28,
    "start_time": "2023-09-04T06:24:13.625Z"
   },
   {
    "duration": 5,
    "start_time": "2023-09-04T06:24:13.655Z"
   },
   {
    "duration": 46,
    "start_time": "2023-09-04T06:24:13.661Z"
   },
   {
    "duration": 7,
    "start_time": "2023-09-04T06:24:13.708Z"
   },
   {
    "duration": 20,
    "start_time": "2023-09-04T06:24:13.716Z"
   },
   {
    "duration": 26,
    "start_time": "2023-09-04T06:24:13.738Z"
   },
   {
    "duration": 7,
    "start_time": "2023-09-04T06:24:13.765Z"
   },
   {
    "duration": 13,
    "start_time": "2023-09-04T06:24:13.774Z"
   },
   {
    "duration": 62,
    "start_time": "2023-09-04T06:24:13.789Z"
   },
   {
    "duration": 12,
    "start_time": "2023-09-04T06:24:13.852Z"
   },
   {
    "duration": 25,
    "start_time": "2023-09-04T06:24:13.865Z"
   },
   {
    "duration": 29,
    "start_time": "2023-09-04T06:24:13.896Z"
   },
   {
    "duration": 23,
    "start_time": "2023-09-04T06:24:13.926Z"
   },
   {
    "duration": 25,
    "start_time": "2023-09-04T06:24:13.950Z"
   },
   {
    "duration": 22,
    "start_time": "2023-09-04T06:24:13.976Z"
   },
   {
    "duration": 288,
    "start_time": "2023-09-04T06:24:38.382Z"
   },
   {
    "duration": 282,
    "start_time": "2023-09-04T06:25:06.854Z"
   },
   {
    "duration": 269,
    "start_time": "2023-09-04T06:25:16.941Z"
   },
   {
    "duration": 2301,
    "start_time": "2023-09-04T06:27:57.362Z"
   },
   {
    "duration": 2123,
    "start_time": "2023-09-04T06:27:59.665Z"
   },
   {
    "duration": 1443,
    "start_time": "2023-09-04T06:28:01.790Z"
   },
   {
    "duration": 794,
    "start_time": "2023-09-04T06:28:03.235Z"
   },
   {
    "duration": 32,
    "start_time": "2023-09-04T06:28:04.031Z"
   },
   {
    "duration": 5,
    "start_time": "2023-09-04T06:28:04.064Z"
   },
   {
    "duration": 142,
    "start_time": "2023-09-04T06:28:04.070Z"
   },
   {
    "duration": 282,
    "start_time": "2023-09-04T06:28:04.214Z"
   },
   {
    "duration": 93,
    "start_time": "2023-09-04T06:28:04.498Z"
   },
   {
    "duration": 321,
    "start_time": "2023-09-04T06:28:04.592Z"
   },
   {
    "duration": 571,
    "start_time": "2023-09-04T06:28:04.915Z"
   },
   {
    "duration": 376,
    "start_time": "2023-09-04T06:28:05.487Z"
   },
   {
    "duration": 1346,
    "start_time": "2023-09-04T06:28:05.864Z"
   },
   {
    "duration": 27989,
    "start_time": "2023-09-04T06:28:07.212Z"
   },
   {
    "duration": 3,
    "start_time": "2023-09-04T06:28:35.202Z"
   },
   {
    "duration": 26,
    "start_time": "2023-09-04T06:28:35.207Z"
   },
   {
    "duration": 656,
    "start_time": "2023-09-04T06:28:35.235Z"
   },
   {
    "duration": 6,
    "start_time": "2023-09-04T06:28:35.893Z"
   },
   {
    "duration": 70,
    "start_time": "2023-09-04T06:28:35.901Z"
   },
   {
    "duration": 46,
    "start_time": "2023-09-04T06:28:35.973Z"
   },
   {
    "duration": 38,
    "start_time": "2023-09-04T06:28:36.021Z"
   },
   {
    "duration": 8,
    "start_time": "2023-09-04T06:28:36.063Z"
   },
   {
    "duration": 42,
    "start_time": "2023-09-04T06:28:36.073Z"
   },
   {
    "duration": 8,
    "start_time": "2023-09-04T06:28:36.116Z"
   },
   {
    "duration": 28,
    "start_time": "2023-09-04T06:28:36.125Z"
   },
   {
    "duration": 21,
    "start_time": "2023-09-04T06:28:36.155Z"
   },
   {
    "duration": 9,
    "start_time": "2023-09-04T06:28:36.178Z"
   },
   {
    "duration": 16,
    "start_time": "2023-09-04T06:28:36.189Z"
   },
   {
    "duration": 85,
    "start_time": "2023-09-04T06:28:36.207Z"
   },
   {
    "duration": 17,
    "start_time": "2023-09-04T06:28:36.293Z"
   },
   {
    "duration": 14,
    "start_time": "2023-09-04T06:28:36.311Z"
   },
   {
    "duration": 14,
    "start_time": "2023-09-04T06:28:36.326Z"
   },
   {
    "duration": 27,
    "start_time": "2023-09-04T06:28:36.351Z"
   },
   {
    "duration": 16,
    "start_time": "2023-09-04T06:28:36.379Z"
   },
   {
    "duration": 16,
    "start_time": "2023-09-04T06:28:36.396Z"
   },
   {
    "duration": 310,
    "start_time": "2023-09-04T06:28:36.413Z"
   },
   {
    "duration": 299,
    "start_time": "2023-09-04T06:28:36.725Z"
   },
   {
    "duration": 50,
    "start_time": "2023-09-04T06:28:37.026Z"
   },
   {
    "duration": 84,
    "start_time": "2023-09-04T06:28:37.077Z"
   },
   {
    "duration": 128,
    "start_time": "2023-09-04T06:28:37.163Z"
   },
   {
    "duration": 0,
    "start_time": "2023-09-04T06:28:37.293Z"
   },
   {
    "duration": 0,
    "start_time": "2023-09-04T06:28:37.294Z"
   },
   {
    "duration": 0,
    "start_time": "2023-09-04T06:28:37.295Z"
   },
   {
    "duration": 2334,
    "start_time": "2023-09-04T06:31:33.749Z"
   },
   {
    "duration": 2042,
    "start_time": "2023-09-04T06:31:36.086Z"
   },
   {
    "duration": 1651,
    "start_time": "2023-09-04T06:31:38.130Z"
   },
   {
    "duration": 0,
    "start_time": "2023-09-04T06:31:39.784Z"
   },
   {
    "duration": 0,
    "start_time": "2023-09-04T06:31:39.785Z"
   },
   {
    "duration": 0,
    "start_time": "2023-09-04T06:31:39.786Z"
   },
   {
    "duration": 0,
    "start_time": "2023-09-04T06:31:39.787Z"
   },
   {
    "duration": 0,
    "start_time": "2023-09-04T06:31:39.788Z"
   },
   {
    "duration": 0,
    "start_time": "2023-09-04T06:31:39.789Z"
   },
   {
    "duration": 0,
    "start_time": "2023-09-04T06:31:39.790Z"
   },
   {
    "duration": 0,
    "start_time": "2023-09-04T06:31:39.791Z"
   },
   {
    "duration": 0,
    "start_time": "2023-09-04T06:31:39.792Z"
   },
   {
    "duration": 0,
    "start_time": "2023-09-04T06:31:39.793Z"
   },
   {
    "duration": 0,
    "start_time": "2023-09-04T06:31:39.794Z"
   },
   {
    "duration": 0,
    "start_time": "2023-09-04T06:31:39.795Z"
   },
   {
    "duration": 0,
    "start_time": "2023-09-04T06:31:39.796Z"
   },
   {
    "duration": 0,
    "start_time": "2023-09-04T06:31:39.797Z"
   },
   {
    "duration": 0,
    "start_time": "2023-09-04T06:31:39.798Z"
   },
   {
    "duration": 0,
    "start_time": "2023-09-04T06:31:39.799Z"
   },
   {
    "duration": 0,
    "start_time": "2023-09-04T06:31:39.800Z"
   },
   {
    "duration": 0,
    "start_time": "2023-09-04T06:31:39.801Z"
   },
   {
    "duration": 0,
    "start_time": "2023-09-04T06:31:39.802Z"
   },
   {
    "duration": 0,
    "start_time": "2023-09-04T06:31:39.803Z"
   },
   {
    "duration": 0,
    "start_time": "2023-09-04T06:31:39.804Z"
   },
   {
    "duration": 0,
    "start_time": "2023-09-04T06:31:39.805Z"
   },
   {
    "duration": 0,
    "start_time": "2023-09-04T06:31:39.805Z"
   },
   {
    "duration": 0,
    "start_time": "2023-09-04T06:31:39.806Z"
   },
   {
    "duration": 0,
    "start_time": "2023-09-04T06:31:39.807Z"
   },
   {
    "duration": 0,
    "start_time": "2023-09-04T06:31:39.808Z"
   },
   {
    "duration": 0,
    "start_time": "2023-09-04T06:31:39.809Z"
   },
   {
    "duration": 0,
    "start_time": "2023-09-04T06:31:39.850Z"
   },
   {
    "duration": 0,
    "start_time": "2023-09-04T06:31:39.851Z"
   },
   {
    "duration": 0,
    "start_time": "2023-09-04T06:31:39.852Z"
   },
   {
    "duration": 0,
    "start_time": "2023-09-04T06:31:39.853Z"
   },
   {
    "duration": 0,
    "start_time": "2023-09-04T06:31:39.854Z"
   },
   {
    "duration": 0,
    "start_time": "2023-09-04T06:31:39.855Z"
   },
   {
    "duration": 0,
    "start_time": "2023-09-04T06:31:39.856Z"
   },
   {
    "duration": 0,
    "start_time": "2023-09-04T06:31:39.857Z"
   },
   {
    "duration": 0,
    "start_time": "2023-09-04T06:31:39.858Z"
   },
   {
    "duration": 0,
    "start_time": "2023-09-04T06:31:39.859Z"
   },
   {
    "duration": 0,
    "start_time": "2023-09-04T06:31:39.860Z"
   },
   {
    "duration": 0,
    "start_time": "2023-09-04T06:31:39.861Z"
   },
   {
    "duration": 0,
    "start_time": "2023-09-04T06:31:39.862Z"
   },
   {
    "duration": 40,
    "start_time": "2023-09-04T06:32:45.675Z"
   },
   {
    "duration": 2377,
    "start_time": "2023-09-04T06:33:01.114Z"
   },
   {
    "duration": 2171,
    "start_time": "2023-09-04T06:33:03.493Z"
   },
   {
    "duration": 1402,
    "start_time": "2023-09-04T06:33:05.666Z"
   },
   {
    "duration": 744,
    "start_time": "2023-09-04T06:33:07.069Z"
   },
   {
    "duration": 15,
    "start_time": "2023-09-04T06:33:07.815Z"
   },
   {
    "duration": 31,
    "start_time": "2023-09-04T06:33:07.832Z"
   },
   {
    "duration": 150,
    "start_time": "2023-09-04T06:33:07.865Z"
   },
   {
    "duration": 255,
    "start_time": "2023-09-04T06:33:08.016Z"
   },
   {
    "duration": 88,
    "start_time": "2023-09-04T06:33:08.273Z"
   },
   {
    "duration": 362,
    "start_time": "2023-09-04T06:33:08.363Z"
   },
   {
    "duration": 539,
    "start_time": "2023-09-04T06:33:08.726Z"
   },
   {
    "duration": 341,
    "start_time": "2023-09-04T06:33:09.267Z"
   },
   {
    "duration": 1257,
    "start_time": "2023-09-04T06:33:09.609Z"
   },
   {
    "duration": 25777,
    "start_time": "2023-09-04T06:33:10.868Z"
   },
   {
    "duration": 3,
    "start_time": "2023-09-04T06:33:36.647Z"
   },
   {
    "duration": 11,
    "start_time": "2023-09-04T06:33:36.652Z"
   },
   {
    "duration": 631,
    "start_time": "2023-09-04T06:33:36.664Z"
   },
   {
    "duration": 5,
    "start_time": "2023-09-04T06:33:37.297Z"
   },
   {
    "duration": 28,
    "start_time": "2023-09-04T06:33:37.303Z"
   },
   {
    "duration": 51,
    "start_time": "2023-09-04T06:33:37.333Z"
   },
   {
    "duration": 19,
    "start_time": "2023-09-04T06:33:37.386Z"
   },
   {
    "duration": 5,
    "start_time": "2023-09-04T06:33:37.406Z"
   },
   {
    "duration": 51,
    "start_time": "2023-09-04T06:33:37.413Z"
   },
   {
    "duration": 7,
    "start_time": "2023-09-04T06:33:37.465Z"
   },
   {
    "duration": 16,
    "start_time": "2023-09-04T06:33:37.473Z"
   },
   {
    "duration": 17,
    "start_time": "2023-09-04T06:33:37.491Z"
   },
   {
    "duration": 8,
    "start_time": "2023-09-04T06:33:37.509Z"
   },
   {
    "duration": 37,
    "start_time": "2023-09-04T06:33:37.519Z"
   },
   {
    "duration": 55,
    "start_time": "2023-09-04T06:33:37.558Z"
   },
   {
    "duration": 11,
    "start_time": "2023-09-04T06:33:37.615Z"
   },
   {
    "duration": 28,
    "start_time": "2023-09-04T06:33:37.627Z"
   },
   {
    "duration": 26,
    "start_time": "2023-09-04T06:33:37.656Z"
   },
   {
    "duration": 12,
    "start_time": "2023-09-04T06:33:37.683Z"
   },
   {
    "duration": 13,
    "start_time": "2023-09-04T06:33:37.696Z"
   },
   {
    "duration": 48,
    "start_time": "2023-09-04T06:33:37.710Z"
   },
   {
    "duration": 284,
    "start_time": "2023-09-04T06:33:37.760Z"
   },
   {
    "duration": 289,
    "start_time": "2023-09-04T06:33:38.046Z"
   },
   {
    "duration": 44,
    "start_time": "2023-09-04T06:33:38.336Z"
   },
   {
    "duration": 87,
    "start_time": "2023-09-04T06:33:38.382Z"
   },
   {
    "duration": 326,
    "start_time": "2023-09-04T06:33:38.471Z"
   },
   {
    "duration": 690,
    "start_time": "2023-09-04T06:33:38.800Z"
   },
   {
    "duration": 0,
    "start_time": "2023-09-04T06:33:39.491Z"
   },
   {
    "duration": 0,
    "start_time": "2023-09-04T06:33:39.492Z"
   },
   {
    "duration": 548,
    "start_time": "2023-09-04T06:34:48.463Z"
   },
   {
    "duration": 16,
    "start_time": "2023-09-04T06:39:32.211Z"
   },
   {
    "duration": 23,
    "start_time": "2023-09-04T06:39:53.644Z"
   },
   {
    "duration": 2352,
    "start_time": "2023-09-04T06:40:49.635Z"
   },
   {
    "duration": 2167,
    "start_time": "2023-09-04T06:40:51.990Z"
   },
   {
    "duration": 1508,
    "start_time": "2023-09-04T06:40:54.159Z"
   },
   {
    "duration": 828,
    "start_time": "2023-09-04T06:40:55.668Z"
   },
   {
    "duration": 15,
    "start_time": "2023-09-04T06:40:56.498Z"
   },
   {
    "duration": 5,
    "start_time": "2023-09-04T06:40:56.514Z"
   },
   {
    "duration": 146,
    "start_time": "2023-09-04T06:40:56.520Z"
   },
   {
    "duration": 269,
    "start_time": "2023-09-04T06:40:56.668Z"
   },
   {
    "duration": 94,
    "start_time": "2023-09-04T06:40:56.939Z"
   },
   {
    "duration": 285,
    "start_time": "2023-09-04T06:40:57.035Z"
   },
   {
    "duration": 586,
    "start_time": "2023-09-04T06:40:57.321Z"
   },
   {
    "duration": 371,
    "start_time": "2023-09-04T06:40:57.909Z"
   },
   {
    "duration": 1374,
    "start_time": "2023-09-04T06:40:58.281Z"
   },
   {
    "duration": 27125,
    "start_time": "2023-09-04T06:40:59.658Z"
   },
   {
    "duration": 3,
    "start_time": "2023-09-04T06:41:26.784Z"
   },
   {
    "duration": 35,
    "start_time": "2023-09-04T06:41:26.788Z"
   },
   {
    "duration": 666,
    "start_time": "2023-09-04T06:41:26.824Z"
   },
   {
    "duration": 5,
    "start_time": "2023-09-04T06:41:27.491Z"
   },
   {
    "duration": 36,
    "start_time": "2023-09-04T06:41:27.498Z"
   },
   {
    "duration": 59,
    "start_time": "2023-09-04T06:41:27.536Z"
   },
   {
    "duration": 18,
    "start_time": "2023-09-04T06:41:27.596Z"
   },
   {
    "duration": 6,
    "start_time": "2023-09-04T06:41:27.616Z"
   },
   {
    "duration": 52,
    "start_time": "2023-09-04T06:41:27.623Z"
   },
   {
    "duration": 7,
    "start_time": "2023-09-04T06:41:27.676Z"
   },
   {
    "duration": 27,
    "start_time": "2023-09-04T06:41:27.684Z"
   },
   {
    "duration": 27,
    "start_time": "2023-09-04T06:41:27.713Z"
   },
   {
    "duration": 14,
    "start_time": "2023-09-04T06:41:27.741Z"
   },
   {
    "duration": 16,
    "start_time": "2023-09-04T06:41:27.756Z"
   },
   {
    "duration": 58,
    "start_time": "2023-09-04T06:41:27.773Z"
   },
   {
    "duration": 21,
    "start_time": "2023-09-04T06:41:27.832Z"
   },
   {
    "duration": 17,
    "start_time": "2023-09-04T06:41:27.861Z"
   },
   {
    "duration": 12,
    "start_time": "2023-09-04T06:41:27.879Z"
   },
   {
    "duration": 12,
    "start_time": "2023-09-04T06:41:27.893Z"
   },
   {
    "duration": 14,
    "start_time": "2023-09-04T06:41:27.906Z"
   },
   {
    "duration": 21,
    "start_time": "2023-09-04T06:41:27.921Z"
   },
   {
    "duration": 308,
    "start_time": "2023-09-04T06:41:27.949Z"
   },
   {
    "duration": 332,
    "start_time": "2023-09-04T06:41:28.259Z"
   },
   {
    "duration": 40,
    "start_time": "2023-09-04T06:41:28.592Z"
   },
   {
    "duration": 89,
    "start_time": "2023-09-04T06:41:28.634Z"
   },
   {
    "duration": 2202,
    "start_time": "2023-09-04T06:49:03.505Z"
   },
   {
    "duration": 2113,
    "start_time": "2023-09-04T06:49:05.709Z"
   },
   {
    "duration": 1464,
    "start_time": "2023-09-04T06:49:07.824Z"
   },
   {
    "duration": 724,
    "start_time": "2023-09-04T06:49:09.289Z"
   },
   {
    "duration": 15,
    "start_time": "2023-09-04T06:49:10.015Z"
   },
   {
    "duration": 18,
    "start_time": "2023-09-04T06:49:10.031Z"
   },
   {
    "duration": 137,
    "start_time": "2023-09-04T06:49:10.051Z"
   },
   {
    "duration": 254,
    "start_time": "2023-09-04T06:49:10.190Z"
   },
   {
    "duration": 90,
    "start_time": "2023-09-04T06:49:10.446Z"
   },
   {
    "duration": 274,
    "start_time": "2023-09-04T06:49:10.537Z"
   },
   {
    "duration": 561,
    "start_time": "2023-09-04T06:49:10.812Z"
   },
   {
    "duration": 350,
    "start_time": "2023-09-04T06:49:11.375Z"
   },
   {
    "duration": 1233,
    "start_time": "2023-09-04T06:49:11.726Z"
   },
   {
    "duration": 25100,
    "start_time": "2023-09-04T06:49:12.963Z"
   },
   {
    "duration": 3,
    "start_time": "2023-09-04T06:49:38.065Z"
   },
   {
    "duration": 13,
    "start_time": "2023-09-04T06:49:38.069Z"
   },
   {
    "duration": 657,
    "start_time": "2023-09-04T06:49:38.084Z"
   },
   {
    "duration": 8,
    "start_time": "2023-09-04T06:49:38.743Z"
   },
   {
    "duration": 35,
    "start_time": "2023-09-04T06:49:38.752Z"
   },
   {
    "duration": 46,
    "start_time": "2023-09-04T06:49:38.789Z"
   },
   {
    "duration": 30,
    "start_time": "2023-09-04T06:49:38.837Z"
   },
   {
    "duration": 6,
    "start_time": "2023-09-04T06:49:38.868Z"
   },
   {
    "duration": 41,
    "start_time": "2023-09-04T06:49:38.875Z"
   },
   {
    "duration": 6,
    "start_time": "2023-09-04T06:49:38.918Z"
   },
   {
    "duration": 28,
    "start_time": "2023-09-04T06:49:38.926Z"
   },
   {
    "duration": 19,
    "start_time": "2023-09-04T06:49:38.956Z"
   },
   {
    "duration": 9,
    "start_time": "2023-09-04T06:49:38.977Z"
   },
   {
    "duration": 15,
    "start_time": "2023-09-04T06:49:38.988Z"
   },
   {
    "duration": 93,
    "start_time": "2023-09-04T06:49:39.004Z"
   },
   {
    "duration": 11,
    "start_time": "2023-09-04T06:49:39.098Z"
   },
   {
    "duration": 47,
    "start_time": "2023-09-04T06:49:39.111Z"
   },
   {
    "duration": 14,
    "start_time": "2023-09-04T06:49:39.160Z"
   },
   {
    "duration": 35,
    "start_time": "2023-09-04T06:49:39.176Z"
   },
   {
    "duration": 29,
    "start_time": "2023-09-04T06:49:39.213Z"
   },
   {
    "duration": 18,
    "start_time": "2023-09-04T06:49:39.244Z"
   },
   {
    "duration": 279,
    "start_time": "2023-09-04T06:49:39.263Z"
   },
   {
    "duration": 287,
    "start_time": "2023-09-04T06:49:39.549Z"
   },
   {
    "duration": 43,
    "start_time": "2023-09-04T06:49:39.838Z"
   },
   {
    "duration": 83,
    "start_time": "2023-09-04T06:49:39.882Z"
   },
   {
    "duration": 318,
    "start_time": "2023-09-04T06:49:39.967Z"
   },
   {
    "duration": 396896,
    "start_time": "2023-09-04T06:49:51.387Z"
   },
   {
    "duration": 7970,
    "start_time": "2023-09-04T07:06:36.191Z"
   },
   {
    "duration": 114,
    "start_time": "2023-09-04T08:07:22.393Z"
   },
   {
    "duration": 378939,
    "start_time": "2023-09-04T08:07:32.186Z"
   },
   {
    "duration": 6,
    "start_time": "2023-09-04T08:29:46.083Z"
   },
   {
    "duration": 2241,
    "start_time": "2023-09-04T08:43:11.342Z"
   },
   {
    "duration": 2095,
    "start_time": "2023-09-04T08:43:13.585Z"
   },
   {
    "duration": 1477,
    "start_time": "2023-09-04T08:43:15.682Z"
   },
   {
    "duration": 729,
    "start_time": "2023-09-04T08:43:17.160Z"
   },
   {
    "duration": 16,
    "start_time": "2023-09-04T08:43:17.891Z"
   },
   {
    "duration": 16,
    "start_time": "2023-09-04T08:43:17.909Z"
   },
   {
    "duration": 158,
    "start_time": "2023-09-04T08:43:17.927Z"
   },
   {
    "duration": 275,
    "start_time": "2023-09-04T08:43:18.086Z"
   },
   {
    "duration": 89,
    "start_time": "2023-09-04T08:43:18.363Z"
   },
   {
    "duration": 273,
    "start_time": "2023-09-04T08:43:18.453Z"
   },
   {
    "duration": 577,
    "start_time": "2023-09-04T08:43:18.727Z"
   },
   {
    "duration": 393,
    "start_time": "2023-09-04T08:43:19.305Z"
   },
   {
    "duration": 1263,
    "start_time": "2023-09-04T08:43:19.699Z"
   },
   {
    "duration": 26060,
    "start_time": "2023-09-04T08:43:20.965Z"
   },
   {
    "duration": 3,
    "start_time": "2023-09-04T08:43:47.027Z"
   },
   {
    "duration": 10,
    "start_time": "2023-09-04T08:43:47.031Z"
   },
   {
    "duration": 644,
    "start_time": "2023-09-04T08:43:47.043Z"
   },
   {
    "duration": 6,
    "start_time": "2023-09-04T08:43:47.688Z"
   },
   {
    "duration": 32,
    "start_time": "2023-09-04T08:43:47.695Z"
   },
   {
    "duration": 72,
    "start_time": "2023-09-04T08:43:47.728Z"
   },
   {
    "duration": 21,
    "start_time": "2023-09-04T08:43:47.802Z"
   },
   {
    "duration": 6,
    "start_time": "2023-09-04T08:43:47.824Z"
   },
   {
    "duration": 29,
    "start_time": "2023-09-04T08:43:47.849Z"
   },
   {
    "duration": 7,
    "start_time": "2023-09-04T08:43:47.879Z"
   },
   {
    "duration": 14,
    "start_time": "2023-09-04T08:43:47.889Z"
   },
   {
    "duration": 48,
    "start_time": "2023-09-04T08:43:47.904Z"
   },
   {
    "duration": 8,
    "start_time": "2023-09-04T08:43:47.954Z"
   },
   {
    "duration": 13,
    "start_time": "2023-09-04T08:43:47.964Z"
   },
   {
    "duration": 70,
    "start_time": "2023-09-04T08:43:47.979Z"
   },
   {
    "duration": 11,
    "start_time": "2023-09-04T08:43:48.051Z"
   },
   {
    "duration": 25,
    "start_time": "2023-09-04T08:43:48.064Z"
   },
   {
    "duration": 16,
    "start_time": "2023-09-04T08:43:48.091Z"
   },
   {
    "duration": 16,
    "start_time": "2023-09-04T08:43:48.108Z"
   },
   {
    "duration": 14,
    "start_time": "2023-09-04T08:43:48.125Z"
   },
   {
    "duration": 24,
    "start_time": "2023-09-04T08:43:48.141Z"
   },
   {
    "duration": 303,
    "start_time": "2023-09-04T08:43:48.167Z"
   },
   {
    "duration": 304,
    "start_time": "2023-09-04T08:43:48.473Z"
   },
   {
    "duration": 44,
    "start_time": "2023-09-04T08:43:48.779Z"
   },
   {
    "duration": 86,
    "start_time": "2023-09-04T08:43:48.825Z"
   },
   {
    "duration": 688,
    "start_time": "2023-09-04T08:43:48.913Z"
   },
   {
    "duration": 398195,
    "start_time": "2023-09-04T08:43:49.605Z"
   },
   {
    "duration": 3,
    "start_time": "2023-09-04T08:50:27.802Z"
   },
   {
    "duration": 7859,
    "start_time": "2023-09-04T08:50:27.807Z"
   },
   {
    "duration": 363517,
    "start_time": "2023-09-04T08:50:35.668Z"
   },
   {
    "duration": 6,
    "start_time": "2023-09-04T08:56:39.187Z"
   },
   {
    "duration": 144,
    "start_time": "2023-09-04T08:56:39.194Z"
   },
   {
    "duration": 638,
    "start_time": "2023-09-04T08:56:39.340Z"
   }
  ],
  "kernelspec": {
   "display_name": "Python 3 (ipykernel)",
   "language": "python",
   "name": "python3"
  },
  "language_info": {
   "codemirror_mode": {
    "name": "ipython",
    "version": 3
   },
   "file_extension": ".py",
   "mimetype": "text/x-python",
   "name": "python",
   "nbconvert_exporter": "python",
   "pygments_lexer": "ipython3",
   "version": "3.10.12"
  },
  "toc": {
   "base_numbering": 1,
   "nav_menu": {},
   "number_sections": true,
   "sideBar": true,
   "skip_h1_title": true,
   "title_cell": "Table of Contents",
   "title_sidebar": "Contents",
   "toc_cell": false,
   "toc_position": {},
   "toc_section_display": true,
   "toc_window_display": false
  }
 },
 "nbformat": 4,
 "nbformat_minor": 2
}
